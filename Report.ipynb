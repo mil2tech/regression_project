{
 "cells": [
  {
   "cell_type": "markdown",
   "metadata": {},
   "source": [
    "# Determining the value of a home"
   ]
  },
  {
   "cell_type": "markdown",
   "metadata": {},
   "source": [
    "by Jarrid Jones 2022 July"
   ]
  },
  {
   "cell_type": "markdown",
   "metadata": {},
   "source": [
    "### Project Goal"
   ]
  },
  {
   "cell_type": "markdown",
   "metadata": {},
   "source": [
    "The goal of this project is to identify the drivers that determine the price of single family properties by constructing an ML Regression model. "
   ]
  },
  {
   "cell_type": "markdown",
   "metadata": {},
   "source": [
    "### Project Description"
   ]
  },
  {
   "cell_type": "markdown",
   "metadata": {},
   "source": [
    "The cost of living and inflation is on the rise. There is more a demand to purchase a home."
   ]
  },
  {
   "cell_type": "markdown",
   "metadata": {},
   "source": [
    "### Initial Questions"
   ]
  },
  {
   "cell_type": "markdown",
   "metadata": {},
   "source": [
    "\n",
    "- Does square footage (continuous variable) factor into the home value (continuous variable)?\n",
    "\n",
    "\n",
    "- Does the lot size (continuous variable) help impact the home value (continuous variable)?\n",
    "\n",
    "\n",
    "- Does having features like a garage size, pool, fire place, spa or hot tub (categorical variable) increase the home value (continuous variable)?\n",
    "\n",
    "\n",
    "- Does fips (categorical variable) of a home impacts the home value (continuous variable)?\n",
    "\n"
   ]
  },
  {
   "cell_type": "markdown",
   "metadata": {},
   "source": [
    "---"
   ]
  },
  {
   "cell_type": "markdown",
   "metadata": {},
   "source": [
    "### Data Dictionary"
   ]
  },
  {
   "cell_type": "markdown",
   "metadata": {},
   "source": [
    "|   Variable     |                  Meaning                   |\n",
    "| -------------- | ------------------------------------------ |\n",
    "| year           | The year the home was built                |\n",
    "| home_value     | The total tax assessed value of the parcel |\n",
    "| squarefeet     | The total square feet of a home            |\n",
    "| lot_size       | The total square feet of a property lot    |\n",
    "| fips           | Location of a home by county code          |\n",
    "| bedrooms       | The total number of bedrooms in a home     |\n",
    "| bathrooms      | The total number of bathrooms in a home    |\n",
    "| hashottuborspa | Is there a hot tub or spa in home          |\n",
    "| garagecarcount | The total number of car slots in a garage  |\n",
    "| fireplace      | Is there a fireplace in home               |\n",
    "| pool           | Is there a home pool                       |\n",
    "| fips_encoded   | The location of a home by county, encoded  |\n",
    "| home_age       | The age of the home since year built       |"
   ]
  },
  {
   "cell_type": "markdown",
   "metadata": {},
   "source": [
    " ---"
   ]
  },
  {
   "cell_type": "code",
   "execution_count": 1,
   "metadata": {},
   "outputs": [],
   "source": [
    "import pandas as pd\n",
    "import numpy as np\n",
    "import seaborn as sns\n",
    "import matplotlib.pyplot as plt\n",
    "from scipy.stats import pearsonr, spearmanr\n",
    "from sklearn.model_selection import train_test_split\n",
    "import sklearn.preprocessing\n",
    "from sklearn.preprocessing import MinMaxScaler, StandardScaler, RobustScaler\n",
    "from sklearn.feature_selection import RFE\n",
    "from acquire import get_db_url"
   ]
  },
  {
   "cell_type": "markdown",
   "metadata": {},
   "source": [
    "### Wrangle Zillow Data\n"
   ]
  },
  {
   "cell_type": "markdown",
   "metadata": {},
   "source": [
    "To acquire the zillow home data, I used the zillow_db in our mySQL server, and selected all columns from the customers, contract_types, internet_service, and payment_types table. \n",
    "\n",
    "\"\"\"\n",
    "\n",
    "            select yearbuilt, taxvaluedollarcnt, calculatedfinishedsquarefeet, lotsizesquarefeet, fips, regionidzip, bedroomcnt, bathroomcnt,hashottuborspa, garagecarcnt, fireplacecnt,poolcnt\n",
    "            from properties_2017 \n",
    "            left join propertylandusetype  using (propertylandusetypeid)\n",
    "            left join airconditioningtype  using (airconditioningtypeid)\n",
    "            left join buildingclasstype  using (buildingclasstypeid)\n",
    "            left join architecturalstyletype  using (architecturalstyletypeid)\n",
    "            right join predictions_2017  using (parcelid)\n",
    "            where propertylandusedesc = 'Single Family Residential'\n",
    "            and predictions_2017.transactiondate like \"2017%%\";\n",
    "                \n",
    "                \"\"\""
   ]
  },
  {
   "cell_type": "code",
   "execution_count": 2,
   "metadata": {},
   "outputs": [],
   "source": [
    "# acquire data from sql database \n",
    "import acquire\n",
    " \n",
    "# make the connection the database and run the query and return the table in the form of a dataframe. \n",
    "df = acquire.new_familyhome17_data()"
   ]
  },
  {
   "cell_type": "code",
   "execution_count": 3,
   "metadata": {},
   "outputs": [
    {
     "data": {
      "text/plain": [
       "(52441, 12)"
      ]
     },
     "execution_count": 3,
     "metadata": {},
     "output_type": "execute_result"
    }
   ],
   "source": [
    "df.shape"
   ]
  },
  {
   "cell_type": "code",
   "execution_count": 4,
   "metadata": {},
   "outputs": [
    {
     "data": {
      "text/html": [
       "<div>\n",
       "<style scoped>\n",
       "    .dataframe tbody tr th:only-of-type {\n",
       "        vertical-align: middle;\n",
       "    }\n",
       "\n",
       "    .dataframe tbody tr th {\n",
       "        vertical-align: top;\n",
       "    }\n",
       "\n",
       "    .dataframe thead th {\n",
       "        text-align: right;\n",
       "    }\n",
       "</style>\n",
       "<table border=\"1\" class=\"dataframe\">\n",
       "  <thead>\n",
       "    <tr style=\"text-align: right;\">\n",
       "      <th></th>\n",
       "      <th>yearbuilt</th>\n",
       "      <th>taxvaluedollarcnt</th>\n",
       "      <th>calculatedfinishedsquarefeet</th>\n",
       "      <th>lotsizesquarefeet</th>\n",
       "      <th>fips</th>\n",
       "      <th>regionidzip</th>\n",
       "      <th>bedroomcnt</th>\n",
       "      <th>bathroomcnt</th>\n",
       "      <th>hashottuborspa</th>\n",
       "      <th>garagecarcnt</th>\n",
       "      <th>fireplacecnt</th>\n",
       "      <th>poolcnt</th>\n",
       "    </tr>\n",
       "  </thead>\n",
       "  <tbody>\n",
       "    <tr>\n",
       "      <th>0</th>\n",
       "      <td>1998.0</td>\n",
       "      <td>1023282.0</td>\n",
       "      <td>3100.0</td>\n",
       "      <td>4506.0</td>\n",
       "      <td>6059.0</td>\n",
       "      <td>96978.0</td>\n",
       "      <td>4.0</td>\n",
       "      <td>3.5</td>\n",
       "      <td>NaN</td>\n",
       "      <td>2.0</td>\n",
       "      <td>NaN</td>\n",
       "      <td>NaN</td>\n",
       "    </tr>\n",
       "    <tr>\n",
       "      <th>1</th>\n",
       "      <td>1967.0</td>\n",
       "      <td>464000.0</td>\n",
       "      <td>1465.0</td>\n",
       "      <td>12647.0</td>\n",
       "      <td>6111.0</td>\n",
       "      <td>97099.0</td>\n",
       "      <td>2.0</td>\n",
       "      <td>1.0</td>\n",
       "      <td>NaN</td>\n",
       "      <td>1.0</td>\n",
       "      <td>1.0</td>\n",
       "      <td>NaN</td>\n",
       "    </tr>\n",
       "    <tr>\n",
       "      <th>2</th>\n",
       "      <td>1962.0</td>\n",
       "      <td>564778.0</td>\n",
       "      <td>1243.0</td>\n",
       "      <td>8432.0</td>\n",
       "      <td>6059.0</td>\n",
       "      <td>97078.0</td>\n",
       "      <td>3.0</td>\n",
       "      <td>2.0</td>\n",
       "      <td>NaN</td>\n",
       "      <td>2.0</td>\n",
       "      <td>NaN</td>\n",
       "      <td>1.0</td>\n",
       "    </tr>\n",
       "    <tr>\n",
       "      <th>3</th>\n",
       "      <td>1970.0</td>\n",
       "      <td>145143.0</td>\n",
       "      <td>2376.0</td>\n",
       "      <td>13038.0</td>\n",
       "      <td>6037.0</td>\n",
       "      <td>96330.0</td>\n",
       "      <td>4.0</td>\n",
       "      <td>3.0</td>\n",
       "      <td>NaN</td>\n",
       "      <td>NaN</td>\n",
       "      <td>NaN</td>\n",
       "      <td>1.0</td>\n",
       "    </tr>\n",
       "    <tr>\n",
       "      <th>4</th>\n",
       "      <td>1950.0</td>\n",
       "      <td>773303.0</td>\n",
       "      <td>2962.0</td>\n",
       "      <td>63000.0</td>\n",
       "      <td>6037.0</td>\n",
       "      <td>96293.0</td>\n",
       "      <td>4.0</td>\n",
       "      <td>3.0</td>\n",
       "      <td>NaN</td>\n",
       "      <td>NaN</td>\n",
       "      <td>NaN</td>\n",
       "      <td>1.0</td>\n",
       "    </tr>\n",
       "  </tbody>\n",
       "</table>\n",
       "</div>"
      ],
      "text/plain": [
       "   yearbuilt  taxvaluedollarcnt  calculatedfinishedsquarefeet  \\\n",
       "0     1998.0          1023282.0                        3100.0   \n",
       "1     1967.0           464000.0                        1465.0   \n",
       "2     1962.0           564778.0                        1243.0   \n",
       "3     1970.0           145143.0                        2376.0   \n",
       "4     1950.0           773303.0                        2962.0   \n",
       "\n",
       "   lotsizesquarefeet    fips  regionidzip  bedroomcnt  bathroomcnt  \\\n",
       "0             4506.0  6059.0      96978.0         4.0          3.5   \n",
       "1            12647.0  6111.0      97099.0         2.0          1.0   \n",
       "2             8432.0  6059.0      97078.0         3.0          2.0   \n",
       "3            13038.0  6037.0      96330.0         4.0          3.0   \n",
       "4            63000.0  6037.0      96293.0         4.0          3.0   \n",
       "\n",
       "   hashottuborspa  garagecarcnt  fireplacecnt  poolcnt  \n",
       "0             NaN           2.0           NaN      NaN  \n",
       "1             NaN           1.0           1.0      NaN  \n",
       "2             NaN           2.0           NaN      1.0  \n",
       "3             NaN           NaN           NaN      1.0  \n",
       "4             NaN           NaN           NaN      1.0  "
      ]
     },
     "execution_count": 4,
     "metadata": {},
     "output_type": "execute_result"
    }
   ],
   "source": [
    "df.head()"
   ]
  },
  {
   "cell_type": "markdown",
   "metadata": {},
   "source": [
    "**TAKEAWAYS**\n",
    "- Raw dataset has 52441 rows and  12 columns\n",
    "- Need to `poolcnt` fill null values with 0 \n",
    "- Need to fill `garagecarcnt` null values with 0\n",
    "- Need to fill `fireplacecnt` null values with 0\n",
    "- Need to fill `hashottuborspa` null values with 0"
   ]
  },
  {
   "cell_type": "markdown",
   "metadata": {},
   "source": [
    "### Prepare"
   ]
  },
  {
   "cell_type": "markdown",
   "metadata": {},
   "source": [
    "**To prepare and clean the data, I did the following in order:**\n",
    "\n",
    "Replaced null values with `0`: `poolcnt`, `garagecarcnt`, `fireplacecnt`, `hashottuborspa`\n",
    "\n",
    "Encode Varaibles in column: `fips`\n",
    "\n",
    "Data type change: `yearbuilt`,`fips` `regionidzip`, `bedroomcnt`, `hashottuborspa`, `garagecarcnt`, `fireplacecnt`, `poolcnt` to integer\n",
    "\n",
    "Drop columns: `regionidzip`\n",
    "\n",
    "Rename columns : {'yearbuilt':'year', 'taxvaluedollarcnt':'home_value', 'calculatedfinishedsquarefeet':'squarefeet', 'lotsizesquarefeet':'lot_size', 'bedroomcnt':'bedrooms', 'bathroomcnt':'bathrooms', 'fireplacecnt':'fireplace', 'poolcnt':'pool'}\n",
    "\n",
    "Encoded column: `fips` as `fips_encoded` 6059: 2, 6037: 1, 6111: 3\n",
    "\n",
    "Added new column:` home_age` = 2017 - df.year\n"
   ]
  },
  {
   "cell_type": "code",
   "execution_count": 5,
   "metadata": {},
   "outputs": [],
   "source": [
    "import prepare\n",
    "import pandas as pd\n",
    "# Importing cleaned dataframe\n",
    "df = prepare.prep_familyhome17()\n"
   ]
  },
  {
   "cell_type": "markdown",
   "metadata": {},
   "source": [
    "**TAKEAWAYS**\n",
    "\n",
    "- Refined dataset now is 51953 rows and 13 columns\n",
    "- All missing values are filled or drop \n",
    "\n",
    "Now time to split the dataset into 3 sample sizes `train` , `validate`, `test`"
   ]
  },
  {
   "cell_type": "markdown",
   "metadata": {},
   "source": [
    "### Split the Dataset"
   ]
  },
  {
   "cell_type": "code",
   "execution_count": 6,
   "metadata": {},
   "outputs": [
    {
     "name": "stdout",
     "output_type": "stream",
     "text": [
      "(29093, 13)\n",
      "(12469, 13)\n",
      "(10391, 13)\n"
     ]
    }
   ],
   "source": [
    "# spliting dataframe into 3 samples \n",
    "train, validate, test = prepare.split_familyhome17(df)\n",
    "\n",
    "# Verifcation of split data set\n",
    "print(train.shape)\n",
    "print(validate.shape)\n",
    "print(test.shape)"
   ]
  },
  {
   "cell_type": "markdown",
   "metadata": {},
   "source": [
    "**TAKEAWAYS**\n",
    "\n",
    "Our data is now split into 3 samples so that we can use the train sample to explore, fit to models and evaluate without looking at new data.\n",
    "\n",
    "The validate is used to verify that our models built are not overfit to the train dataset.\n",
    "\n",
    "The test set is used to give an estimate of how this model will perform on data is has never seen in the future.\n",
    "\n",
    "---\n"
   ]
  },
  {
   "cell_type": "markdown",
   "metadata": {},
   "source": [
    "### Set the Data Context"
   ]
  },
  {
   "cell_type": "markdown",
   "metadata": {},
   "source": [
    "73% of customers do not churn. We have data from 7043 customers, x of which are males, x of which traveled in 1st class, and the average fare of all passengers was $x.yy."
   ]
  },
  {
   "cell_type": "markdown",
   "metadata": {},
   "source": [
    "### build a viz here setting the context of the data \n",
    "\n",
    "\n",
    "---\n"
   ]
  },
  {
   "cell_type": "markdown",
   "metadata": {},
   "source": [
    "### Exploratory Analysis: What determines the value of a home?\n"
   ]
  },
  {
   "cell_type": "markdown",
   "metadata": {},
   "source": [
    "#### - Does square footage (continuous variable) factor into the home value (continuous variable)?\n",
    "\n",
    "Null Hypothosis - Square footage does not impact the home value.\n",
    "\n",
    "Alternate -  Square footage does impact the home value."
   ]
  },
  {
   "cell_type": "code",
   "execution_count": 7,
   "metadata": {},
   "outputs": [
    {
     "data": {
      "image/png": "[encoded data removed]",
      "text/plain": [
       "<Figure size 360x360 with 1 Axes>"
      ]
     },
     "metadata": {
      "needs_background": "light"
     },
     "output_type": "display_data"
    }
   ],
   "source": [
    "sns.relplot(x=\"squarefeet\", y=\"home_value\", data=train)\n",
    "plt.show()"
   ]
  },
  {
   "cell_type": "code",
   "execution_count": 8,
   "metadata": {},
   "outputs": [
    {
     "data": {
      "text/plain": [
       "<seaborn.axisgrid.JointGrid at 0x7f7c5827c5e0>"
      ]
     },
     "execution_count": 8,
     "metadata": {},
     "output_type": "execute_result"
    },
    {
     "data": {
      "image/png": "[encoded data removed]",
      "text/plain": [
       "<Figure size 432x432 with 3 Axes>"
      ]
     },
     "metadata": {
      "needs_background": "light"
     },
     "output_type": "display_data"
    }
   ],
   "source": [
    "sns.jointplot(x=\"squarefeet\", y=\"home_value\", data=train)\n"
   ]
  },
  {
   "cell_type": "code",
   "execution_count": 34,
   "metadata": {},
   "outputs": [
    {
     "name": "stdout",
     "output_type": "stream",
     "text": [
      "r = 0.6072500030108557\n",
      "p = 0.0\n",
      "We reject the hypothesis\n"
     ]
    }
   ],
   "source": [
    "alpha = .05\n",
    "\n",
    "x= train.squarefeet\n",
    "y = train.home_value\n",
    "\n",
    "r, p = stats.pearsonr(x, y)\n",
    "print('r =', r)\n",
    "print('p =', p)\n",
    "\n",
    "if p < alpha:\n",
    "    print(\"We reject the hypothesis\")\n",
    "else:\n",
    "    print(\"We fail to reject the null hypothesis\")"
   ]
  },
  {
   "cell_type": "markdown",
   "metadata": {},
   "source": [
    "Squarefeet is a factor of home value."
   ]
  },
  {
   "cell_type": "markdown",
   "metadata": {},
   "source": [
    "#### - Does the lot size (continuous variable) help impact the home value (continuous variable)?\n",
    "\n",
    "Null Hypothosis -  Square footage does impact the home value.\n",
    "\n",
    "Alternate -  Square footage does not impact the home value.\n"
   ]
  },
  {
   "cell_type": "code",
   "execution_count": 9,
   "metadata": {},
   "outputs": [
    {
     "data": {
      "text/plain": [
       "<seaborn.axisgrid.JointGrid at 0x7f7c58a4a190>"
      ]
     },
     "execution_count": 9,
     "metadata": {},
     "output_type": "execute_result"
    },
    {
     "data": {
      "image/png": "[encoded data removed]",
      "text/plain": [
       "<Figure size 432x432 with 3 Axes>"
      ]
     },
     "metadata": {
      "needs_background": "light"
     },
     "output_type": "display_data"
    }
   ],
   "source": [
    "sns.jointplot(x=\"lot_size\", y=\"home_value\", data=train)\n"
   ]
  },
  {
   "cell_type": "code",
   "execution_count": 35,
   "metadata": {},
   "outputs": [
    {
     "name": "stdout",
     "output_type": "stream",
     "text": [
      "r = 0.028472688329206127\n",
      "p = 1.1901611724770776e-06\n",
      "We reject the hypothesis\n"
     ]
    }
   ],
   "source": [
    "x= train.lot_size\n",
    "y = train.home_value\n",
    "\n",
    "r, p = stats.pearsonr(x, y)\n",
    "print('r =', r)\n",
    "print('p =', p)\n",
    "\n",
    "if p < alpha:\n",
    "    print(\"We reject the hypothesis\")\n",
    "else:\n",
    "    print(\"We fail to reject the null hypothesis\")"
   ]
  },
  {
   "cell_type": "markdown",
   "metadata": {},
   "source": [
    "#### - Does having features like a garage size, pool, fire place, spa or hot tub (categorical variable) increase the home value (continuous variable)?"
   ]
  },
  {
   "cell_type": "code",
   "execution_count": 10,
   "metadata": {},
   "outputs": [
    {
     "data": {
      "text/plain": [
       "<AxesSubplot:xlabel='garagecarcnt', ylabel='home_value'>"
      ]
     },
     "execution_count": 10,
     "metadata": {},
     "output_type": "execute_result"
    },
    {
     "data": {
      "image/png": "[encoded data removed]",
      "text/plain": [
       "<Figure size 432x288 with 1 Axes>"
      ]
     },
     "metadata": {
      "needs_background": "light"
     },
     "output_type": "display_data"
    }
   ],
   "source": [
    "# create a sample of train \n",
    "sample = train.sample(frac=0.05)\n",
    "\n",
    "sns.stripplot(x='garagecarcnt', y='home_value', data=sample)"
   ]
  },
  {
   "cell_type": "code",
   "execution_count": 11,
   "metadata": {},
   "outputs": [
    {
     "data": {
      "text/plain": [
       "<AxesSubplot:xlabel='garagecarcnt', ylabel='home_value'>"
      ]
     },
     "execution_count": 11,
     "metadata": {},
     "output_type": "execute_result"
    },
    {
     "data": {
      "image/png": "[encoded data removed]",
      "text/plain": [
       "<Figure size 432x288 with 1 Axes>"
      ]
     },
     "metadata": {
      "needs_background": "light"
     },
     "output_type": "display_data"
    }
   ],
   "source": [
    "sns.barplot(x='garagecarcnt', y='home_value', data=sample)"
   ]
  },
  {
   "cell_type": "code",
   "execution_count": null,
   "metadata": {},
   "outputs": [],
   "source": []
  },
  {
   "cell_type": "markdown",
   "metadata": {},
   "source": [
    "#### - Does fips (categorical variable) of a home impacts the home value (continuous variable)?"
   ]
  },
  {
   "cell_type": "code",
   "execution_count": 12,
   "metadata": {},
   "outputs": [
    {
     "name": "stderr",
     "output_type": "stream",
     "text": [
      "/usr/local/anaconda3/lib/python3.9/site-packages/seaborn/categorical.py:1296: UserWarning: 81.4% of the points cannot be placed; you may want to decrease the size of the markers or use stripplot.\n",
      "  warnings.warn(msg, UserWarning)\n",
      "/usr/local/anaconda3/lib/python3.9/site-packages/seaborn/categorical.py:1296: UserWarning: 68.0% of the points cannot be placed; you may want to decrease the size of the markers or use stripplot.\n",
      "  warnings.warn(msg, UserWarning)\n",
      "/usr/local/anaconda3/lib/python3.9/site-packages/seaborn/categorical.py:1296: UserWarning: 42.7% of the points cannot be placed; you may want to decrease the size of the markers or use stripplot.\n",
      "  warnings.warn(msg, UserWarning)\n"
     ]
    },
    {
     "data": {
      "text/plain": [
       "<AxesSubplot:xlabel='fips', ylabel='home_value'>"
      ]
     },
     "execution_count": 12,
     "metadata": {},
     "output_type": "execute_result"
    },
    {
     "data": {
      "image/png": "[encoded data removed]",
      "text/plain": [
       "<Figure size 432x288 with 1 Axes>"
      ]
     },
     "metadata": {
      "needs_background": "light"
     },
     "output_type": "display_data"
    }
   ],
   "source": [
    "# plot sample size of train \n",
    "sns.swarmplot(x='fips', y='home_value', data=sample)"
   ]
  },
  {
   "cell_type": "code",
   "execution_count": 13,
   "metadata": {},
   "outputs": [
    {
     "data": {
      "text/plain": [
       "<AxesSubplot:xlabel='fips', ylabel='home_value'>"
      ]
     },
     "execution_count": 13,
     "metadata": {},
     "output_type": "execute_result"
    },
    {
     "data": {
      "image/png": "[encoded data removed]",
      "text/plain": [
       "<Figure size 432x288 with 1 Axes>"
      ]
     },
     "metadata": {
      "needs_background": "light"
     },
     "output_type": "display_data"
    }
   ],
   "source": [
    "# Plot of the distribution of fips vs home value\n",
    "sns.barplot(x='fips', y='home_value', data=sample)"
   ]
  },
  {
   "cell_type": "code",
   "execution_count": 39,
   "metadata": {},
   "outputs": [
    {
     "name": "stdout",
     "output_type": "stream",
     "text": [
      "50541   -5.547425e+06\n",
      "22959   -8.695003e+05\n",
      "32939   -1.801241e+06\n",
      "26019   -1.707249e+07\n",
      "35209   -2.787167e+06\n",
      "             ...     \n",
      "38988   -3.453946e+06\n",
      "26488   -6.023872e+06\n",
      "16626   -3.700574e+06\n",
      "13378   -2.593624e+06\n",
      "19852   -3.237479e+06\n",
      "Name: home_value, Length: 29093, dtype: float64 [0. 0. 0. ... 0. 0. 0.] 0.05\n"
     ]
    },
    {
     "ename": "ValueError",
     "evalue": "The truth value of an array with more than one element is ambiguous. Use a.any() or a.all()",
     "output_type": "error",
     "traceback": [
      "\u001b[0;31m---------------------------------------------------------------------------\u001b[0m",
      "\u001b[0;31mValueError\u001b[0m                                Traceback (most recent call last)",
      "\u001b[1;32m/Users/swooshisdakid/codeup-data-science/regression_project/Report.ipynb Cell 46\u001b[0m in \u001b[0;36m<cell line: 8>\u001b[0;34m()\u001b[0m\n\u001b[1;32m      <a href='vscode-notebook-cell:/Users/swooshisdakid/codeup-data-science/regression_project/Report.ipynb#ch0000091?line=3'>4</a>\u001b[0m t, p \u001b[39m=\u001b[39m stats\u001b[39m.\u001b[39mttest_1samp(fips, hv)\n\u001b[1;32m      <a href='vscode-notebook-cell:/Users/swooshisdakid/codeup-data-science/regression_project/Report.ipynb#ch0000091?line=5'>6</a>\u001b[0m \u001b[39mprint\u001b[39m(t, p\u001b[39m/\u001b[39m\u001b[39m2\u001b[39m, alpha)\n\u001b[0;32m----> <a href='vscode-notebook-cell:/Users/swooshisdakid/codeup-data-science/regression_project/Report.ipynb#ch0000091?line=7'>8</a>\u001b[0m \u001b[39mif\u001b[39;00m p\u001b[39m/\u001b[39m\u001b[39m2\u001b[39m \u001b[39m>\u001b[39m alpha:\n\u001b[1;32m      <a href='vscode-notebook-cell:/Users/swooshisdakid/codeup-data-science/regression_project/Report.ipynb#ch0000091?line=8'>9</a>\u001b[0m     \u001b[39mprint\u001b[39m(\u001b[39m\"\u001b[39m\u001b[39mWe fail to reject $H_\u001b[39m\u001b[39m{0}\u001b[39;00m\u001b[39m$\u001b[39m\u001b[39m\"\u001b[39m)\n\u001b[1;32m     <a href='vscode-notebook-cell:/Users/swooshisdakid/codeup-data-science/regression_project/Report.ipynb#ch0000091?line=9'>10</a>\u001b[0m \u001b[39melif\u001b[39;00m t \u001b[39m<\u001b[39m \u001b[39m0\u001b[39m:\n",
      "\u001b[0;31mValueError\u001b[0m: The truth value of an array with more than one element is ambiguous. Use a.any() or a.all()"
     ]
    }
   ],
   "source": [
    "fips = train.fips\n",
    "hv = train.home_value\n",
    "\n",
    "t, p = stats.ttest_1samp(fips, hv)\n",
    "\n",
    "print(t, p/2, alpha)\n",
    "\n",
    "if p/2 > alpha:\n",
    "    print(\"We fail to reject $H_{0}$\")\n",
    "elif t < 0:\n",
    "    print(\"We fail to reject $H_{0}$\")\n",
    "else:\n",
    "    print(\"We reject $H_{0}$\")\n",
    "\n"
   ]
  },
  {
   "cell_type": "markdown",
   "metadata": {},
   "source": [
    "Correlation and Heat Map of the correlation of each feature in the sample data"
   ]
  },
  {
   "cell_type": "code",
   "execution_count": 29,
   "metadata": {},
   "outputs": [
    {
     "data": {
      "text/html": [
       "<div>\n",
       "<style scoped>\n",
       "    .dataframe tbody tr th:only-of-type {\n",
       "        vertical-align: middle;\n",
       "    }\n",
       "\n",
       "    .dataframe tbody tr th {\n",
       "        vertical-align: top;\n",
       "    }\n",
       "\n",
       "    .dataframe thead th {\n",
       "        text-align: right;\n",
       "    }\n",
       "</style>\n",
       "<table border=\"1\" class=\"dataframe\">\n",
       "  <thead>\n",
       "    <tr style=\"text-align: right;\">\n",
       "      <th></th>\n",
       "      <th>year</th>\n",
       "      <th>home_value</th>\n",
       "      <th>squarefeet</th>\n",
       "      <th>lot_size</th>\n",
       "      <th>fips</th>\n",
       "      <th>bedrooms</th>\n",
       "      <th>bathrooms</th>\n",
       "      <th>hashottuborspa</th>\n",
       "      <th>garagecarcnt</th>\n",
       "      <th>fireplace</th>\n",
       "      <th>pool</th>\n",
       "      <th>fips_encoded</th>\n",
       "      <th>home_age</th>\n",
       "    </tr>\n",
       "  </thead>\n",
       "  <tbody>\n",
       "    <tr>\n",
       "      <th>year</th>\n",
       "      <td>1.000000</td>\n",
       "      <td>0.183667</td>\n",
       "      <td>0.457174</td>\n",
       "      <td>0.038428</td>\n",
       "      <td>0.301506</td>\n",
       "      <td>0.384845</td>\n",
       "      <td>0.523917</td>\n",
       "      <td>0.192050</td>\n",
       "      <td>0.410467</td>\n",
       "      <td>0.205695</td>\n",
       "      <td>0.123787</td>\n",
       "      <td>0.349744</td>\n",
       "      <td>-1.000000</td>\n",
       "    </tr>\n",
       "    <tr>\n",
       "      <th>home_value</th>\n",
       "      <td>0.183667</td>\n",
       "      <td>1.000000</td>\n",
       "      <td>0.607250</td>\n",
       "      <td>0.028473</td>\n",
       "      <td>0.025718</td>\n",
       "      <td>0.272367</td>\n",
       "      <td>0.523535</td>\n",
       "      <td>0.143099</td>\n",
       "      <td>0.103425</td>\n",
       "      <td>0.058170</td>\n",
       "      <td>0.225609</td>\n",
       "      <td>0.040806</td>\n",
       "      <td>-0.183667</td>\n",
       "    </tr>\n",
       "    <tr>\n",
       "      <th>squarefeet</th>\n",
       "      <td>0.457174</td>\n",
       "      <td>0.607250</td>\n",
       "      <td>1.000000</td>\n",
       "      <td>0.051079</td>\n",
       "      <td>0.113900</td>\n",
       "      <td>0.629162</td>\n",
       "      <td>0.849803</td>\n",
       "      <td>0.240047</td>\n",
       "      <td>0.242823</td>\n",
       "      <td>0.171450</td>\n",
       "      <td>0.365466</td>\n",
       "      <td>0.136208</td>\n",
       "      <td>-0.457174</td>\n",
       "    </tr>\n",
       "    <tr>\n",
       "      <th>lot_size</th>\n",
       "      <td>0.038428</td>\n",
       "      <td>0.028473</td>\n",
       "      <td>0.051079</td>\n",
       "      <td>1.000000</td>\n",
       "      <td>-0.006798</td>\n",
       "      <td>0.014511</td>\n",
       "      <td>0.037209</td>\n",
       "      <td>-0.000511</td>\n",
       "      <td>-0.012034</td>\n",
       "      <td>0.007770</td>\n",
       "      <td>0.024526</td>\n",
       "      <td>-0.013634</td>\n",
       "      <td>-0.038428</td>\n",
       "    </tr>\n",
       "    <tr>\n",
       "      <th>fips</th>\n",
       "      <td>0.301506</td>\n",
       "      <td>0.025718</td>\n",
       "      <td>0.113900</td>\n",
       "      <td>-0.006798</td>\n",
       "      <td>1.000000</td>\n",
       "      <td>0.140461</td>\n",
       "      <td>0.114951</td>\n",
       "      <td>0.082733</td>\n",
       "      <td>0.736790</td>\n",
       "      <td>0.630079</td>\n",
       "      <td>0.012378</td>\n",
       "      <td>0.963290</td>\n",
       "      <td>-0.301506</td>\n",
       "    </tr>\n",
       "    <tr>\n",
       "      <th>bedrooms</th>\n",
       "      <td>0.384845</td>\n",
       "      <td>0.272367</td>\n",
       "      <td>0.629162</td>\n",
       "      <td>0.014511</td>\n",
       "      <td>0.140461</td>\n",
       "      <td>1.000000</td>\n",
       "      <td>0.642822</td>\n",
       "      <td>0.134775</td>\n",
       "      <td>0.212387</td>\n",
       "      <td>0.145440</td>\n",
       "      <td>0.260456</td>\n",
       "      <td>0.157412</td>\n",
       "      <td>-0.384845</td>\n",
       "    </tr>\n",
       "    <tr>\n",
       "      <th>bathrooms</th>\n",
       "      <td>0.523917</td>\n",
       "      <td>0.523535</td>\n",
       "      <td>0.849803</td>\n",
       "      <td>0.037209</td>\n",
       "      <td>0.114951</td>\n",
       "      <td>0.642822</td>\n",
       "      <td>1.000000</td>\n",
       "      <td>0.202308</td>\n",
       "      <td>0.232042</td>\n",
       "      <td>0.142343</td>\n",
       "      <td>0.327822</td>\n",
       "      <td>0.139700</td>\n",
       "      <td>-0.523917</td>\n",
       "    </tr>\n",
       "    <tr>\n",
       "      <th>hashottuborspa</th>\n",
       "      <td>0.192050</td>\n",
       "      <td>0.143099</td>\n",
       "      <td>0.240047</td>\n",
       "      <td>-0.000511</td>\n",
       "      <td>0.082733</td>\n",
       "      <td>0.134775</td>\n",
       "      <td>0.202308</td>\n",
       "      <td>1.000000</td>\n",
       "      <td>0.282066</td>\n",
       "      <td>0.042103</td>\n",
       "      <td>0.205153</td>\n",
       "      <td>0.153258</td>\n",
       "      <td>-0.192050</td>\n",
       "    </tr>\n",
       "    <tr>\n",
       "      <th>garagecarcnt</th>\n",
       "      <td>0.410467</td>\n",
       "      <td>0.103425</td>\n",
       "      <td>0.242823</td>\n",
       "      <td>-0.012034</td>\n",
       "      <td>0.736790</td>\n",
       "      <td>0.212387</td>\n",
       "      <td>0.232042</td>\n",
       "      <td>0.282066</td>\n",
       "      <td>1.000000</td>\n",
       "      <td>0.511846</td>\n",
       "      <td>0.071753</td>\n",
       "      <td>0.862480</td>\n",
       "      <td>-0.410467</td>\n",
       "    </tr>\n",
       "    <tr>\n",
       "      <th>fireplace</th>\n",
       "      <td>0.205695</td>\n",
       "      <td>0.058170</td>\n",
       "      <td>0.171450</td>\n",
       "      <td>0.007770</td>\n",
       "      <td>0.630079</td>\n",
       "      <td>0.145440</td>\n",
       "      <td>0.142343</td>\n",
       "      <td>0.042103</td>\n",
       "      <td>0.511846</td>\n",
       "      <td>1.000000</td>\n",
       "      <td>0.098871</td>\n",
       "      <td>0.607741</td>\n",
       "      <td>-0.205695</td>\n",
       "    </tr>\n",
       "    <tr>\n",
       "      <th>pool</th>\n",
       "      <td>0.123787</td>\n",
       "      <td>0.225609</td>\n",
       "      <td>0.365466</td>\n",
       "      <td>0.024526</td>\n",
       "      <td>0.012378</td>\n",
       "      <td>0.260456</td>\n",
       "      <td>0.327822</td>\n",
       "      <td>0.205153</td>\n",
       "      <td>0.071753</td>\n",
       "      <td>0.098871</td>\n",
       "      <td>1.000000</td>\n",
       "      <td>0.020722</td>\n",
       "      <td>-0.123787</td>\n",
       "    </tr>\n",
       "    <tr>\n",
       "      <th>fips_encoded</th>\n",
       "      <td>0.349744</td>\n",
       "      <td>0.040806</td>\n",
       "      <td>0.136208</td>\n",
       "      <td>-0.013634</td>\n",
       "      <td>0.963290</td>\n",
       "      <td>0.157412</td>\n",
       "      <td>0.139700</td>\n",
       "      <td>0.153258</td>\n",
       "      <td>0.862480</td>\n",
       "      <td>0.607741</td>\n",
       "      <td>0.020722</td>\n",
       "      <td>1.000000</td>\n",
       "      <td>-0.349744</td>\n",
       "    </tr>\n",
       "    <tr>\n",
       "      <th>home_age</th>\n",
       "      <td>-1.000000</td>\n",
       "      <td>-0.183667</td>\n",
       "      <td>-0.457174</td>\n",
       "      <td>-0.038428</td>\n",
       "      <td>-0.301506</td>\n",
       "      <td>-0.384845</td>\n",
       "      <td>-0.523917</td>\n",
       "      <td>-0.192050</td>\n",
       "      <td>-0.410467</td>\n",
       "      <td>-0.205695</td>\n",
       "      <td>-0.123787</td>\n",
       "      <td>-0.349744</td>\n",
       "      <td>1.000000</td>\n",
       "    </tr>\n",
       "  </tbody>\n",
       "</table>\n",
       "</div>"
      ],
      "text/plain": [
       "                    year  home_value  squarefeet  lot_size      fips  \\\n",
       "year            1.000000    0.183667    0.457174  0.038428  0.301506   \n",
       "home_value      0.183667    1.000000    0.607250  0.028473  0.025718   \n",
       "squarefeet      0.457174    0.607250    1.000000  0.051079  0.113900   \n",
       "lot_size        0.038428    0.028473    0.051079  1.000000 -0.006798   \n",
       "fips            0.301506    0.025718    0.113900 -0.006798  1.000000   \n",
       "bedrooms        0.384845    0.272367    0.629162  0.014511  0.140461   \n",
       "bathrooms       0.523917    0.523535    0.849803  0.037209  0.114951   \n",
       "hashottuborspa  0.192050    0.143099    0.240047 -0.000511  0.082733   \n",
       "garagecarcnt    0.410467    0.103425    0.242823 -0.012034  0.736790   \n",
       "fireplace       0.205695    0.058170    0.171450  0.007770  0.630079   \n",
       "pool            0.123787    0.225609    0.365466  0.024526  0.012378   \n",
       "fips_encoded    0.349744    0.040806    0.136208 -0.013634  0.963290   \n",
       "home_age       -1.000000   -0.183667   -0.457174 -0.038428 -0.301506   \n",
       "\n",
       "                bedrooms  bathrooms  hashottuborspa  garagecarcnt  fireplace  \\\n",
       "year            0.384845   0.523917        0.192050      0.410467   0.205695   \n",
       "home_value      0.272367   0.523535        0.143099      0.103425   0.058170   \n",
       "squarefeet      0.629162   0.849803        0.240047      0.242823   0.171450   \n",
       "lot_size        0.014511   0.037209       -0.000511     -0.012034   0.007770   \n",
       "fips            0.140461   0.114951        0.082733      0.736790   0.630079   \n",
       "bedrooms        1.000000   0.642822        0.134775      0.212387   0.145440   \n",
       "bathrooms       0.642822   1.000000        0.202308      0.232042   0.142343   \n",
       "hashottuborspa  0.134775   0.202308        1.000000      0.282066   0.042103   \n",
       "garagecarcnt    0.212387   0.232042        0.282066      1.000000   0.511846   \n",
       "fireplace       0.145440   0.142343        0.042103      0.511846   1.000000   \n",
       "pool            0.260456   0.327822        0.205153      0.071753   0.098871   \n",
       "fips_encoded    0.157412   0.139700        0.153258      0.862480   0.607741   \n",
       "home_age       -0.384845  -0.523917       -0.192050     -0.410467  -0.205695   \n",
       "\n",
       "                    pool  fips_encoded  home_age  \n",
       "year            0.123787      0.349744 -1.000000  \n",
       "home_value      0.225609      0.040806 -0.183667  \n",
       "squarefeet      0.365466      0.136208 -0.457174  \n",
       "lot_size        0.024526     -0.013634 -0.038428  \n",
       "fips            0.012378      0.963290 -0.301506  \n",
       "bedrooms        0.260456      0.157412 -0.384845  \n",
       "bathrooms       0.327822      0.139700 -0.523917  \n",
       "hashottuborspa  0.205153      0.153258 -0.192050  \n",
       "garagecarcnt    0.071753      0.862480 -0.410467  \n",
       "fireplace       0.098871      0.607741 -0.205695  \n",
       "pool            1.000000      0.020722 -0.123787  \n",
       "fips_encoded    0.020722      1.000000 -0.349744  \n",
       "home_age       -0.123787     -0.349744  1.000000  "
      ]
     },
     "execution_count": 29,
     "metadata": {},
     "output_type": "execute_result"
    }
   ],
   "source": [
    "# Create the correlation matrix for all exams.\n",
    "\n",
    "zill_corr = train.corr()\n",
    "zill_corr\n"
   ]
  },
  {
   "cell_type": "code",
   "execution_count": 30,
   "metadata": {},
   "outputs": [
    {
     "data": {
      "image/png": "[encoded data removed]",
      "text/plain": [
       "<Figure size 864x576 with 2 Axes>"
      ]
     },
     "metadata": {
      "needs_background": "light"
     },
     "output_type": "display_data"
    }
   ],
   "source": [
    "plt.figure(figsize=(12,8))\n",
    "sns.heatmap(zill_corr, cmap='Purples', annot=True, linewidth=0.5, mask= np.triu(zill_corr))\n",
    "plt.ylim(0, 13)\n",
    "\n",
    "plt.show()\n"
   ]
  },
  {
   "cell_type": "markdown",
   "metadata": {},
   "source": [
    "#### Summary: What factors in to the home value?"
   ]
  },
  {
   "cell_type": "markdown",
   "metadata": {},
   "source": [
    "**TAKEAWAYS**\n",
    "Squarefeet, features like garage size and pool, fips location all do factor into the value of a home\n",
    "\n",
    "---"
   ]
  },
  {
   "cell_type": "markdown",
   "metadata": {},
   "source": [
    "### Scaling the data to normalize it"
   ]
  },
  {
   "cell_type": "code",
   "execution_count": 14,
   "metadata": {},
   "outputs": [
    {
     "data": {
      "text/plain": [
       "((29093, 13), (12469, 13), (10391, 13))"
      ]
     },
     "execution_count": 14,
     "metadata": {},
     "output_type": "execute_result"
    }
   ],
   "source": [
    "# Function to scale data using the Robust Scaler. Object scales columns 'squarefeet', 'lot_size', 'bedrooms', 'bathrooms','garagecarcnt', 'fips_encoded', 'home_age' train sample and transforms validate and test samples.\n",
    "train_s, valid_s, test_s = prepare.scale_data(train, validate, test)\n",
    "\n",
    "# Print shape of scaled samples\n",
    "train_s.shape, valid_s.shape, test_s.shape"
   ]
  },
  {
   "cell_type": "code",
   "execution_count": 15,
   "metadata": {},
   "outputs": [
    {
     "data": {
      "text/html": [
       "<div>\n",
       "<style scoped>\n",
       "    .dataframe tbody tr th:only-of-type {\n",
       "        vertical-align: middle;\n",
       "    }\n",
       "\n",
       "    .dataframe tbody tr th {\n",
       "        vertical-align: top;\n",
       "    }\n",
       "\n",
       "    .dataframe thead th {\n",
       "        text-align: right;\n",
       "    }\n",
       "</style>\n",
       "<table border=\"1\" class=\"dataframe\">\n",
       "  <thead>\n",
       "    <tr style=\"text-align: right;\">\n",
       "      <th></th>\n",
       "      <th>year</th>\n",
       "      <th>home_value</th>\n",
       "      <th>squarefeet</th>\n",
       "      <th>lot_size</th>\n",
       "      <th>fips</th>\n",
       "      <th>bedrooms</th>\n",
       "      <th>bathrooms</th>\n",
       "      <th>hashottuborspa</th>\n",
       "      <th>garagecarcnt</th>\n",
       "      <th>fireplace</th>\n",
       "      <th>pool</th>\n",
       "      <th>fips_encoded</th>\n",
       "      <th>home_age</th>\n",
       "    </tr>\n",
       "  </thead>\n",
       "  <tbody>\n",
       "    <tr>\n",
       "      <th>50541</th>\n",
       "      <td>1989</td>\n",
       "      <td>686554.0</td>\n",
       "      <td>0.359691</td>\n",
       "      <td>-1.648573</td>\n",
       "      <td>6059</td>\n",
       "      <td>-1.0</td>\n",
       "      <td>0.5</td>\n",
       "      <td>0</td>\n",
       "      <td>1.0</td>\n",
       "      <td>0</td>\n",
       "      <td>0</td>\n",
       "      <td>1.0</td>\n",
       "      <td>-1.000000</td>\n",
       "    </tr>\n",
       "    <tr>\n",
       "      <th>22959</th>\n",
       "      <td>1909</td>\n",
       "      <td>112711.0</td>\n",
       "      <td>-0.570878</td>\n",
       "      <td>-0.512407</td>\n",
       "      <td>6037</td>\n",
       "      <td>-1.0</td>\n",
       "      <td>-1.0</td>\n",
       "      <td>0</td>\n",
       "      <td>0.0</td>\n",
       "      <td>0</td>\n",
       "      <td>0</td>\n",
       "      <td>0.0</td>\n",
       "      <td>1.758621</td>\n",
       "    </tr>\n",
       "    <tr>\n",
       "      <th>32939</th>\n",
       "      <td>1977</td>\n",
       "      <td>227008.0</td>\n",
       "      <td>-0.055931</td>\n",
       "      <td>-0.637407</td>\n",
       "      <td>6037</td>\n",
       "      <td>1.0</td>\n",
       "      <td>1.0</td>\n",
       "      <td>0</td>\n",
       "      <td>0.0</td>\n",
       "      <td>0</td>\n",
       "      <td>0</td>\n",
       "      <td>0.0</td>\n",
       "      <td>-0.586207</td>\n",
       "    </tr>\n",
       "    <tr>\n",
       "      <th>26019</th>\n",
       "      <td>1948</td>\n",
       "      <td>2100339.0</td>\n",
       "      <td>1.191900</td>\n",
       "      <td>1.218362</td>\n",
       "      <td>6037</td>\n",
       "      <td>0.0</td>\n",
       "      <td>0.0</td>\n",
       "      <td>0</td>\n",
       "      <td>0.0</td>\n",
       "      <td>0</td>\n",
       "      <td>1</td>\n",
       "      <td>0.0</td>\n",
       "      <td>0.413793</td>\n",
       "    </tr>\n",
       "    <tr>\n",
       "      <th>35209</th>\n",
       "      <td>1975</td>\n",
       "      <td>347952.0</td>\n",
       "      <td>0.792671</td>\n",
       "      <td>-0.032878</td>\n",
       "      <td>6059</td>\n",
       "      <td>0.0</td>\n",
       "      <td>0.5</td>\n",
       "      <td>0</td>\n",
       "      <td>1.0</td>\n",
       "      <td>0</td>\n",
       "      <td>1</td>\n",
       "      <td>1.0</td>\n",
       "      <td>-0.517241</td>\n",
       "    </tr>\n",
       "  </tbody>\n",
       "</table>\n",
       "</div>"
      ],
      "text/plain": [
       "       year  home_value  squarefeet  lot_size  fips  bedrooms  bathrooms  \\\n",
       "50541  1989    686554.0    0.359691 -1.648573  6059      -1.0        0.5   \n",
       "22959  1909    112711.0   -0.570878 -0.512407  6037      -1.0       -1.0   \n",
       "32939  1977    227008.0   -0.055931 -0.637407  6037       1.0        1.0   \n",
       "26019  1948   2100339.0    1.191900  1.218362  6037       0.0        0.0   \n",
       "35209  1975    347952.0    0.792671 -0.032878  6059       0.0        0.5   \n",
       "\n",
       "       hashottuborspa  garagecarcnt  fireplace  pool  fips_encoded  home_age  \n",
       "50541               0           1.0          0     0           1.0 -1.000000  \n",
       "22959               0           0.0          0     0           0.0  1.758621  \n",
       "32939               0           0.0          0     0           0.0 -0.586207  \n",
       "26019               0           0.0          0     1           0.0  0.413793  \n",
       "35209               0           1.0          0     1           1.0 -0.517241  "
      ]
     },
     "execution_count": 15,
     "metadata": {},
     "output_type": "execute_result"
    }
   ],
   "source": [
    "#Preview of scaled data\n",
    "train_s.head()"
   ]
  },
  {
   "cell_type": "markdown",
   "metadata": {},
   "source": [
    "**TAKEAWYS**\n",
    "\n",
    "- Scaled samples using Robust Scaler to deal with outliers\n",
    "- Everything normalized except columns `home_value`, `year`, `fips`. Will omit columns when running models\n",
    "\n",
    "\n",
    "---"
   ]
  },
  {
   "cell_type": "markdown",
   "metadata": {},
   "source": [
    "### Predicting home value"
   ]
  },
  {
   "cell_type": "code",
   "execution_count": 16,
   "metadata": {},
   "outputs": [],
   "source": [
    " # drop target variable and encoded variable from train sample \n",
    "X_train = train_s.drop(columns=['home_value', 'fips', 'year'])\n",
    "    \n",
    "# dataframe with the target variable only\n",
    "y_train = train.home_value"
   ]
  },
  {
   "cell_type": "markdown",
   "metadata": {},
   "source": [
    "#### Baseline"
   ]
  },
  {
   "cell_type": "markdown",
   "metadata": {},
   "source": [
    "I will set a baseline prediction by predicting home homevalues are the mean of home value in train sample. I will evaluate the accuracy of that.\n",
    "\n"
   ]
  },
  {
   "cell_type": "markdown",
   "metadata": {},
   "source": [
    "The mean of home value is a great baseline"
   ]
  },
  {
   "cell_type": "code",
   "execution_count": 17,
   "metadata": {},
   "outputs": [],
   "source": [
    "# Create dataframe with actual and baseline home value on train\n",
    "\n",
    "home_value_mean =  pd.DataFrame(train.home_value)\n",
    "\n",
    "home_value_mean[\"baseline\"]= train.home_value.mean()\n",
    "\n",
    "# Create dataframe with actual and baseline home value on validate\n",
    "\n",
    "validate_home_value_mean =  pd.DataFrame(validate.home_value)\n",
    "\n",
    "validate_home_value_mean[\"baseline\"]= train.home_value.mean()"
   ]
  },
  {
   "cell_type": "markdown",
   "metadata": {},
   "source": [
    "#### Fit 3 models\n",
    "\n",
    "The top 3 models we built were LinearRegression (OLS), LassoLars, and TweedieRegressor (GLM). The models differed in the features and the algorithms."
   ]
  },
  {
   "cell_type": "markdown",
   "metadata": {},
   "source": [
    "#####  Simple Model of Regression"
   ]
  },
  {
   "cell_type": "code",
   "execution_count": 18,
   "metadata": {},
   "outputs": [],
   "source": [
    "from sklearn.linear_model import LinearRegression\n",
    "\n",
    "\n",
    "\n",
    "# 1. make the thing\n",
    "lm = LinearRegression()\n",
    "# 2. fit the thing\n",
    "lm.fit(X_train, y_train)\n",
    "# 3. use the thing (make predictions)\n",
    "lm_predict = train_s.drop(columns=['home_value', 'fips', 'year'])\n",
    "home_value_mean['simple_lm'] = lm.predict(lm_predict)\n",
    "\n",
    "valid_s_lm_predict = valid_s.drop(columns=['home_value', 'fips', 'year'])\n",
    "validate_home_value_mean['simple_lm'] = lm.predict(valid_s_lm_predict)"
   ]
  },
  {
   "cell_type": "code",
   "execution_count": 19,
   "metadata": {},
   "outputs": [
    {
     "data": {
      "text/plain": [
       "(array([ 4.88056710e+05, -6.80557633e+01, -1.45799118e+05,  1.12617924e+05,\n",
       "         1.36234888e+04, -2.42874586e+04, -6.20962221e+04,  6.75866714e+03,\n",
       "         4.61598413e+04,  1.12541145e+05]),\n",
       " 422427.44812306843)"
      ]
     },
     "execution_count": 19,
     "metadata": {},
     "output_type": "execute_result"
    }
   ],
   "source": [
    "lm.coef_, lm.intercept_"
   ]
  },
  {
   "cell_type": "code",
   "execution_count": 20,
   "metadata": {},
   "outputs": [
    {
     "name": "stdout",
     "output_type": "stream",
     "text": [
      "home value = 488056.710 * features + 422427.448\n"
     ]
    }
   ],
   "source": [
    "print('home value = {:.3f} * features + {:.3f}'.format(lm.coef_[0], lm.intercept_))"
   ]
  },
  {
   "cell_type": "markdown",
   "metadata": {},
   "source": [
    "##### LassoLars"
   ]
  },
  {
   "cell_type": "code",
   "execution_count": 21,
   "metadata": {},
   "outputs": [
    {
     "name": "stderr",
     "output_type": "stream",
     "text": [
      "/usr/local/anaconda3/lib/python3.9/site-packages/sklearn/linear_model/_base.py:133: FutureWarning: The default of 'normalize' will be set to False in version 1.2 and deprecated in version 1.4.\n",
      "If you wish to scale the data, use Pipeline with a StandardScaler in a preprocessing stage. To reproduce the previous behavior:\n",
      "\n",
      "from sklearn.pipeline import make_pipeline\n",
      "\n",
      "model = make_pipeline(StandardScaler(with_mean=False), LassoLars())\n",
      "\n",
      "If you wish to pass a sample_weight parameter, you need to pass it as a fit parameter to each step of the pipeline as follows:\n",
      "\n",
      "kwargs = {s[0] + '__sample_weight': sample_weight for s in model.steps}\n",
      "model.fit(X, y, **kwargs)\n",
      "\n",
      "Set parameter alpha to: original_alpha * np.sqrt(n_samples). \n",
      "  warnings.warn(\n"
     ]
    }
   ],
   "source": [
    "from sklearn.linear_model import LassoLars\n",
    "\n",
    "# create the model object\n",
    "lars = LassoLars(alpha=5)\n",
    "\n",
    "# fit the model to our training data= \n",
    "lars.fit(X_train, y_train)\n",
    "\n",
    "# predict train\n",
    "X_train_pred_lars = lars.predict(train_s.drop(columns=['home_value', 'fips', 'year']))\n",
    "\n",
    "# Add lassolars predictions to our predictions DataFrame\n",
    "home_value_mean['lasso_lars'] = X_train_pred_lars\n",
    "\n",
    "# predict validate\n",
    "X_validate_pred_lars = lars.predict(valid_s.drop(columns=['home_value', 'fips', 'year']))\n",
    "\n",
    "# Add lassolars predictions to our predictions DataFrame\n",
    "validate_home_value_mean['lasso_lars'] = X_validate_pred_lars"
   ]
  },
  {
   "cell_type": "markdown",
   "metadata": {},
   "source": [
    "#####  Generalized Linear Model\n",
    "\n",
    "The most flexible regression algorithm, the GLM allows for different distributions, beyond just the Normal Distribution for OLS (and other models based on OLS, like LASSO). We will use the `TweedieRegressor` method to create a GLM using sklearn.\n",
    "\n",
    "> `sklearn.linear_model.TweedieRegressor(power=0, alpha=1.0)`\n",
    "\n",
    "        power = 0: Normal Distribution\n",
    "        power = 1: Poisson Distribution\n",
    "        power = (1,2): Compound Distribution\n",
    "        power = 2: Gamma Distribution\n",
    "        power = 3: Inverse Gaussian Distribution"
   ]
  },
  {
   "cell_type": "code",
   "execution_count": 22,
   "metadata": {},
   "outputs": [
    {
     "name": "stderr",
     "output_type": "stream",
     "text": [
      "/usr/local/anaconda3/lib/python3.9/site-packages/sklearn/linear_model/_glm/glm.py:323: ConvergenceWarning: lbfgs failed to converge (status=1):\n",
      "STOP: TOTAL NO. of ITERATIONS REACHED LIMIT.\n",
      "\n",
      "Increase the number of iterations (max_iter) or scale the data as shown in:\n",
      "    https://scikit-learn.org/stable/modules/preprocessing.html\n",
      "  self.n_iter_ = _check_optimize_result(\"lbfgs\", opt_res)\n"
     ]
    }
   ],
   "source": [
    "from sklearn.linear_model import TweedieRegressor\n",
    "\n",
    "# create the model object\n",
    "glm = TweedieRegressor(power=0, alpha=0)\n",
    "\n",
    "# fit the model to our training data\n",
    "glm.fit(X_train, y_train)\n",
    "\n",
    "# predict train\n",
    "X_train_predict_glm = glm.predict(train_s.drop(columns=['home_value', 'fips', 'year']))\n",
    "\n",
    "# Add lassolars predictions to our predictions DataFrame\n",
    "home_value_mean['glm'] = X_train_predict_glm\n",
    "\n",
    "# predict validate\n",
    "X_validate_predict_glm = glm.predict(valid_s.drop(columns=['home_value', 'fips', 'year']))\n",
    "\n",
    "# Add lassolars predictions to our predictions DataFrame\n",
    "validate_home_value_mean['glm'] = X_validate_predict_glm"
   ]
  },
  {
   "cell_type": "markdown",
   "metadata": {},
   "source": [
    "##### Comparing all models "
   ]
  },
  {
   "cell_type": "markdown",
   "metadata": {},
   "source": [
    "Model performance results on train sample"
   ]
  },
  {
   "cell_type": "code",
   "execution_count": 23,
   "metadata": {},
   "outputs": [
    {
     "data": {
      "text/html": [
       "<div>\n",
       "<style scoped>\n",
       "    .dataframe tbody tr th:only-of-type {\n",
       "        vertical-align: middle;\n",
       "    }\n",
       "\n",
       "    .dataframe tbody tr th {\n",
       "        vertical-align: top;\n",
       "    }\n",
       "\n",
       "    .dataframe thead th {\n",
       "        text-align: right;\n",
       "    }\n",
       "</style>\n",
       "<table border=\"1\" class=\"dataframe\">\n",
       "  <thead>\n",
       "    <tr style=\"text-align: right;\">\n",
       "      <th></th>\n",
       "      <th>home_value</th>\n",
       "      <th>baseline</th>\n",
       "      <th>simple_lm</th>\n",
       "      <th>lasso_lars</th>\n",
       "      <th>glm</th>\n",
       "    </tr>\n",
       "  </thead>\n",
       "  <tbody>\n",
       "    <tr>\n",
       "      <th>50541</th>\n",
       "      <td>686554.0</td>\n",
       "      <td>524685.288317</td>\n",
       "      <td>7.095288e+05</td>\n",
       "      <td>7.090265e+05</td>\n",
       "      <td>7.095519e+05</td>\n",
       "    </tr>\n",
       "    <tr>\n",
       "      <th>22959</th>\n",
       "      <td>112711.0</td>\n",
       "      <td>524685.288317</td>\n",
       "      <td>3.749401e+05</td>\n",
       "      <td>3.722275e+05</td>\n",
       "      <td>3.748366e+05</td>\n",
       "    </tr>\n",
       "    <tr>\n",
       "      <th>32939</th>\n",
       "      <td>227008.0</td>\n",
       "      <td>524685.288317</td>\n",
       "      <td>2.960199e+05</td>\n",
       "      <td>2.987517e+05</td>\n",
       "      <td>2.958214e+05</td>\n",
       "    </tr>\n",
       "    <tr>\n",
       "      <th>26019</th>\n",
       "      <td>2100339.0</td>\n",
       "      <td>524685.288317</td>\n",
       "      <td>1.057387e+06</td>\n",
       "      <td>1.053043e+06</td>\n",
       "      <td>1.057219e+06</td>\n",
       "    </tr>\n",
       "    <tr>\n",
       "      <th>35209</th>\n",
       "      <td>347952.0</td>\n",
       "      <td>524685.288317</td>\n",
       "      <td>8.360272e+05</td>\n",
       "      <td>8.347469e+05</td>\n",
       "      <td>8.358427e+05</td>\n",
       "    </tr>\n",
       "    <tr>\n",
       "      <th>40589</th>\n",
       "      <td>1330661.0</td>\n",
       "      <td>524685.288317</td>\n",
       "      <td>1.159556e+06</td>\n",
       "      <td>1.156376e+06</td>\n",
       "      <td>1.159343e+06</td>\n",
       "    </tr>\n",
       "    <tr>\n",
       "      <th>5212</th>\n",
       "      <td>353307.0</td>\n",
       "      <td>524685.288317</td>\n",
       "      <td>3.679259e+05</td>\n",
       "      <td>3.685417e+05</td>\n",
       "      <td>3.678088e+05</td>\n",
       "    </tr>\n",
       "    <tr>\n",
       "      <th>48544</th>\n",
       "      <td>335000.0</td>\n",
       "      <td>524685.288317</td>\n",
       "      <td>1.054563e+06</td>\n",
       "      <td>1.055590e+06</td>\n",
       "      <td>1.054601e+06</td>\n",
       "    </tr>\n",
       "    <tr>\n",
       "      <th>7102</th>\n",
       "      <td>195714.0</td>\n",
       "      <td>524685.288317</td>\n",
       "      <td>4.446331e+04</td>\n",
       "      <td>4.589189e+04</td>\n",
       "      <td>4.437935e+04</td>\n",
       "    </tr>\n",
       "    <tr>\n",
       "      <th>44451</th>\n",
       "      <td>489534.0</td>\n",
       "      <td>524685.288317</td>\n",
       "      <td>7.327763e+05</td>\n",
       "      <td>7.322748e+05</td>\n",
       "      <td>7.327637e+05</td>\n",
       "    </tr>\n",
       "    <tr>\n",
       "      <th>4964</th>\n",
       "      <td>1286000.0</td>\n",
       "      <td>524685.288317</td>\n",
       "      <td>5.699337e+05</td>\n",
       "      <td>5.761940e+05</td>\n",
       "      <td>5.698643e+05</td>\n",
       "    </tr>\n",
       "    <tr>\n",
       "      <th>6649</th>\n",
       "      <td>121750.0</td>\n",
       "      <td>524685.288317</td>\n",
       "      <td>3.057559e+05</td>\n",
       "      <td>3.078820e+05</td>\n",
       "      <td>3.056689e+05</td>\n",
       "    </tr>\n",
       "    <tr>\n",
       "      <th>15288</th>\n",
       "      <td>227141.0</td>\n",
       "      <td>524685.288317</td>\n",
       "      <td>4.059063e+05</td>\n",
       "      <td>4.047265e+05</td>\n",
       "      <td>4.057399e+05</td>\n",
       "    </tr>\n",
       "    <tr>\n",
       "      <th>22308</th>\n",
       "      <td>31215.0</td>\n",
       "      <td>524685.288317</td>\n",
       "      <td>2.537338e+05</td>\n",
       "      <td>2.531348e+05</td>\n",
       "      <td>2.536591e+05</td>\n",
       "    </tr>\n",
       "    <tr>\n",
       "      <th>7816</th>\n",
       "      <td>188377.0</td>\n",
       "      <td>524685.288317</td>\n",
       "      <td>4.535846e+05</td>\n",
       "      <td>4.535905e+05</td>\n",
       "      <td>4.534793e+05</td>\n",
       "    </tr>\n",
       "    <tr>\n",
       "      <th>17731</th>\n",
       "      <td>413037.0</td>\n",
       "      <td>524685.288317</td>\n",
       "      <td>5.770983e+05</td>\n",
       "      <td>5.759824e+05</td>\n",
       "      <td>5.770012e+05</td>\n",
       "    </tr>\n",
       "    <tr>\n",
       "      <th>37861</th>\n",
       "      <td>316301.0</td>\n",
       "      <td>524685.288317</td>\n",
       "      <td>3.090951e+05</td>\n",
       "      <td>3.078605e+05</td>\n",
       "      <td>3.090189e+05</td>\n",
       "    </tr>\n",
       "    <tr>\n",
       "      <th>29494</th>\n",
       "      <td>1000000.0</td>\n",
       "      <td>524685.288317</td>\n",
       "      <td>8.900337e+04</td>\n",
       "      <td>9.072377e+04</td>\n",
       "      <td>8.881686e+04</td>\n",
       "    </tr>\n",
       "    <tr>\n",
       "      <th>46883</th>\n",
       "      <td>1690464.0</td>\n",
       "      <td>524685.288317</td>\n",
       "      <td>1.364989e+06</td>\n",
       "      <td>1.364707e+06</td>\n",
       "      <td>1.365561e+06</td>\n",
       "    </tr>\n",
       "    <tr>\n",
       "      <th>27534</th>\n",
       "      <td>270912.0</td>\n",
       "      <td>524685.288317</td>\n",
       "      <td>4.176907e+05</td>\n",
       "      <td>4.186453e+05</td>\n",
       "      <td>4.176050e+05</td>\n",
       "    </tr>\n",
       "  </tbody>\n",
       "</table>\n",
       "</div>"
      ],
      "text/plain": [
       "       home_value       baseline     simple_lm    lasso_lars           glm\n",
       "50541    686554.0  524685.288317  7.095288e+05  7.090265e+05  7.095519e+05\n",
       "22959    112711.0  524685.288317  3.749401e+05  3.722275e+05  3.748366e+05\n",
       "32939    227008.0  524685.288317  2.960199e+05  2.987517e+05  2.958214e+05\n",
       "26019   2100339.0  524685.288317  1.057387e+06  1.053043e+06  1.057219e+06\n",
       "35209    347952.0  524685.288317  8.360272e+05  8.347469e+05  8.358427e+05\n",
       "40589   1330661.0  524685.288317  1.159556e+06  1.156376e+06  1.159343e+06\n",
       "5212     353307.0  524685.288317  3.679259e+05  3.685417e+05  3.678088e+05\n",
       "48544    335000.0  524685.288317  1.054563e+06  1.055590e+06  1.054601e+06\n",
       "7102     195714.0  524685.288317  4.446331e+04  4.589189e+04  4.437935e+04\n",
       "44451    489534.0  524685.288317  7.327763e+05  7.322748e+05  7.327637e+05\n",
       "4964    1286000.0  524685.288317  5.699337e+05  5.761940e+05  5.698643e+05\n",
       "6649     121750.0  524685.288317  3.057559e+05  3.078820e+05  3.056689e+05\n",
       "15288    227141.0  524685.288317  4.059063e+05  4.047265e+05  4.057399e+05\n",
       "22308     31215.0  524685.288317  2.537338e+05  2.531348e+05  2.536591e+05\n",
       "7816     188377.0  524685.288317  4.535846e+05  4.535905e+05  4.534793e+05\n",
       "17731    413037.0  524685.288317  5.770983e+05  5.759824e+05  5.770012e+05\n",
       "37861    316301.0  524685.288317  3.090951e+05  3.078605e+05  3.090189e+05\n",
       "29494   1000000.0  524685.288317  8.900337e+04  9.072377e+04  8.881686e+04\n",
       "46883   1690464.0  524685.288317  1.364989e+06  1.364707e+06  1.365561e+06\n",
       "27534    270912.0  524685.288317  4.176907e+05  4.186453e+05  4.176050e+05"
      ]
     },
     "execution_count": 23,
     "metadata": {},
     "output_type": "execute_result"
    }
   ],
   "source": [
    "# Model results on train sample\n",
    "\n",
    "home_value_mean.head(20)"
   ]
  },
  {
   "cell_type": "code",
   "execution_count": 24,
   "metadata": {},
   "outputs": [
    {
     "name": "stdout",
     "output_type": "stream",
     "text": [
      "Train baseline RMSE: 710935.713834567.\n"
     ]
    },
    {
     "data": {
      "text/plain": [
       "home_value         0.000000\n",
       "simple_lm     549085.650440\n",
       "glm           549085.694982\n",
       "lasso_lars    549109.595394\n",
       "baseline      710935.713835\n",
       "dtype: float64"
      ]
     },
     "execution_count": 24,
     "metadata": {},
     "output_type": "execute_result"
    }
   ],
   "source": [
    "# Calculate root mean squared error (RMSE) for every column in the train_predictions df\n",
    "from scipy import stats\n",
    "from math import sqrt\n",
    "from sklearn.metrics import mean_squared_error, r2_score, explained_variance_score\n",
    "\n",
    "train_s_rmse = sqrt(mean_squared_error(home_value_mean['home_value'], home_value_mean.baseline))\n",
    "\n",
    "def calculate_rmse(t):\n",
    "    return sqrt(mean_squared_error(home_value_mean['home_value'], t))\n",
    "\n",
    "print('Train baseline RMSE: {}.'.format(train_s_rmse))\n",
    "home_value_mean.apply(calculate_rmse).sort_values()"
   ]
  },
  {
   "cell_type": "markdown",
   "metadata": {},
   "source": [
    "Model performance on validate sample"
   ]
  },
  {
   "cell_type": "code",
   "execution_count": 25,
   "metadata": {},
   "outputs": [
    {
     "data": {
      "text/html": [
       "<div>\n",
       "<style scoped>\n",
       "    .dataframe tbody tr th:only-of-type {\n",
       "        vertical-align: middle;\n",
       "    }\n",
       "\n",
       "    .dataframe tbody tr th {\n",
       "        vertical-align: top;\n",
       "    }\n",
       "\n",
       "    .dataframe thead th {\n",
       "        text-align: right;\n",
       "    }\n",
       "</style>\n",
       "<table border=\"1\" class=\"dataframe\">\n",
       "  <thead>\n",
       "    <tr style=\"text-align: right;\">\n",
       "      <th></th>\n",
       "      <th>home_value</th>\n",
       "      <th>baseline</th>\n",
       "      <th>simple_lm</th>\n",
       "      <th>lasso_lars</th>\n",
       "      <th>glm</th>\n",
       "    </tr>\n",
       "  </thead>\n",
       "  <tbody>\n",
       "    <tr>\n",
       "      <th>17506</th>\n",
       "      <td>48185.0</td>\n",
       "      <td>524685.288317</td>\n",
       "      <td>1.466686e+05</td>\n",
       "      <td>1.432570e+05</td>\n",
       "      <td>1.466445e+05</td>\n",
       "    </tr>\n",
       "    <tr>\n",
       "      <th>27563</th>\n",
       "      <td>324937.0</td>\n",
       "      <td>524685.288317</td>\n",
       "      <td>9.387418e+05</td>\n",
       "      <td>9.393757e+05</td>\n",
       "      <td>9.387635e+05</td>\n",
       "    </tr>\n",
       "    <tr>\n",
       "      <th>28579</th>\n",
       "      <td>516710.0</td>\n",
       "      <td>524685.288317</td>\n",
       "      <td>4.181419e+05</td>\n",
       "      <td>4.137264e+05</td>\n",
       "      <td>4.184509e+05</td>\n",
       "    </tr>\n",
       "    <tr>\n",
       "      <th>51883</th>\n",
       "      <td>192070.0</td>\n",
       "      <td>524685.288317</td>\n",
       "      <td>1.486104e+05</td>\n",
       "      <td>1.507788e+05</td>\n",
       "      <td>1.485074e+05</td>\n",
       "    </tr>\n",
       "    <tr>\n",
       "      <th>13619</th>\n",
       "      <td>265257.0</td>\n",
       "      <td>524685.288317</td>\n",
       "      <td>8.487769e+04</td>\n",
       "      <td>8.668489e+04</td>\n",
       "      <td>8.473595e+04</td>\n",
       "    </tr>\n",
       "    <tr>\n",
       "      <th>12069</th>\n",
       "      <td>1130006.0</td>\n",
       "      <td>524685.288317</td>\n",
       "      <td>1.209153e+06</td>\n",
       "      <td>1.209024e+06</td>\n",
       "      <td>1.208995e+06</td>\n",
       "    </tr>\n",
       "    <tr>\n",
       "      <th>49710</th>\n",
       "      <td>329754.0</td>\n",
       "      <td>524685.288317</td>\n",
       "      <td>2.053543e+05</td>\n",
       "      <td>2.136051e+05</td>\n",
       "      <td>2.054487e+05</td>\n",
       "    </tr>\n",
       "    <tr>\n",
       "      <th>45393</th>\n",
       "      <td>43314.0</td>\n",
       "      <td>524685.288317</td>\n",
       "      <td>1.004550e+05</td>\n",
       "      <td>1.033924e+05</td>\n",
       "      <td>1.003601e+05</td>\n",
       "    </tr>\n",
       "    <tr>\n",
       "      <th>36834</th>\n",
       "      <td>415967.0</td>\n",
       "      <td>524685.288317</td>\n",
       "      <td>5.213480e+05</td>\n",
       "      <td>5.235461e+05</td>\n",
       "      <td>5.212623e+05</td>\n",
       "    </tr>\n",
       "    <tr>\n",
       "      <th>5423</th>\n",
       "      <td>594000.0</td>\n",
       "      <td>524685.288317</td>\n",
       "      <td>7.211821e+05</td>\n",
       "      <td>7.215131e+05</td>\n",
       "      <td>7.211315e+05</td>\n",
       "    </tr>\n",
       "    <tr>\n",
       "      <th>21794</th>\n",
       "      <td>173843.0</td>\n",
       "      <td>524685.288317</td>\n",
       "      <td>5.349396e+05</td>\n",
       "      <td>5.332993e+05</td>\n",
       "      <td>5.348519e+05</td>\n",
       "    </tr>\n",
       "    <tr>\n",
       "      <th>19894</th>\n",
       "      <td>253936.0</td>\n",
       "      <td>524685.288317</td>\n",
       "      <td>1.978750e+05</td>\n",
       "      <td>2.011799e+05</td>\n",
       "      <td>1.978770e+05</td>\n",
       "    </tr>\n",
       "    <tr>\n",
       "      <th>27699</th>\n",
       "      <td>1086317.0</td>\n",
       "      <td>524685.288317</td>\n",
       "      <td>4.847350e+05</td>\n",
       "      <td>4.961664e+05</td>\n",
       "      <td>4.848598e+05</td>\n",
       "    </tr>\n",
       "    <tr>\n",
       "      <th>47228</th>\n",
       "      <td>512320.0</td>\n",
       "      <td>524685.288317</td>\n",
       "      <td>5.843634e+05</td>\n",
       "      <td>5.773510e+05</td>\n",
       "      <td>5.845984e+05</td>\n",
       "    </tr>\n",
       "    <tr>\n",
       "      <th>8825</th>\n",
       "      <td>290000.0</td>\n",
       "      <td>524685.288317</td>\n",
       "      <td>1.391812e+05</td>\n",
       "      <td>1.369364e+05</td>\n",
       "      <td>1.390887e+05</td>\n",
       "    </tr>\n",
       "    <tr>\n",
       "      <th>41512</th>\n",
       "      <td>520113.0</td>\n",
       "      <td>524685.288317</td>\n",
       "      <td>3.931205e+05</td>\n",
       "      <td>3.861421e+05</td>\n",
       "      <td>3.931625e+05</td>\n",
       "    </tr>\n",
       "    <tr>\n",
       "      <th>12154</th>\n",
       "      <td>351899.0</td>\n",
       "      <td>524685.288317</td>\n",
       "      <td>1.896138e+05</td>\n",
       "      <td>1.914041e+05</td>\n",
       "      <td>1.892411e+05</td>\n",
       "    </tr>\n",
       "    <tr>\n",
       "      <th>1297</th>\n",
       "      <td>550000.0</td>\n",
       "      <td>524685.288317</td>\n",
       "      <td>2.702409e+05</td>\n",
       "      <td>2.755958e+05</td>\n",
       "      <td>2.701702e+05</td>\n",
       "    </tr>\n",
       "    <tr>\n",
       "      <th>30838</th>\n",
       "      <td>526499.0</td>\n",
       "      <td>524685.288317</td>\n",
       "      <td>9.996376e+05</td>\n",
       "      <td>9.994698e+05</td>\n",
       "      <td>9.989596e+05</td>\n",
       "    </tr>\n",
       "    <tr>\n",
       "      <th>5979</th>\n",
       "      <td>297708.0</td>\n",
       "      <td>524685.288317</td>\n",
       "      <td>3.790345e+05</td>\n",
       "      <td>3.890738e+05</td>\n",
       "      <td>3.791541e+05</td>\n",
       "    </tr>\n",
       "  </tbody>\n",
       "</table>\n",
       "</div>"
      ],
      "text/plain": [
       "       home_value       baseline     simple_lm    lasso_lars           glm\n",
       "17506     48185.0  524685.288317  1.466686e+05  1.432570e+05  1.466445e+05\n",
       "27563    324937.0  524685.288317  9.387418e+05  9.393757e+05  9.387635e+05\n",
       "28579    516710.0  524685.288317  4.181419e+05  4.137264e+05  4.184509e+05\n",
       "51883    192070.0  524685.288317  1.486104e+05  1.507788e+05  1.485074e+05\n",
       "13619    265257.0  524685.288317  8.487769e+04  8.668489e+04  8.473595e+04\n",
       "12069   1130006.0  524685.288317  1.209153e+06  1.209024e+06  1.208995e+06\n",
       "49710    329754.0  524685.288317  2.053543e+05  2.136051e+05  2.054487e+05\n",
       "45393     43314.0  524685.288317  1.004550e+05  1.033924e+05  1.003601e+05\n",
       "36834    415967.0  524685.288317  5.213480e+05  5.235461e+05  5.212623e+05\n",
       "5423     594000.0  524685.288317  7.211821e+05  7.215131e+05  7.211315e+05\n",
       "21794    173843.0  524685.288317  5.349396e+05  5.332993e+05  5.348519e+05\n",
       "19894    253936.0  524685.288317  1.978750e+05  2.011799e+05  1.978770e+05\n",
       "27699   1086317.0  524685.288317  4.847350e+05  4.961664e+05  4.848598e+05\n",
       "47228    512320.0  524685.288317  5.843634e+05  5.773510e+05  5.845984e+05\n",
       "8825     290000.0  524685.288317  1.391812e+05  1.369364e+05  1.390887e+05\n",
       "41512    520113.0  524685.288317  3.931205e+05  3.861421e+05  3.931625e+05\n",
       "12154    351899.0  524685.288317  1.896138e+05  1.914041e+05  1.892411e+05\n",
       "1297     550000.0  524685.288317  2.702409e+05  2.755958e+05  2.701702e+05\n",
       "30838    526499.0  524685.288317  9.996376e+05  9.994698e+05  9.989596e+05\n",
       "5979     297708.0  524685.288317  3.790345e+05  3.890738e+05  3.791541e+05"
      ]
     },
     "execution_count": 25,
     "metadata": {},
     "output_type": "execute_result"
    }
   ],
   "source": [
    "# Model results on Validate sample\n",
    "\n",
    "validate_home_value_mean.head(20)"
   ]
  },
  {
   "cell_type": "code",
   "execution_count": 26,
   "metadata": {},
   "outputs": [
    {
     "name": "stdout",
     "output_type": "stream",
     "text": [
      "Validation baseline RMSE: 759011.2013213345.\n"
     ]
    },
    {
     "data": {
      "text/plain": [
       "home_value         0.000000\n",
       "simple_lm     586836.395196\n",
       "glm           586841.289606\n",
       "lasso_lars    586936.794620\n",
       "baseline      759011.201321\n",
       "dtype: float64"
      ]
     },
     "execution_count": 26,
     "metadata": {},
     "output_type": "execute_result"
    }
   ],
   "source": [
    "# Calculate root mean squared error (RMSE) for every column in the predictions df\n",
    "\n",
    "validate_rmse = sqrt(mean_squared_error(validate_home_value_mean['home_value'], validate_home_value_mean.baseline))\n",
    "\n",
    "def calculate_rmse(v):\n",
    "    return sqrt(mean_squared_error(validate_home_value_mean['home_value'], v))\n",
    "\n",
    "print('Validation baseline RMSE: {}.'.format(validate_rmse))\n",
    "validate_home_value_mean.apply(calculate_rmse).sort_values()"
   ]
  },
  {
   "cell_type": "markdown",
   "metadata": {},
   "source": [
    "**TAKEAWAYS**\n",
    "\n",
    "- LinearRegression (OLS) performed the best out of all models"
   ]
  },
  {
   "cell_type": "markdown",
   "metadata": {},
   "source": [
    "#### Running the best model on the test sample set"
   ]
  },
  {
   "cell_type": "code",
   "execution_count": 27,
   "metadata": {},
   "outputs": [
    {
     "data": {
      "text/html": [
       "<div>\n",
       "<style scoped>\n",
       "    .dataframe tbody tr th:only-of-type {\n",
       "        vertical-align: middle;\n",
       "    }\n",
       "\n",
       "    .dataframe tbody tr th {\n",
       "        vertical-align: top;\n",
       "    }\n",
       "\n",
       "    .dataframe thead th {\n",
       "        text-align: right;\n",
       "    }\n",
       "</style>\n",
       "<table border=\"1\" class=\"dataframe\">\n",
       "  <thead>\n",
       "    <tr style=\"text-align: right;\">\n",
       "      <th></th>\n",
       "      <th>home_value</th>\n",
       "      <th>baseline_mean</th>\n",
       "      <th>simple_lm</th>\n",
       "    </tr>\n",
       "  </thead>\n",
       "  <tbody>\n",
       "    <tr>\n",
       "      <th>30243</th>\n",
       "      <td>1049000.0</td>\n",
       "      <td>524685.288317</td>\n",
       "      <td>627281.512044</td>\n",
       "    </tr>\n",
       "    <tr>\n",
       "      <th>20850</th>\n",
       "      <td>725192.0</td>\n",
       "      <td>524685.288317</td>\n",
       "      <td>561127.122885</td>\n",
       "    </tr>\n",
       "    <tr>\n",
       "      <th>45191</th>\n",
       "      <td>611354.0</td>\n",
       "      <td>524685.288317</td>\n",
       "      <td>170827.162628</td>\n",
       "    </tr>\n",
       "    <tr>\n",
       "      <th>20284</th>\n",
       "      <td>246468.0</td>\n",
       "      <td>524685.288317</td>\n",
       "      <td>255475.933075</td>\n",
       "    </tr>\n",
       "    <tr>\n",
       "      <th>38964</th>\n",
       "      <td>364079.0</td>\n",
       "      <td>524685.288317</td>\n",
       "      <td>122921.255810</td>\n",
       "    </tr>\n",
       "    <tr>\n",
       "      <th>...</th>\n",
       "      <td>...</td>\n",
       "      <td>...</td>\n",
       "      <td>...</td>\n",
       "    </tr>\n",
       "    <tr>\n",
       "      <th>44803</th>\n",
       "      <td>322330.0</td>\n",
       "      <td>524685.288317</td>\n",
       "      <td>494485.369544</td>\n",
       "    </tr>\n",
       "    <tr>\n",
       "      <th>17028</th>\n",
       "      <td>396283.0</td>\n",
       "      <td>524685.288317</td>\n",
       "      <td>215365.121322</td>\n",
       "    </tr>\n",
       "    <tr>\n",
       "      <th>14070</th>\n",
       "      <td>198372.0</td>\n",
       "      <td>524685.288317</td>\n",
       "      <td>931077.528708</td>\n",
       "    </tr>\n",
       "    <tr>\n",
       "      <th>5186</th>\n",
       "      <td>201721.0</td>\n",
       "      <td>524685.288317</td>\n",
       "      <td>158144.883279</td>\n",
       "    </tr>\n",
       "    <tr>\n",
       "      <th>2267</th>\n",
       "      <td>748968.0</td>\n",
       "      <td>524685.288317</td>\n",
       "      <td>993279.806154</td>\n",
       "    </tr>\n",
       "  </tbody>\n",
       "</table>\n",
       "<p>10391 rows × 3 columns</p>\n",
       "</div>"
      ],
      "text/plain": [
       "       home_value  baseline_mean      simple_lm\n",
       "30243   1049000.0  524685.288317  627281.512044\n",
       "20850    725192.0  524685.288317  561127.122885\n",
       "45191    611354.0  524685.288317  170827.162628\n",
       "20284    246468.0  524685.288317  255475.933075\n",
       "38964    364079.0  524685.288317  122921.255810\n",
       "...           ...            ...            ...\n",
       "44803    322330.0  524685.288317  494485.369544\n",
       "17028    396283.0  524685.288317  215365.121322\n",
       "14070    198372.0  524685.288317  931077.528708\n",
       "5186     201721.0  524685.288317  158144.883279\n",
       "2267     748968.0  524685.288317  993279.806154\n",
       "\n",
       "[10391 rows x 3 columns]"
      ]
     },
     "execution_count": 27,
     "metadata": {},
     "output_type": "execute_result"
    }
   ],
   "source": [
    "#Create dataframe of predictions on test sample with baseline mean and actual price\n",
    "\n",
    "home_value_prediction =  pd.DataFrame(test.home_value)\n",
    "\n",
    "home_value_prediction[\"baseline_mean\"]= train.home_value.mean()\n",
    "\n",
    "# 1. make the thing\n",
    "lm = LinearRegression()\n",
    "# 2. fit the thing\n",
    "lm.fit(X_train, y_train)\n",
    "# 3. use the thing (make predictions)\n",
    "test_lm_predict = test_s.drop(columns=['home_value', 'fips', 'year'])\n",
    "home_value_prediction['simple_lm'] = lm.predict(test_lm_predict)\n",
    "\n",
    "home_value_prediction"
   ]
  },
  {
   "cell_type": "code",
   "execution_count": 28,
   "metadata": {},
   "outputs": [
    {
     "name": "stdout",
     "output_type": "stream",
     "text": [
      "Test baseline RMSE: 678243.6628106139.\n"
     ]
    },
    {
     "data": {
      "text/plain": [
       "home_value            0.000000\n",
       "simple_lm        507729.222845\n",
       "baseline_mean    678243.662811\n",
       "dtype: float64"
      ]
     },
     "execution_count": 28,
     "metadata": {},
     "output_type": "execute_result"
    }
   ],
   "source": [
    "# Calculate root mean squared error (RMSE) for every column in the predictions df\n",
    "\n",
    "test_rmse = sqrt(mean_squared_error(home_value_prediction['home_value'], home_value_prediction.baseline_mean))\n",
    "\n",
    "def calculate_rmse(z):\n",
    "    return sqrt(mean_squared_error(home_value_prediction['home_value'], z))\n",
    "\n",
    "print('Test baseline RMSE: {}.'.format(test_rmse))\n",
    "home_value_prediction.apply(calculate_rmse).sort_values()"
   ]
  },
  {
   "cell_type": "markdown",
   "metadata": {},
   "source": [
    "I expect this model to perform with a prediction error of $507729.22 in the future on data it has not seen, given no major changes in our data source.\n",
    "\n",
    "\n",
    "---"
   ]
  },
  {
   "cell_type": "markdown",
   "metadata": {},
   "source": [
    "### Conclusion"
   ]
  },
  {
   "cell_type": "markdown",
   "metadata": {},
   "source": [
    "#### Summary\n",
    "\n",
    "After creating three Regression models, the top performing model is LinearRegression (OLS). It beat the baseline prediction by $107,522.44. It has an prediction error of $507729.22"
   ]
  },
  {
   "cell_type": "markdown",
   "metadata": {},
   "source": [
    "#### Recommendations"
   ]
  },
  {
   "cell_type": "markdown",
   "metadata": {},
   "source": [
    "To improve the model :\n",
    "- Create sub models to predict home value of homes by zipcode"
   ]
  },
  {
   "cell_type": "markdown",
   "metadata": {},
   "source": [
    "#### Next Steps"
   ]
  },
  {
   "cell_type": "code",
   "execution_count": null,
   "metadata": {},
   "outputs": [],
   "source": []
  }
 ],
 "metadata": {
  "kernelspec": {
   "display_name": "Python 3.9.12 ('base')",
   "language": "python",
   "name": "python3"
  },
  "language_info": {
   "codemirror_mode": {
    "name": "ipython",
    "version": 3
   },
   "file_extension": ".py",
   "mimetype": "text/x-python",
   "name": "python",
   "nbconvert_exporter": "python",
   "pygments_lexer": "ipython3",
   "version": "3.9.12"
  },
  "orig_nbformat": 4,
  "vscode": {
   "interpreter": {
    "hash": "3067ead486e059ec00ffe7555bdb889e6e264a24dc711bf108106cc7baee8d5d"
   }
  }
 },
 "nbformat": 4,
 "nbformat_minor": 2
}
