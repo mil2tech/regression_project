{
 "cells": [
  {
   "cell_type": "code",
   "execution_count": 1,
   "metadata": {},
   "outputs": [],
   "source": [
    "import pandas as pd\n",
    "import numpy as np\n",
    "import seaborn as sns\n",
    "import matplotlib.pyplot as plt\n",
    "from scipy.stats import pearsonr, spearmanr\n",
    "from sklearn.model_selection import train_test_split\n",
    "import sklearn.preprocessing\n",
    "from sklearn.preprocessing import MinMaxScaler, StandardScaler, RobustScaler\n",
    "from sklearn.feature_selection import RFE\n",
    "from acquire import get_db_url"
   ]
  },
  {
   "cell_type": "markdown",
   "metadata": {},
   "source": [
    "## Acquire Zillow data of family homes sold in 2017"
   ]
  },
  {
   "cell_type": "code",
   "execution_count": 2,
   "metadata": {},
   "outputs": [],
   "source": [
    "sql_query = \"\"\"\n",
    "            SELECT yearbuilt, taxvaluedollarcnt, calculatedfinishedsquarefeet, lotsizesquarefeet, fips, regionidzip, bedroomcnt, bathroomcnt,hashottuborspa, garagecarcnt, fireplacecnt,poolcnt\n",
    "FROM properties_2017 \n",
    "LEFT JOIN propertylandusetype  USING (propertylandusetypeid)\n",
    "LEFT JOIN airconditioningtype  USING (airconditioningtypeid)\n",
    "LEFT JOIN buildingclasstype  USING (buildingclasstypeid)\n",
    "LEFT JOIN architecturalstyletype  USING (architecturalstyletypeid)\n",
    "RIGHT JOIN predictions_2017  USING (parcelid)\n",
    "WHERE propertylandusedesc = 'Single Family Residential'\n",
    "AND predictions_2017.transactiondate LIKE \"2017%%\";\n",
    "\"\"\""
   ]
  },
  {
   "cell_type": "code",
   "execution_count": 3,
   "metadata": {},
   "outputs": [],
   "source": [
    "# Create dataframe\n",
    "df = pd.read_sql(sql_query, get_db_url(\"zillow\"))\n",
    "\n",
    "# Set to show all columns in dataframe in preview\n",
    "pd.set_option('display.max_columns', None)"
   ]
  },
  {
   "cell_type": "code",
   "execution_count": 4,
   "metadata": {},
   "outputs": [
    {
     "data": {
      "text/html": [
       "<div>\n",
       "<style scoped>\n",
       "    .dataframe tbody tr th:only-of-type {\n",
       "        vertical-align: middle;\n",
       "    }\n",
       "\n",
       "    .dataframe tbody tr th {\n",
       "        vertical-align: top;\n",
       "    }\n",
       "\n",
       "    .dataframe thead th {\n",
       "        text-align: right;\n",
       "    }\n",
       "</style>\n",
       "<table border=\"1\" class=\"dataframe\">\n",
       "  <thead>\n",
       "    <tr style=\"text-align: right;\">\n",
       "      <th></th>\n",
       "      <th>yearbuilt</th>\n",
       "      <th>taxvaluedollarcnt</th>\n",
       "      <th>calculatedfinishedsquarefeet</th>\n",
       "      <th>lotsizesquarefeet</th>\n",
       "      <th>fips</th>\n",
       "      <th>regionidzip</th>\n",
       "      <th>bedroomcnt</th>\n",
       "      <th>bathroomcnt</th>\n",
       "      <th>hashottuborspa</th>\n",
       "      <th>garagecarcnt</th>\n",
       "      <th>fireplacecnt</th>\n",
       "      <th>poolcnt</th>\n",
       "    </tr>\n",
       "  </thead>\n",
       "  <tbody>\n",
       "    <tr>\n",
       "      <th>0</th>\n",
       "      <td>1998.0</td>\n",
       "      <td>1023282.0</td>\n",
       "      <td>3100.0</td>\n",
       "      <td>4506.0</td>\n",
       "      <td>6059.0</td>\n",
       "      <td>96978.0</td>\n",
       "      <td>4.0</td>\n",
       "      <td>3.5</td>\n",
       "      <td>NaN</td>\n",
       "      <td>2.0</td>\n",
       "      <td>NaN</td>\n",
       "      <td>NaN</td>\n",
       "    </tr>\n",
       "    <tr>\n",
       "      <th>1</th>\n",
       "      <td>1967.0</td>\n",
       "      <td>464000.0</td>\n",
       "      <td>1465.0</td>\n",
       "      <td>12647.0</td>\n",
       "      <td>6111.0</td>\n",
       "      <td>97099.0</td>\n",
       "      <td>2.0</td>\n",
       "      <td>1.0</td>\n",
       "      <td>NaN</td>\n",
       "      <td>1.0</td>\n",
       "      <td>1.0</td>\n",
       "      <td>NaN</td>\n",
       "    </tr>\n",
       "    <tr>\n",
       "      <th>2</th>\n",
       "      <td>1962.0</td>\n",
       "      <td>564778.0</td>\n",
       "      <td>1243.0</td>\n",
       "      <td>8432.0</td>\n",
       "      <td>6059.0</td>\n",
       "      <td>97078.0</td>\n",
       "      <td>3.0</td>\n",
       "      <td>2.0</td>\n",
       "      <td>NaN</td>\n",
       "      <td>2.0</td>\n",
       "      <td>NaN</td>\n",
       "      <td>1.0</td>\n",
       "    </tr>\n",
       "    <tr>\n",
       "      <th>3</th>\n",
       "      <td>1970.0</td>\n",
       "      <td>145143.0</td>\n",
       "      <td>2376.0</td>\n",
       "      <td>13038.0</td>\n",
       "      <td>6037.0</td>\n",
       "      <td>96330.0</td>\n",
       "      <td>4.0</td>\n",
       "      <td>3.0</td>\n",
       "      <td>NaN</td>\n",
       "      <td>NaN</td>\n",
       "      <td>NaN</td>\n",
       "      <td>1.0</td>\n",
       "    </tr>\n",
       "    <tr>\n",
       "      <th>4</th>\n",
       "      <td>1950.0</td>\n",
       "      <td>773303.0</td>\n",
       "      <td>2962.0</td>\n",
       "      <td>63000.0</td>\n",
       "      <td>6037.0</td>\n",
       "      <td>96293.0</td>\n",
       "      <td>4.0</td>\n",
       "      <td>3.0</td>\n",
       "      <td>NaN</td>\n",
       "      <td>NaN</td>\n",
       "      <td>NaN</td>\n",
       "      <td>1.0</td>\n",
       "    </tr>\n",
       "  </tbody>\n",
       "</table>\n",
       "</div>"
      ],
      "text/plain": [
       "   yearbuilt  taxvaluedollarcnt  calculatedfinishedsquarefeet  \\\n",
       "0     1998.0          1023282.0                        3100.0   \n",
       "1     1967.0           464000.0                        1465.0   \n",
       "2     1962.0           564778.0                        1243.0   \n",
       "3     1970.0           145143.0                        2376.0   \n",
       "4     1950.0           773303.0                        2962.0   \n",
       "\n",
       "   lotsizesquarefeet    fips  regionidzip  bedroomcnt  bathroomcnt  \\\n",
       "0             4506.0  6059.0      96978.0         4.0          3.5   \n",
       "1            12647.0  6111.0      97099.0         2.0          1.0   \n",
       "2             8432.0  6059.0      97078.0         3.0          2.0   \n",
       "3            13038.0  6037.0      96330.0         4.0          3.0   \n",
       "4            63000.0  6037.0      96293.0         4.0          3.0   \n",
       "\n",
       "   hashottuborspa  garagecarcnt  fireplacecnt  poolcnt  \n",
       "0             NaN           2.0           NaN      NaN  \n",
       "1             NaN           1.0           1.0      NaN  \n",
       "2             NaN           2.0           NaN      1.0  \n",
       "3             NaN           NaN           NaN      1.0  \n",
       "4             NaN           NaN           NaN      1.0  "
      ]
     },
     "execution_count": 4,
     "metadata": {},
     "output_type": "execute_result"
    }
   ],
   "source": [
    "# Preview dataframe\n",
    "df.head()"
   ]
  },
  {
   "cell_type": "code",
   "execution_count": 5,
   "metadata": {},
   "outputs": [
    {
     "data": {
      "text/plain": [
       "(52441, 12)"
      ]
     },
     "execution_count": 5,
     "metadata": {},
     "output_type": "execute_result"
    }
   ],
   "source": [
    "# Get Shape of dataframe\n",
    "df.shape"
   ]
  },
  {
   "cell_type": "code",
   "execution_count": 6,
   "metadata": {},
   "outputs": [
    {
     "name": "stdout",
     "output_type": "stream",
     "text": [
      "<class 'pandas.core.frame.DataFrame'>\n",
      "RangeIndex: 52441 entries, 0 to 52440\n",
      "Data columns (total 12 columns):\n",
      " #   Column                        Non-Null Count  Dtype  \n",
      "---  ------                        --------------  -----  \n",
      " 0   yearbuilt                     52325 non-null  float64\n",
      " 1   taxvaluedollarcnt             52440 non-null  float64\n",
      " 2   calculatedfinishedsquarefeet  52359 non-null  float64\n",
      " 3   lotsizesquarefeet             52072 non-null  float64\n",
      " 4   fips                          52441 non-null  float64\n",
      " 5   regionidzip                   52415 non-null  float64\n",
      " 6   bedroomcnt                    52441 non-null  float64\n",
      " 7   bathroomcnt                   52441 non-null  float64\n",
      " 8   hashottuborspa                1515 non-null   float64\n",
      " 9   garagecarcnt                  18015 non-null  float64\n",
      " 10  fireplacecnt                  7243 non-null   float64\n",
      " 11  poolcnt                       11096 non-null  float64\n",
      "dtypes: float64(12)\n",
      "memory usage: 4.8 MB\n"
     ]
    }
   ],
   "source": [
    "# Show information of the dataframe of non-null counts and datatype for each column\n",
    "df.info(show_counts=True)"
   ]
  },
  {
   "cell_type": "markdown",
   "metadata": {},
   "source": [
    "### Create function to acquire data"
   ]
  },
  {
   "cell_type": "code",
   "execution_count": 7,
   "metadata": {},
   "outputs": [],
   "source": [
    "def new_familyhome17_data():\n",
    "    '''\n",
    "    This function reads the telco data from the Codeup db into a df.\n",
    "    '''\n",
    "    sql_query = \"\"\"\n",
    "            SELECT yearbuilt, taxvaluedollarcnt, calculatedfinishedsquarefeet, lotsizesquarefeet, fips, regionidzip, bedroomcnt, bathroomcnt,hashottuborspa, garagecarcnt, fireplacecnt,poolcnt\n",
    "FROM properties_2017 \n",
    "LEFT JOIN propertylandusetype  USING (propertylandusetypeid)\n",
    "LEFT JOIN airconditioningtype  USING (airconditioningtypeid)\n",
    "LEFT JOIN buildingclasstype  USING (buildingclasstypeid)\n",
    "LEFT JOIN architecturalstyletype  USING (architecturalstyletypeid)\n",
    "RIGHT JOIN predictions_2017  USING (parcelid)\n",
    "WHERE propertylandusedesc = 'Single Family Residential'\n",
    "AND predictions_2017.transactiondate LIKE \"2017%%\";\n",
    "\"\"\"\n",
    "    \n",
    "    # Read in DataFrame from Codeup db.\n",
    "    df = pd.read_sql(sql_query, get_db_url('zillow'))\n",
    "    \n",
    "    return df"
   ]
  },
  {
   "cell_type": "code",
   "execution_count": 8,
   "metadata": {},
   "outputs": [],
   "source": [
    "import acquire\n",
    "\n",
    "from acquire import new_familyhome17_data"
   ]
  },
  {
   "cell_type": "code",
   "execution_count": 9,
   "metadata": {},
   "outputs": [],
   "source": [
    "df = acquire.new_familyhome17_data()"
   ]
  },
  {
   "cell_type": "code",
   "execution_count": 10,
   "metadata": {},
   "outputs": [
    {
     "data": {
      "text/html": [
       "<div>\n",
       "<style scoped>\n",
       "    .dataframe tbody tr th:only-of-type {\n",
       "        vertical-align: middle;\n",
       "    }\n",
       "\n",
       "    .dataframe tbody tr th {\n",
       "        vertical-align: top;\n",
       "    }\n",
       "\n",
       "    .dataframe thead th {\n",
       "        text-align: right;\n",
       "    }\n",
       "</style>\n",
       "<table border=\"1\" class=\"dataframe\">\n",
       "  <thead>\n",
       "    <tr style=\"text-align: right;\">\n",
       "      <th></th>\n",
       "      <th>yearbuilt</th>\n",
       "      <th>taxvaluedollarcnt</th>\n",
       "      <th>calculatedfinishedsquarefeet</th>\n",
       "      <th>lotsizesquarefeet</th>\n",
       "      <th>fips</th>\n",
       "      <th>regionidzip</th>\n",
       "      <th>bedroomcnt</th>\n",
       "      <th>bathroomcnt</th>\n",
       "      <th>hashottuborspa</th>\n",
       "      <th>garagecarcnt</th>\n",
       "      <th>fireplacecnt</th>\n",
       "      <th>poolcnt</th>\n",
       "    </tr>\n",
       "  </thead>\n",
       "  <tbody>\n",
       "    <tr>\n",
       "      <th>0</th>\n",
       "      <td>1998.0</td>\n",
       "      <td>1023282.0</td>\n",
       "      <td>3100.0</td>\n",
       "      <td>4506.0</td>\n",
       "      <td>6059.0</td>\n",
       "      <td>96978.0</td>\n",
       "      <td>4.0</td>\n",
       "      <td>3.5</td>\n",
       "      <td>NaN</td>\n",
       "      <td>2.0</td>\n",
       "      <td>NaN</td>\n",
       "      <td>NaN</td>\n",
       "    </tr>\n",
       "    <tr>\n",
       "      <th>1</th>\n",
       "      <td>1967.0</td>\n",
       "      <td>464000.0</td>\n",
       "      <td>1465.0</td>\n",
       "      <td>12647.0</td>\n",
       "      <td>6111.0</td>\n",
       "      <td>97099.0</td>\n",
       "      <td>2.0</td>\n",
       "      <td>1.0</td>\n",
       "      <td>NaN</td>\n",
       "      <td>1.0</td>\n",
       "      <td>1.0</td>\n",
       "      <td>NaN</td>\n",
       "    </tr>\n",
       "    <tr>\n",
       "      <th>2</th>\n",
       "      <td>1962.0</td>\n",
       "      <td>564778.0</td>\n",
       "      <td>1243.0</td>\n",
       "      <td>8432.0</td>\n",
       "      <td>6059.0</td>\n",
       "      <td>97078.0</td>\n",
       "      <td>3.0</td>\n",
       "      <td>2.0</td>\n",
       "      <td>NaN</td>\n",
       "      <td>2.0</td>\n",
       "      <td>NaN</td>\n",
       "      <td>1.0</td>\n",
       "    </tr>\n",
       "    <tr>\n",
       "      <th>3</th>\n",
       "      <td>1970.0</td>\n",
       "      <td>145143.0</td>\n",
       "      <td>2376.0</td>\n",
       "      <td>13038.0</td>\n",
       "      <td>6037.0</td>\n",
       "      <td>96330.0</td>\n",
       "      <td>4.0</td>\n",
       "      <td>3.0</td>\n",
       "      <td>NaN</td>\n",
       "      <td>NaN</td>\n",
       "      <td>NaN</td>\n",
       "      <td>1.0</td>\n",
       "    </tr>\n",
       "    <tr>\n",
       "      <th>4</th>\n",
       "      <td>1950.0</td>\n",
       "      <td>773303.0</td>\n",
       "      <td>2962.0</td>\n",
       "      <td>63000.0</td>\n",
       "      <td>6037.0</td>\n",
       "      <td>96293.0</td>\n",
       "      <td>4.0</td>\n",
       "      <td>3.0</td>\n",
       "      <td>NaN</td>\n",
       "      <td>NaN</td>\n",
       "      <td>NaN</td>\n",
       "      <td>1.0</td>\n",
       "    </tr>\n",
       "  </tbody>\n",
       "</table>\n",
       "</div>"
      ],
      "text/plain": [
       "   yearbuilt  taxvaluedollarcnt  calculatedfinishedsquarefeet  \\\n",
       "0     1998.0          1023282.0                        3100.0   \n",
       "1     1967.0           464000.0                        1465.0   \n",
       "2     1962.0           564778.0                        1243.0   \n",
       "3     1970.0           145143.0                        2376.0   \n",
       "4     1950.0           773303.0                        2962.0   \n",
       "\n",
       "   lotsizesquarefeet    fips  regionidzip  bedroomcnt  bathroomcnt  \\\n",
       "0             4506.0  6059.0      96978.0         4.0          3.5   \n",
       "1            12647.0  6111.0      97099.0         2.0          1.0   \n",
       "2             8432.0  6059.0      97078.0         3.0          2.0   \n",
       "3            13038.0  6037.0      96330.0         4.0          3.0   \n",
       "4            63000.0  6037.0      96293.0         4.0          3.0   \n",
       "\n",
       "   hashottuborspa  garagecarcnt  fireplacecnt  poolcnt  \n",
       "0             NaN           2.0           NaN      NaN  \n",
       "1             NaN           1.0           1.0      NaN  \n",
       "2             NaN           2.0           NaN      1.0  \n",
       "3             NaN           NaN           NaN      1.0  \n",
       "4             NaN           NaN           NaN      1.0  "
      ]
     },
     "execution_count": 10,
     "metadata": {},
     "output_type": "execute_result"
    }
   ],
   "source": [
    "df.head()"
   ]
  },
  {
   "cell_type": "code",
   "execution_count": 11,
   "metadata": {},
   "outputs": [
    {
     "name": "stdout",
     "output_type": "stream",
     "text": [
      "<class 'pandas.core.frame.DataFrame'>\n",
      "RangeIndex: 52441 entries, 0 to 52440\n",
      "Data columns (total 12 columns):\n",
      " #   Column                        Non-Null Count  Dtype  \n",
      "---  ------                        --------------  -----  \n",
      " 0   yearbuilt                     52325 non-null  float64\n",
      " 1   taxvaluedollarcnt             52440 non-null  float64\n",
      " 2   calculatedfinishedsquarefeet  52359 non-null  float64\n",
      " 3   lotsizesquarefeet             52072 non-null  float64\n",
      " 4   fips                          52441 non-null  float64\n",
      " 5   regionidzip                   52415 non-null  float64\n",
      " 6   bedroomcnt                    52441 non-null  float64\n",
      " 7   bathroomcnt                   52441 non-null  float64\n",
      " 8   hashottuborspa                1515 non-null   float64\n",
      " 9   garagecarcnt                  18015 non-null  float64\n",
      " 10  fireplacecnt                  7243 non-null   float64\n",
      " 11  poolcnt                       11096 non-null  float64\n",
      "dtypes: float64(12)\n",
      "memory usage: 4.8 MB\n"
     ]
    }
   ],
   "source": [
    "df.info()"
   ]
  },
  {
   "cell_type": "markdown",
   "metadata": {},
   "source": [
    "**TAKEAWAYS**\n",
    "- Raw dataset has 52441 rows and  12 columns\n",
    "- Need to `poolcnt` fill null values with 0 \n",
    "- Need to fill `garagecarcnt` null values with 0\n",
    "- Need to fill `fireplacecnt` null values with 0\n",
    "- Need to fill `hashottuborspa` null values with 0\n",
    "\n",
    "**To Do**\n",
    "\n",
    "- Will determine what  values to  convert to integer\n",
    "- Will determine what Null values to drop afterwards\n",
    "- Encode or get dummies for Categorical data"
   ]
  },
  {
   "cell_type": "markdown",
   "metadata": {},
   "source": [
    "## Prep the data"
   ]
  },
  {
   "cell_type": "code",
   "execution_count": 12,
   "metadata": {},
   "outputs": [],
   "source": [
    "# Replace null values with 0\n",
    "df[\"poolcnt\"].fillna(0, inplace = True)\n",
    "df[\"garagecarcnt\"].fillna(0, inplace = True)\n",
    "df[\"fireplacecnt\"].fillna(0, inplace = True)\n",
    "df[\"hashottuborspa\"].fillna(0, inplace = True)"
   ]
  },
  {
   "cell_type": "code",
   "execution_count": 13,
   "metadata": {},
   "outputs": [
    {
     "name": "stdout",
     "output_type": "stream",
     "text": [
      "<class 'pandas.core.frame.DataFrame'>\n",
      "RangeIndex: 52441 entries, 0 to 52440\n",
      "Data columns (total 12 columns):\n",
      " #   Column                        Non-Null Count  Dtype  \n",
      "---  ------                        --------------  -----  \n",
      " 0   yearbuilt                     52325 non-null  float64\n",
      " 1   taxvaluedollarcnt             52440 non-null  float64\n",
      " 2   calculatedfinishedsquarefeet  52359 non-null  float64\n",
      " 3   lotsizesquarefeet             52072 non-null  float64\n",
      " 4   fips                          52441 non-null  float64\n",
      " 5   regionidzip                   52415 non-null  float64\n",
      " 6   bedroomcnt                    52441 non-null  float64\n",
      " 7   bathroomcnt                   52441 non-null  float64\n",
      " 8   hashottuborspa                52441 non-null  float64\n",
      " 9   garagecarcnt                  52441 non-null  float64\n",
      " 10  fireplacecnt                  52441 non-null  float64\n",
      " 11  poolcnt                       52441 non-null  float64\n",
      "dtypes: float64(12)\n",
      "memory usage: 4.8 MB\n"
     ]
    }
   ],
   "source": [
    "# Show information of the dataframe of non-null counts and datatype for each column after filling in null values with `0`\n",
    "df.info(show_counts=True)"
   ]
  },
  {
   "cell_type": "code",
   "execution_count": 14,
   "metadata": {},
   "outputs": [],
   "source": [
    "# Drop data with null values\n",
    "df.dropna(inplace=True)\n"
   ]
  },
  {
   "cell_type": "code",
   "execution_count": 15,
   "metadata": {},
   "outputs": [
    {
     "data": {
      "text/plain": [
       "(51953, 12)"
      ]
     },
     "execution_count": 15,
     "metadata": {},
     "output_type": "execute_result"
    }
   ],
   "source": [
    "df.shape"
   ]
  },
  {
   "cell_type": "code",
   "execution_count": 16,
   "metadata": {},
   "outputs": [
    {
     "data": {
      "text/html": [
       "<div>\n",
       "<style scoped>\n",
       "    .dataframe tbody tr th:only-of-type {\n",
       "        vertical-align: middle;\n",
       "    }\n",
       "\n",
       "    .dataframe tbody tr th {\n",
       "        vertical-align: top;\n",
       "    }\n",
       "\n",
       "    .dataframe thead th {\n",
       "        text-align: right;\n",
       "    }\n",
       "</style>\n",
       "<table border=\"1\" class=\"dataframe\">\n",
       "  <thead>\n",
       "    <tr style=\"text-align: right;\">\n",
       "      <th></th>\n",
       "      <th>yearbuilt</th>\n",
       "      <th>taxvaluedollarcnt</th>\n",
       "      <th>calculatedfinishedsquarefeet</th>\n",
       "      <th>lotsizesquarefeet</th>\n",
       "      <th>fips</th>\n",
       "      <th>regionidzip</th>\n",
       "      <th>bedroomcnt</th>\n",
       "      <th>bathroomcnt</th>\n",
       "      <th>hashottuborspa</th>\n",
       "      <th>garagecarcnt</th>\n",
       "      <th>fireplacecnt</th>\n",
       "      <th>poolcnt</th>\n",
       "    </tr>\n",
       "  </thead>\n",
       "  <tbody>\n",
       "  </tbody>\n",
       "</table>\n",
       "</div>"
      ],
      "text/plain": [
       "Empty DataFrame\n",
       "Columns: [yearbuilt, taxvaluedollarcnt, calculatedfinishedsquarefeet, lotsizesquarefeet, fips, regionidzip, bedroomcnt, bathroomcnt, hashottuborspa, garagecarcnt, fireplacecnt, poolcnt]\n",
       "Index: []"
      ]
     },
     "execution_count": 16,
     "metadata": {},
     "output_type": "execute_result"
    }
   ],
   "source": [
    "# Verfication of dropped null values\n",
    "df[df.isna().any(axis=1)]"
   ]
  },
  {
   "cell_type": "code",
   "execution_count": 17,
   "metadata": {},
   "outputs": [
    {
     "name": "stdout",
     "output_type": "stream",
     "text": [
      "<class 'pandas.core.frame.DataFrame'>\n",
      "Int64Index: 51953 entries, 0 to 52440\n",
      "Data columns (total 12 columns):\n",
      " #   Column                        Non-Null Count  Dtype  \n",
      "---  ------                        --------------  -----  \n",
      " 0   yearbuilt                     51953 non-null  float64\n",
      " 1   taxvaluedollarcnt             51953 non-null  float64\n",
      " 2   calculatedfinishedsquarefeet  51953 non-null  float64\n",
      " 3   lotsizesquarefeet             51953 non-null  float64\n",
      " 4   fips                          51953 non-null  float64\n",
      " 5   regionidzip                   51953 non-null  float64\n",
      " 6   bedroomcnt                    51953 non-null  float64\n",
      " 7   bathroomcnt                   51953 non-null  float64\n",
      " 8   hashottuborspa                51953 non-null  float64\n",
      " 9   garagecarcnt                  51953 non-null  float64\n",
      " 10  fireplacecnt                  51953 non-null  float64\n",
      " 11  poolcnt                       51953 non-null  float64\n",
      "dtypes: float64(12)\n",
      "memory usage: 5.2 MB\n"
     ]
    }
   ],
   "source": [
    "df.info()"
   ]
  },
  {
   "cell_type": "markdown",
   "metadata": {},
   "source": [
    "**Takeaways**\n",
    "- Refined dataset has 51953 rows and  12 columns after dropping null values after filling in below columns null values with '0'\n",
    "-  `poolcnt` filled null values with 0 \n",
    "-  `garagecarcnt` filled null values with 0\n",
    "-  `fireplacecnt` filled null values with 0\n",
    "-  `hashottuborspa` filled null values with 0\n",
    "- 488 records was dropped. Equivalent to .01% of acquired data.\n",
    "\n",
    "**To Do**\n",
    "- Convert columns `yearbuilt`, `bedroomcnt`, `fireplacecnt`, `fips`, `regionzip`, `garagecarcnt`, `poolcnt`, `hashottuborspa` to integer\n"
   ]
  },
  {
   "cell_type": "code",
   "execution_count": 18,
   "metadata": {},
   "outputs": [
    {
     "data": {
      "text/html": [
       "<div>\n",
       "<style scoped>\n",
       "    .dataframe tbody tr th:only-of-type {\n",
       "        vertical-align: middle;\n",
       "    }\n",
       "\n",
       "    .dataframe tbody tr th {\n",
       "        vertical-align: top;\n",
       "    }\n",
       "\n",
       "    .dataframe thead th {\n",
       "        text-align: right;\n",
       "    }\n",
       "</style>\n",
       "<table border=\"1\" class=\"dataframe\">\n",
       "  <thead>\n",
       "    <tr style=\"text-align: right;\">\n",
       "      <th></th>\n",
       "      <th>yearbuilt</th>\n",
       "      <th>taxvaluedollarcnt</th>\n",
       "      <th>calculatedfinishedsquarefeet</th>\n",
       "      <th>lotsizesquarefeet</th>\n",
       "      <th>fips</th>\n",
       "      <th>regionidzip</th>\n",
       "      <th>bedroomcnt</th>\n",
       "      <th>bathroomcnt</th>\n",
       "      <th>hashottuborspa</th>\n",
       "      <th>garagecarcnt</th>\n",
       "      <th>fireplacecnt</th>\n",
       "      <th>poolcnt</th>\n",
       "    </tr>\n",
       "  </thead>\n",
       "  <tbody>\n",
       "    <tr>\n",
       "      <th>0</th>\n",
       "      <td>1998.0</td>\n",
       "      <td>1023282.0</td>\n",
       "      <td>3100.0</td>\n",
       "      <td>4506.0</td>\n",
       "      <td>6059.0</td>\n",
       "      <td>96978.0</td>\n",
       "      <td>4.0</td>\n",
       "      <td>3.5</td>\n",
       "      <td>0.0</td>\n",
       "      <td>2.0</td>\n",
       "      <td>0.0</td>\n",
       "      <td>0.0</td>\n",
       "    </tr>\n",
       "  </tbody>\n",
       "</table>\n",
       "</div>"
      ],
      "text/plain": [
       "   yearbuilt  taxvaluedollarcnt  calculatedfinishedsquarefeet  \\\n",
       "0     1998.0          1023282.0                        3100.0   \n",
       "\n",
       "   lotsizesquarefeet    fips  regionidzip  bedroomcnt  bathroomcnt  \\\n",
       "0             4506.0  6059.0      96978.0         4.0          3.5   \n",
       "\n",
       "   hashottuborspa  garagecarcnt  fireplacecnt  poolcnt  \n",
       "0             0.0           2.0           0.0      0.0  "
      ]
     },
     "execution_count": 18,
     "metadata": {},
     "output_type": "execute_result"
    }
   ],
   "source": [
    "df.head(1)"
   ]
  },
  {
   "cell_type": "code",
   "execution_count": 19,
   "metadata": {},
   "outputs": [],
   "source": [
    "# Convert columns from float to integer\n",
    "\n",
    "df['yearbuilt'] = df.yearbuilt.astype(int)\n",
    "df['fips'] = df.fips.astype(int)\n",
    "df['regionidzip'] = df.regionidzip.astype(int)\n",
    "df['bedroomcnt'] = df.bedroomcnt.astype(int) \n",
    "df['hashottuborspa'] = df.hashottuborspa.astype(int)\n",
    "df['garagecarcnt'] = df.garagecarcnt.astype(int)\n",
    "df['fireplacecnt'] = df.fireplacecnt.astype(int)\n",
    "df['poolcnt'] = df.poolcnt.astype(int)"
   ]
  },
  {
   "cell_type": "code",
   "execution_count": 20,
   "metadata": {},
   "outputs": [
    {
     "name": "stdout",
     "output_type": "stream",
     "text": [
      "<class 'pandas.core.frame.DataFrame'>\n",
      "Int64Index: 51953 entries, 0 to 52440\n",
      "Data columns (total 12 columns):\n",
      " #   Column                        Non-Null Count  Dtype  \n",
      "---  ------                        --------------  -----  \n",
      " 0   yearbuilt                     51953 non-null  int64  \n",
      " 1   taxvaluedollarcnt             51953 non-null  float64\n",
      " 2   calculatedfinishedsquarefeet  51953 non-null  float64\n",
      " 3   lotsizesquarefeet             51953 non-null  float64\n",
      " 4   fips                          51953 non-null  int64  \n",
      " 5   regionidzip                   51953 non-null  int64  \n",
      " 6   bedroomcnt                    51953 non-null  int64  \n",
      " 7   bathroomcnt                   51953 non-null  float64\n",
      " 8   hashottuborspa                51953 non-null  int64  \n",
      " 9   garagecarcnt                  51953 non-null  int64  \n",
      " 10  fireplacecnt                  51953 non-null  int64  \n",
      " 11  poolcnt                       51953 non-null  int64  \n",
      "dtypes: float64(4), int64(8)\n",
      "memory usage: 5.2 MB\n"
     ]
    }
   ],
   "source": [
    "df.info()"
   ]
  },
  {
   "cell_type": "code",
   "execution_count": 21,
   "metadata": {},
   "outputs": [],
   "source": [
    "#Drop `regionidzip`. not needed\n",
    "df.drop('regionidzip', axis=1, inplace=True)"
   ]
  },
  {
   "cell_type": "code",
   "execution_count": 22,
   "metadata": {},
   "outputs": [
    {
     "data": {
      "text/html": [
       "<div>\n",
       "<style scoped>\n",
       "    .dataframe tbody tr th:only-of-type {\n",
       "        vertical-align: middle;\n",
       "    }\n",
       "\n",
       "    .dataframe tbody tr th {\n",
       "        vertical-align: top;\n",
       "    }\n",
       "\n",
       "    .dataframe thead th {\n",
       "        text-align: right;\n",
       "    }\n",
       "</style>\n",
       "<table border=\"1\" class=\"dataframe\">\n",
       "  <thead>\n",
       "    <tr style=\"text-align: right;\">\n",
       "      <th></th>\n",
       "      <th>yearbuilt</th>\n",
       "      <th>taxvaluedollarcnt</th>\n",
       "      <th>calculatedfinishedsquarefeet</th>\n",
       "      <th>lotsizesquarefeet</th>\n",
       "      <th>fips</th>\n",
       "      <th>bedroomcnt</th>\n",
       "      <th>bathroomcnt</th>\n",
       "      <th>hashottuborspa</th>\n",
       "      <th>garagecarcnt</th>\n",
       "      <th>fireplacecnt</th>\n",
       "      <th>poolcnt</th>\n",
       "    </tr>\n",
       "  </thead>\n",
       "  <tbody>\n",
       "    <tr>\n",
       "      <th>0</th>\n",
       "      <td>1998</td>\n",
       "      <td>1023282.0</td>\n",
       "      <td>3100.0</td>\n",
       "      <td>4506.0</td>\n",
       "      <td>6059</td>\n",
       "      <td>4</td>\n",
       "      <td>3.5</td>\n",
       "      <td>0</td>\n",
       "      <td>2</td>\n",
       "      <td>0</td>\n",
       "      <td>0</td>\n",
       "    </tr>\n",
       "    <tr>\n",
       "      <th>1</th>\n",
       "      <td>1967</td>\n",
       "      <td>464000.0</td>\n",
       "      <td>1465.0</td>\n",
       "      <td>12647.0</td>\n",
       "      <td>6111</td>\n",
       "      <td>2</td>\n",
       "      <td>1.0</td>\n",
       "      <td>0</td>\n",
       "      <td>1</td>\n",
       "      <td>1</td>\n",
       "      <td>0</td>\n",
       "    </tr>\n",
       "    <tr>\n",
       "      <th>2</th>\n",
       "      <td>1962</td>\n",
       "      <td>564778.0</td>\n",
       "      <td>1243.0</td>\n",
       "      <td>8432.0</td>\n",
       "      <td>6059</td>\n",
       "      <td>3</td>\n",
       "      <td>2.0</td>\n",
       "      <td>0</td>\n",
       "      <td>2</td>\n",
       "      <td>0</td>\n",
       "      <td>1</td>\n",
       "    </tr>\n",
       "    <tr>\n",
       "      <th>3</th>\n",
       "      <td>1970</td>\n",
       "      <td>145143.0</td>\n",
       "      <td>2376.0</td>\n",
       "      <td>13038.0</td>\n",
       "      <td>6037</td>\n",
       "      <td>4</td>\n",
       "      <td>3.0</td>\n",
       "      <td>0</td>\n",
       "      <td>0</td>\n",
       "      <td>0</td>\n",
       "      <td>1</td>\n",
       "    </tr>\n",
       "    <tr>\n",
       "      <th>4</th>\n",
       "      <td>1950</td>\n",
       "      <td>773303.0</td>\n",
       "      <td>2962.0</td>\n",
       "      <td>63000.0</td>\n",
       "      <td>6037</td>\n",
       "      <td>4</td>\n",
       "      <td>3.0</td>\n",
       "      <td>0</td>\n",
       "      <td>0</td>\n",
       "      <td>0</td>\n",
       "      <td>1</td>\n",
       "    </tr>\n",
       "  </tbody>\n",
       "</table>\n",
       "</div>"
      ],
      "text/plain": [
       "   yearbuilt  taxvaluedollarcnt  calculatedfinishedsquarefeet  \\\n",
       "0       1998          1023282.0                        3100.0   \n",
       "1       1967           464000.0                        1465.0   \n",
       "2       1962           564778.0                        1243.0   \n",
       "3       1970           145143.0                        2376.0   \n",
       "4       1950           773303.0                        2962.0   \n",
       "\n",
       "   lotsizesquarefeet  fips  bedroomcnt  bathroomcnt  hashottuborspa  \\\n",
       "0             4506.0  6059           4          3.5               0   \n",
       "1            12647.0  6111           2          1.0               0   \n",
       "2             8432.0  6059           3          2.0               0   \n",
       "3            13038.0  6037           4          3.0               0   \n",
       "4            63000.0  6037           4          3.0               0   \n",
       "\n",
       "   garagecarcnt  fireplacecnt  poolcnt  \n",
       "0             2             0        0  \n",
       "1             1             1        0  \n",
       "2             2             0        1  \n",
       "3             0             0        1  \n",
       "4             0             0        1  "
      ]
     },
     "execution_count": 22,
     "metadata": {},
     "output_type": "execute_result"
    }
   ],
   "source": [
    "df.head()"
   ]
  },
  {
   "cell_type": "code",
   "execution_count": 23,
   "metadata": {},
   "outputs": [
    {
     "data": {
      "text/plain": [
       "0    40926\n",
       "1    11027\n",
       "Name: poolcnt, dtype: int64"
      ]
     },
     "execution_count": 23,
     "metadata": {},
     "output_type": "execute_result"
    }
   ],
   "source": [
    "df.poolcnt.value_counts()"
   ]
  },
  {
   "cell_type": "code",
   "execution_count": null,
   "metadata": {},
   "outputs": [],
   "source": []
  },
  {
   "cell_type": "code",
   "execution_count": 24,
   "metadata": {},
   "outputs": [],
   "source": [
    "df['fips_encoded'] = df.fips.map({6059: 2, 6037: 1, 6111: 3,})"
   ]
  },
  {
   "cell_type": "code",
   "execution_count": 25,
   "metadata": {},
   "outputs": [],
   "source": [
    "df.rename(columns = {'yearbuilt':'year', 'taxvaluedollarcnt':'home_value', 'calculatedfinishedsquarefeet':'squarefeet', 'lotsizesquarefeet':'lot_size', 'bedroomcnt':'bedrooms', 'bathroomcnt':'bathrooms', 'fireplacecnt':'fireplace', 'poolcnt':'pool'}, inplace = True)"
   ]
  },
  {
   "cell_type": "code",
   "execution_count": 26,
   "metadata": {},
   "outputs": [
    {
     "data": {
      "text/html": [
       "<div>\n",
       "<style scoped>\n",
       "    .dataframe tbody tr th:only-of-type {\n",
       "        vertical-align: middle;\n",
       "    }\n",
       "\n",
       "    .dataframe tbody tr th {\n",
       "        vertical-align: top;\n",
       "    }\n",
       "\n",
       "    .dataframe thead th {\n",
       "        text-align: right;\n",
       "    }\n",
       "</style>\n",
       "<table border=\"1\" class=\"dataframe\">\n",
       "  <thead>\n",
       "    <tr style=\"text-align: right;\">\n",
       "      <th></th>\n",
       "      <th>year</th>\n",
       "      <th>home_value</th>\n",
       "      <th>squarefeet</th>\n",
       "      <th>lot_size</th>\n",
       "      <th>fips</th>\n",
       "      <th>bedrooms</th>\n",
       "      <th>bathrooms</th>\n",
       "      <th>hashottuborspa</th>\n",
       "      <th>garagecarcnt</th>\n",
       "      <th>fireplace</th>\n",
       "      <th>pool</th>\n",
       "      <th>fips_encoded</th>\n",
       "    </tr>\n",
       "  </thead>\n",
       "  <tbody>\n",
       "  </tbody>\n",
       "</table>\n",
       "</div>"
      ],
      "text/plain": [
       "Empty DataFrame\n",
       "Columns: [year, home_value, squarefeet, lot_size, fips, bedrooms, bathrooms, hashottuborspa, garagecarcnt, fireplace, pool, fips_encoded]\n",
       "Index: []"
      ]
     },
     "execution_count": 26,
     "metadata": {},
     "output_type": "execute_result"
    }
   ],
   "source": [
    "df.head(0)"
   ]
  },
  {
   "cell_type": "code",
   "execution_count": 27,
   "metadata": {},
   "outputs": [
    {
     "data": {
      "text/html": [
       "<div>\n",
       "<style scoped>\n",
       "    .dataframe tbody tr th:only-of-type {\n",
       "        vertical-align: middle;\n",
       "    }\n",
       "\n",
       "    .dataframe tbody tr th {\n",
       "        vertical-align: top;\n",
       "    }\n",
       "\n",
       "    .dataframe thead th {\n",
       "        text-align: right;\n",
       "    }\n",
       "</style>\n",
       "<table border=\"1\" class=\"dataframe\">\n",
       "  <thead>\n",
       "    <tr style=\"text-align: right;\">\n",
       "      <th></th>\n",
       "      <th>year</th>\n",
       "      <th>home_value</th>\n",
       "      <th>squarefeet</th>\n",
       "      <th>lot_size</th>\n",
       "      <th>fips</th>\n",
       "      <th>bedrooms</th>\n",
       "      <th>bathrooms</th>\n",
       "      <th>hashottuborspa</th>\n",
       "      <th>garagecarcnt</th>\n",
       "      <th>fireplace</th>\n",
       "      <th>pool</th>\n",
       "      <th>fips_encoded</th>\n",
       "      <th>home_age</th>\n",
       "    </tr>\n",
       "  </thead>\n",
       "  <tbody>\n",
       "    <tr>\n",
       "      <th>0</th>\n",
       "      <td>1998</td>\n",
       "      <td>1023282.0</td>\n",
       "      <td>3100.0</td>\n",
       "      <td>4506.0</td>\n",
       "      <td>6059</td>\n",
       "      <td>4</td>\n",
       "      <td>3.5</td>\n",
       "      <td>0</td>\n",
       "      <td>2</td>\n",
       "      <td>0</td>\n",
       "      <td>0</td>\n",
       "      <td>2</td>\n",
       "      <td>19</td>\n",
       "    </tr>\n",
       "    <tr>\n",
       "      <th>1</th>\n",
       "      <td>1967</td>\n",
       "      <td>464000.0</td>\n",
       "      <td>1465.0</td>\n",
       "      <td>12647.0</td>\n",
       "      <td>6111</td>\n",
       "      <td>2</td>\n",
       "      <td>1.0</td>\n",
       "      <td>0</td>\n",
       "      <td>1</td>\n",
       "      <td>1</td>\n",
       "      <td>0</td>\n",
       "      <td>3</td>\n",
       "      <td>50</td>\n",
       "    </tr>\n",
       "    <tr>\n",
       "      <th>2</th>\n",
       "      <td>1962</td>\n",
       "      <td>564778.0</td>\n",
       "      <td>1243.0</td>\n",
       "      <td>8432.0</td>\n",
       "      <td>6059</td>\n",
       "      <td>3</td>\n",
       "      <td>2.0</td>\n",
       "      <td>0</td>\n",
       "      <td>2</td>\n",
       "      <td>0</td>\n",
       "      <td>1</td>\n",
       "      <td>2</td>\n",
       "      <td>55</td>\n",
       "    </tr>\n",
       "    <tr>\n",
       "      <th>3</th>\n",
       "      <td>1970</td>\n",
       "      <td>145143.0</td>\n",
       "      <td>2376.0</td>\n",
       "      <td>13038.0</td>\n",
       "      <td>6037</td>\n",
       "      <td>4</td>\n",
       "      <td>3.0</td>\n",
       "      <td>0</td>\n",
       "      <td>0</td>\n",
       "      <td>0</td>\n",
       "      <td>1</td>\n",
       "      <td>1</td>\n",
       "      <td>47</td>\n",
       "    </tr>\n",
       "    <tr>\n",
       "      <th>4</th>\n",
       "      <td>1950</td>\n",
       "      <td>773303.0</td>\n",
       "      <td>2962.0</td>\n",
       "      <td>63000.0</td>\n",
       "      <td>6037</td>\n",
       "      <td>4</td>\n",
       "      <td>3.0</td>\n",
       "      <td>0</td>\n",
       "      <td>0</td>\n",
       "      <td>0</td>\n",
       "      <td>1</td>\n",
       "      <td>1</td>\n",
       "      <td>67</td>\n",
       "    </tr>\n",
       "  </tbody>\n",
       "</table>\n",
       "</div>"
      ],
      "text/plain": [
       "   year  home_value  squarefeet  lot_size  fips  bedrooms  bathrooms  \\\n",
       "0  1998   1023282.0      3100.0    4506.0  6059         4        3.5   \n",
       "1  1967    464000.0      1465.0   12647.0  6111         2        1.0   \n",
       "2  1962    564778.0      1243.0    8432.0  6059         3        2.0   \n",
       "3  1970    145143.0      2376.0   13038.0  6037         4        3.0   \n",
       "4  1950    773303.0      2962.0   63000.0  6037         4        3.0   \n",
       "\n",
       "   hashottuborspa  garagecarcnt  fireplace  pool  fips_encoded  home_age  \n",
       "0               0             2          0     0             2        19  \n",
       "1               0             1          1     0             3        50  \n",
       "2               0             2          0     1             2        55  \n",
       "3               0             0          0     1             1        47  \n",
       "4               0             0          0     1             1        67  "
      ]
     },
     "execution_count": 27,
     "metadata": {},
     "output_type": "execute_result"
    }
   ],
   "source": [
    "df['home_age'] = 2017 - df.year\n",
    "df.head()\n"
   ]
  },
  {
   "cell_type": "markdown",
   "metadata": {},
   "source": [
    "Encode fips\n",
    "- 6037 : 1\n",
    "- 6059 : 2\n",
    "- 6111 : 3"
   ]
  },
  {
   "cell_type": "markdown",
   "metadata": {},
   "source": []
  },
  {
   "cell_type": "markdown",
   "metadata": {},
   "source": [
    "### Create function that cleans and preps the data prior to scaling and split into train, validate and test samples."
   ]
  },
  {
   "cell_type": "code",
   "execution_count": 28,
   "metadata": {},
   "outputs": [],
   "source": [
    "def prep_familyhome17():\n",
    "    df = acquire.new_familyhome17_data()\n",
    "    df[\"poolcnt\"].fillna(0, inplace = True)\n",
    "    df[\"garagecarcnt\"].fillna(0, inplace = True)\n",
    "    df[\"fireplacecnt\"].fillna(0, inplace = True)\n",
    "    df[\"hashottuborspa\"].fillna(0, inplace = True)\n",
    "    df.dropna(inplace=True)\n",
    "    df['yearbuilt'] = df.yearbuilt.astype(int)\n",
    "    df['fips'] = df.fips.astype(int)\n",
    "    df['regionidzip'] = df.regionidzip.astype(int)\n",
    "    df['bedroomcnt'] = df.bedroomcnt.astype(int) \n",
    "    df['hashottuborspa'] = df.hashottuborspa.astype(int)\n",
    "    df['garagecarcnt'] = df.garagecarcnt.astype(int)\n",
    "    df['fireplacecnt'] = df.fireplacecnt.astype(int)\n",
    "    df['poolcnt'] = df.poolcnt.astype(int)\n",
    "    df.drop('regionidzip', axis=1, inplace=True)\n",
    "    df.rename(columns = {'yearbuilt':'year', 'taxvaluedollarcnt':'home_value', 'calculatedfinishedsquarefeet':'squarefeet', 'lotsizesquarefeet':'lot_size', 'bedroomcnt':'bedrooms', 'bathroomcnt':'bathrooms', 'fireplacecnt':'fireplace', 'poolcnt':'pool'}, inplace = True)\n",
    "    df['fips_encoded'] = df.fips.map({6059: 2, 6037: 1, 6111: 3,})\n",
    "    df['home_age'] = 2017 - df.year\n",
    "    #df.drop('fips' 'year', axis=1, inplace=True)\n",
    "\n",
    "    return df"
   ]
  },
  {
   "cell_type": "code",
   "execution_count": 29,
   "metadata": {},
   "outputs": [],
   "source": [
    "# Create Dataframe from function\n",
    "df = pd.DataFrame(prep_familyhome17())"
   ]
  },
  {
   "cell_type": "code",
   "execution_count": 30,
   "metadata": {},
   "outputs": [
    {
     "data": {
      "text/html": [
       "<div>\n",
       "<style scoped>\n",
       "    .dataframe tbody tr th:only-of-type {\n",
       "        vertical-align: middle;\n",
       "    }\n",
       "\n",
       "    .dataframe tbody tr th {\n",
       "        vertical-align: top;\n",
       "    }\n",
       "\n",
       "    .dataframe thead th {\n",
       "        text-align: right;\n",
       "    }\n",
       "</style>\n",
       "<table border=\"1\" class=\"dataframe\">\n",
       "  <thead>\n",
       "    <tr style=\"text-align: right;\">\n",
       "      <th></th>\n",
       "      <th>year</th>\n",
       "      <th>home_value</th>\n",
       "      <th>squarefeet</th>\n",
       "      <th>lot_size</th>\n",
       "      <th>fips</th>\n",
       "      <th>bedrooms</th>\n",
       "      <th>bathrooms</th>\n",
       "      <th>hashottuborspa</th>\n",
       "      <th>garagecarcnt</th>\n",
       "      <th>fireplace</th>\n",
       "      <th>pool</th>\n",
       "      <th>fips_encoded</th>\n",
       "      <th>home_age</th>\n",
       "    </tr>\n",
       "  </thead>\n",
       "  <tbody>\n",
       "    <tr>\n",
       "      <th>0</th>\n",
       "      <td>1998</td>\n",
       "      <td>1023282.0</td>\n",
       "      <td>3100.0</td>\n",
       "      <td>4506.0</td>\n",
       "      <td>6059</td>\n",
       "      <td>4</td>\n",
       "      <td>3.5</td>\n",
       "      <td>0</td>\n",
       "      <td>2</td>\n",
       "      <td>0</td>\n",
       "      <td>0</td>\n",
       "      <td>2</td>\n",
       "      <td>19</td>\n",
       "    </tr>\n",
       "    <tr>\n",
       "      <th>1</th>\n",
       "      <td>1967</td>\n",
       "      <td>464000.0</td>\n",
       "      <td>1465.0</td>\n",
       "      <td>12647.0</td>\n",
       "      <td>6111</td>\n",
       "      <td>2</td>\n",
       "      <td>1.0</td>\n",
       "      <td>0</td>\n",
       "      <td>1</td>\n",
       "      <td>1</td>\n",
       "      <td>0</td>\n",
       "      <td>3</td>\n",
       "      <td>50</td>\n",
       "    </tr>\n",
       "    <tr>\n",
       "      <th>2</th>\n",
       "      <td>1962</td>\n",
       "      <td>564778.0</td>\n",
       "      <td>1243.0</td>\n",
       "      <td>8432.0</td>\n",
       "      <td>6059</td>\n",
       "      <td>3</td>\n",
       "      <td>2.0</td>\n",
       "      <td>0</td>\n",
       "      <td>2</td>\n",
       "      <td>0</td>\n",
       "      <td>1</td>\n",
       "      <td>2</td>\n",
       "      <td>55</td>\n",
       "    </tr>\n",
       "    <tr>\n",
       "      <th>3</th>\n",
       "      <td>1970</td>\n",
       "      <td>145143.0</td>\n",
       "      <td>2376.0</td>\n",
       "      <td>13038.0</td>\n",
       "      <td>6037</td>\n",
       "      <td>4</td>\n",
       "      <td>3.0</td>\n",
       "      <td>0</td>\n",
       "      <td>0</td>\n",
       "      <td>0</td>\n",
       "      <td>1</td>\n",
       "      <td>1</td>\n",
       "      <td>47</td>\n",
       "    </tr>\n",
       "    <tr>\n",
       "      <th>4</th>\n",
       "      <td>1950</td>\n",
       "      <td>773303.0</td>\n",
       "      <td>2962.0</td>\n",
       "      <td>63000.0</td>\n",
       "      <td>6037</td>\n",
       "      <td>4</td>\n",
       "      <td>3.0</td>\n",
       "      <td>0</td>\n",
       "      <td>0</td>\n",
       "      <td>0</td>\n",
       "      <td>1</td>\n",
       "      <td>1</td>\n",
       "      <td>67</td>\n",
       "    </tr>\n",
       "  </tbody>\n",
       "</table>\n",
       "</div>"
      ],
      "text/plain": [
       "   year  home_value  squarefeet  lot_size  fips  bedrooms  bathrooms  \\\n",
       "0  1998   1023282.0      3100.0    4506.0  6059         4        3.5   \n",
       "1  1967    464000.0      1465.0   12647.0  6111         2        1.0   \n",
       "2  1962    564778.0      1243.0    8432.0  6059         3        2.0   \n",
       "3  1970    145143.0      2376.0   13038.0  6037         4        3.0   \n",
       "4  1950    773303.0      2962.0   63000.0  6037         4        3.0   \n",
       "\n",
       "   hashottuborspa  garagecarcnt  fireplace  pool  fips_encoded  home_age  \n",
       "0               0             2          0     0             2        19  \n",
       "1               0             1          1     0             3        50  \n",
       "2               0             2          0     1             2        55  \n",
       "3               0             0          0     1             1        47  \n",
       "4               0             0          0     1             1        67  "
      ]
     },
     "execution_count": 30,
     "metadata": {},
     "output_type": "execute_result"
    }
   ],
   "source": [
    "# Review dataframe\n",
    "df.head()"
   ]
  },
  {
   "cell_type": "markdown",
   "metadata": {},
   "source": []
  },
  {
   "cell_type": "code",
   "execution_count": 31,
   "metadata": {},
   "outputs": [
    {
     "name": "stdout",
     "output_type": "stream",
     "text": [
      "<class 'pandas.core.frame.DataFrame'>\n",
      "Int64Index: 51953 entries, 0 to 52440\n",
      "Data columns (total 13 columns):\n",
      " #   Column          Non-Null Count  Dtype  \n",
      "---  ------          --------------  -----  \n",
      " 0   year            51953 non-null  int64  \n",
      " 1   home_value      51953 non-null  float64\n",
      " 2   squarefeet      51953 non-null  float64\n",
      " 3   lot_size        51953 non-null  float64\n",
      " 4   fips            51953 non-null  int64  \n",
      " 5   bedrooms        51953 non-null  int64  \n",
      " 6   bathrooms       51953 non-null  float64\n",
      " 7   hashottuborspa  51953 non-null  int64  \n",
      " 8   garagecarcnt    51953 non-null  int64  \n",
      " 9   fireplace       51953 non-null  int64  \n",
      " 10  pool            51953 non-null  int64  \n",
      " 11  fips_encoded    51953 non-null  int64  \n",
      " 12  home_age        51953 non-null  int64  \n",
      "dtypes: float64(4), int64(9)\n",
      "memory usage: 5.5 MB\n"
     ]
    }
   ],
   "source": [
    "# Review dataframe from details\n",
    "df.info()"
   ]
  },
  {
   "cell_type": "code",
   "execution_count": null,
   "metadata": {},
   "outputs": [],
   "source": []
  },
  {
   "cell_type": "markdown",
   "metadata": {},
   "source": [
    "## Split data into 3 samples"
   ]
  },
  {
   "cell_type": "code",
   "execution_count": 32,
   "metadata": {},
   "outputs": [],
   "source": [
    "train, test = train_test_split(df, test_size=.2, random_state=123)\n",
    "train, validate = train_test_split(train, test_size=.3, random_state=123)"
   ]
  },
  {
   "cell_type": "code",
   "execution_count": 33,
   "metadata": {},
   "outputs": [
    {
     "data": {
      "text/plain": [
       "((29093, 13), (12469, 13), (10391, 13))"
      ]
     },
     "execution_count": 33,
     "metadata": {},
     "output_type": "execute_result"
    }
   ],
   "source": [
    "train.shape, validate.shape, test.shape"
   ]
  },
  {
   "cell_type": "code",
   "execution_count": 34,
   "metadata": {},
   "outputs": [],
   "source": [
    "# split  data into train test and validate samples\n",
    "\n",
    "def split_familyhome17(df):\n",
    "    train, test = train_test_split(df, test_size=.2, random_state=123)\n",
    "    train, validate = train_test_split(train, test_size=.3, random_state=123)\n",
    "    return train, validate, test"
   ]
  },
  {
   "cell_type": "markdown",
   "metadata": {},
   "source": [
    "## Explore data"
   ]
  },
  {
   "cell_type": "markdown",
   "metadata": {},
   "source": [
    "Initial questions \n",
    "- Does square footage (continuous variable) factor into the home value (continuous variable)?\n",
    "\n",
    "\n",
    "- Does the lot size (continuous variable) help impact the home value (continuous variable)?\n",
    "\n",
    "\n",
    "- Does having features like a garage, pool, fire place, spa or hot tub (categorical variable) increase the home value (continuous variable)?\n",
    "\n",
    "\n",
    "- The fips (categorical variable) of a home impacts the home value (continuous variable)\n",
    "\n"
   ]
  },
  {
   "cell_type": "code",
   "execution_count": 35,
   "metadata": {},
   "outputs": [
    {
     "data": {
      "image/png": "[encoded data removed]",
      "text/plain": [
       "<Figure size 360x360 with 1 Axes>"
      ]
     },
     "metadata": {
      "needs_background": "light"
     },
     "output_type": "display_data"
    }
   ],
   "source": [
    "sns.relplot(x=\"squarefeet\", y=\"home_value\", data=train)\n",
    "plt.show()"
   ]
  },
  {
   "cell_type": "code",
   "execution_count": 36,
   "metadata": {},
   "outputs": [
    {
     "data": {
      "image/png": "[encoded data removed]",
      "text/plain": [
       "<Figure size 360x360 with 1 Axes>"
      ]
     },
     "metadata": {
      "needs_background": "light"
     },
     "output_type": "display_data"
    }
   ],
   "source": [
    "sns.relplot(x=\"lot_size\", y=\"home_value\", data=train)\n",
    "plt.show()"
   ]
  },
  {
   "cell_type": "code",
   "execution_count": 37,
   "metadata": {},
   "outputs": [],
   "source": [
    "# create a sample of train \n",
    "sample = train.sample(frac=0.05)"
   ]
  },
  {
   "cell_type": "code",
   "execution_count": 38,
   "metadata": {},
   "outputs": [
    {
     "name": "stderr",
     "output_type": "stream",
     "text": [
      "/usr/local/anaconda3/lib/python3.9/site-packages/seaborn/categorical.py:1296: UserWarning: 83.1% of the points cannot be placed; you may want to decrease the size of the markers or use stripplot.\n",
      "  warnings.warn(msg, UserWarning)\n",
      "/usr/local/anaconda3/lib/python3.9/site-packages/seaborn/categorical.py:1296: UserWarning: 70.1% of the points cannot be placed; you may want to decrease the size of the markers or use stripplot.\n",
      "  warnings.warn(msg, UserWarning)\n",
      "/usr/local/anaconda3/lib/python3.9/site-packages/seaborn/categorical.py:1296: UserWarning: 43.1% of the points cannot be placed; you may want to decrease the size of the markers or use stripplot.\n",
      "  warnings.warn(msg, UserWarning)\n"
     ]
    },
    {
     "data": {
      "text/plain": [
       "<AxesSubplot:xlabel='fips', ylabel='home_value'>"
      ]
     },
     "execution_count": 38,
     "metadata": {},
     "output_type": "execute_result"
    },
    {
     "data": {
      "image/png": "[encoded data removed]",
      "text/plain": [
       "<Figure size 432x288 with 1 Axes>"
      ]
     },
     "metadata": {
      "needs_background": "light"
     },
     "output_type": "display_data"
    }
   ],
   "source": [
    "# plot sample size of train \n",
    "sns.swarmplot(x='fips', y='home_value', data=sample)"
   ]
  },
  {
   "cell_type": "code",
   "execution_count": 39,
   "metadata": {},
   "outputs": [
    {
     "data": {
      "text/plain": [
       "<AxesSubplot:xlabel='fips', ylabel='home_value'>"
      ]
     },
     "execution_count": 39,
     "metadata": {},
     "output_type": "execute_result"
    },
    {
     "data": {
      "image/png": "[encoded data removed]",
      "text/plain": [
       "<Figure size 432x288 with 1 Axes>"
      ]
     },
     "metadata": {
      "needs_background": "light"
     },
     "output_type": "display_data"
    }
   ],
   "source": [
    "# Plot of the distribution of fips vs home value\n",
    "sns.barplot(x='fips', y='home_value', data=sample)"
   ]
  },
  {
   "cell_type": "code",
   "execution_count": 40,
   "metadata": {},
   "outputs": [
    {
     "data": {
      "text/plain": [
       "<AxesSubplot:xlabel='garagecarcnt', ylabel='home_value'>"
      ]
     },
     "execution_count": 40,
     "metadata": {},
     "output_type": "execute_result"
    },
    {
     "data": {
      "image/png": "[encoded data removed]",
      "text/plain": [
       "<Figure size 432x288 with 1 Axes>"
      ]
     },
     "metadata": {
      "needs_background": "light"
     },
     "output_type": "display_data"
    }
   ],
   "source": [
    "sns.stripplot(x='garagecarcnt', y='home_value', data=sample)"
   ]
  },
  {
   "cell_type": "code",
   "execution_count": 41,
   "metadata": {},
   "outputs": [
    {
     "data": {
      "text/plain": [
       "0     34075\n",
       "2     14773\n",
       "1      2165\n",
       "3       618\n",
       "4       252\n",
       "5        45\n",
       "6        12\n",
       "7         3\n",
       "10        3\n",
       "8         2\n",
       "9         2\n",
       "11        1\n",
       "13        1\n",
       "14        1\n",
       "Name: garagecarcnt, dtype: int64"
      ]
     },
     "execution_count": 41,
     "metadata": {},
     "output_type": "execute_result"
    }
   ],
   "source": [
    "df.garagecarcnt.value_counts()"
   ]
  },
  {
   "cell_type": "code",
   "execution_count": 42,
   "metadata": {},
   "outputs": [
    {
     "data": {
      "text/plain": [
       "3     23265\n",
       "4     15111\n",
       "2      8265\n",
       "5      3915\n",
       "6       627\n",
       "1       578\n",
       "7       103\n",
       "0        54\n",
       "8        24\n",
       "9         8\n",
       "10        2\n",
       "11        1\n",
       "Name: bedrooms, dtype: int64"
      ]
     },
     "execution_count": 42,
     "metadata": {},
     "output_type": "execute_result"
    }
   ],
   "source": [
    "df.bedrooms.value_counts()"
   ]
  },
  {
   "cell_type": "code",
   "execution_count": 43,
   "metadata": {},
   "outputs": [
    {
     "data": {
      "text/plain": [
       "1120.0    128\n",
       "1200.0    119\n",
       "1080.0    102\n",
       "936.0      86\n",
       "1040.0     83\n",
       "         ... \n",
       "604.0       1\n",
       "5422.0      1\n",
       "534.0       1\n",
       "6727.0      1\n",
       "5655.0      1\n",
       "Name: squarefeet, Length: 4694, dtype: int64"
      ]
     },
     "execution_count": 43,
     "metadata": {},
     "output_type": "execute_result"
    }
   ],
   "source": [
    "df.squarefeet.value_counts()"
   ]
  },
  {
   "cell_type": "code",
   "execution_count": 44,
   "metadata": {},
   "outputs": [
    {
     "data": {
      "text/plain": [
       "<AxesSubplot:xlabel='garagecarcnt', ylabel='home_value'>"
      ]
     },
     "execution_count": 44,
     "metadata": {},
     "output_type": "execute_result"
    },
    {
     "data": {
      "image/png": "[encoded data removed]",
      "text/plain": [
       "<Figure size 432x288 with 1 Axes>"
      ]
     },
     "metadata": {
      "needs_background": "light"
     },
     "output_type": "display_data"
    }
   ],
   "source": [
    "sns.barplot(x='garagecarcnt', y='home_value', data=df)"
   ]
  },
  {
   "cell_type": "code",
   "execution_count": 45,
   "metadata": {},
   "outputs": [
    {
     "data": {
      "text/plain": [
       "<AxesSubplot:xlabel='garagecarcnt', ylabel='home_value'>"
      ]
     },
     "execution_count": 45,
     "metadata": {},
     "output_type": "execute_result"
    },
    {
     "data": {
      "image/png": "[encoded data removed]",
      "text/plain": [
       "<Figure size 432x288 with 1 Axes>"
      ]
     },
     "metadata": {
      "needs_background": "light"
     },
     "output_type": "display_data"
    }
   ],
   "source": [
    "sns.barplot(x='garagecarcnt', y='home_value', data=sample)"
   ]
  },
  {
   "cell_type": "code",
   "execution_count": 46,
   "metadata": {},
   "outputs": [
    {
     "data": {
      "text/html": [
       "<div>\n",
       "<style scoped>\n",
       "    .dataframe tbody tr th:only-of-type {\n",
       "        vertical-align: middle;\n",
       "    }\n",
       "\n",
       "    .dataframe tbody tr th {\n",
       "        vertical-align: top;\n",
       "    }\n",
       "\n",
       "    .dataframe thead th {\n",
       "        text-align: right;\n",
       "    }\n",
       "</style>\n",
       "<table border=\"1\" class=\"dataframe\">\n",
       "  <thead>\n",
       "    <tr style=\"text-align: right;\">\n",
       "      <th></th>\n",
       "      <th>year</th>\n",
       "      <th>home_value</th>\n",
       "      <th>squarefeet</th>\n",
       "      <th>lot_size</th>\n",
       "      <th>fips</th>\n",
       "      <th>bedrooms</th>\n",
       "      <th>bathrooms</th>\n",
       "      <th>hashottuborspa</th>\n",
       "      <th>garagecarcnt</th>\n",
       "      <th>fireplace</th>\n",
       "      <th>pool</th>\n",
       "      <th>fips_encoded</th>\n",
       "      <th>home_age</th>\n",
       "    </tr>\n",
       "  </thead>\n",
       "  <tbody>\n",
       "    <tr>\n",
       "      <th>year</th>\n",
       "      <td>1.000000</td>\n",
       "      <td>0.183667</td>\n",
       "      <td>0.457174</td>\n",
       "      <td>0.038428</td>\n",
       "      <td>0.301506</td>\n",
       "      <td>0.384845</td>\n",
       "      <td>0.523917</td>\n",
       "      <td>0.192050</td>\n",
       "      <td>0.410467</td>\n",
       "      <td>0.205695</td>\n",
       "      <td>0.123787</td>\n",
       "      <td>0.349744</td>\n",
       "      <td>-1.000000</td>\n",
       "    </tr>\n",
       "    <tr>\n",
       "      <th>home_value</th>\n",
       "      <td>0.183667</td>\n",
       "      <td>1.000000</td>\n",
       "      <td>0.607250</td>\n",
       "      <td>0.028473</td>\n",
       "      <td>0.025718</td>\n",
       "      <td>0.272367</td>\n",
       "      <td>0.523535</td>\n",
       "      <td>0.143099</td>\n",
       "      <td>0.103425</td>\n",
       "      <td>0.058170</td>\n",
       "      <td>0.225609</td>\n",
       "      <td>0.040806</td>\n",
       "      <td>-0.183667</td>\n",
       "    </tr>\n",
       "    <tr>\n",
       "      <th>squarefeet</th>\n",
       "      <td>0.457174</td>\n",
       "      <td>0.607250</td>\n",
       "      <td>1.000000</td>\n",
       "      <td>0.051079</td>\n",
       "      <td>0.113900</td>\n",
       "      <td>0.629162</td>\n",
       "      <td>0.849803</td>\n",
       "      <td>0.240047</td>\n",
       "      <td>0.242823</td>\n",
       "      <td>0.171450</td>\n",
       "      <td>0.365466</td>\n",
       "      <td>0.136208</td>\n",
       "      <td>-0.457174</td>\n",
       "    </tr>\n",
       "    <tr>\n",
       "      <th>lot_size</th>\n",
       "      <td>0.038428</td>\n",
       "      <td>0.028473</td>\n",
       "      <td>0.051079</td>\n",
       "      <td>1.000000</td>\n",
       "      <td>-0.006798</td>\n",
       "      <td>0.014511</td>\n",
       "      <td>0.037209</td>\n",
       "      <td>-0.000511</td>\n",
       "      <td>-0.012034</td>\n",
       "      <td>0.007770</td>\n",
       "      <td>0.024526</td>\n",
       "      <td>-0.013634</td>\n",
       "      <td>-0.038428</td>\n",
       "    </tr>\n",
       "    <tr>\n",
       "      <th>fips</th>\n",
       "      <td>0.301506</td>\n",
       "      <td>0.025718</td>\n",
       "      <td>0.113900</td>\n",
       "      <td>-0.006798</td>\n",
       "      <td>1.000000</td>\n",
       "      <td>0.140461</td>\n",
       "      <td>0.114951</td>\n",
       "      <td>0.082733</td>\n",
       "      <td>0.736790</td>\n",
       "      <td>0.630079</td>\n",
       "      <td>0.012378</td>\n",
       "      <td>0.963290</td>\n",
       "      <td>-0.301506</td>\n",
       "    </tr>\n",
       "    <tr>\n",
       "      <th>bedrooms</th>\n",
       "      <td>0.384845</td>\n",
       "      <td>0.272367</td>\n",
       "      <td>0.629162</td>\n",
       "      <td>0.014511</td>\n",
       "      <td>0.140461</td>\n",
       "      <td>1.000000</td>\n",
       "      <td>0.642822</td>\n",
       "      <td>0.134775</td>\n",
       "      <td>0.212387</td>\n",
       "      <td>0.145440</td>\n",
       "      <td>0.260456</td>\n",
       "      <td>0.157412</td>\n",
       "      <td>-0.384845</td>\n",
       "    </tr>\n",
       "    <tr>\n",
       "      <th>bathrooms</th>\n",
       "      <td>0.523917</td>\n",
       "      <td>0.523535</td>\n",
       "      <td>0.849803</td>\n",
       "      <td>0.037209</td>\n",
       "      <td>0.114951</td>\n",
       "      <td>0.642822</td>\n",
       "      <td>1.000000</td>\n",
       "      <td>0.202308</td>\n",
       "      <td>0.232042</td>\n",
       "      <td>0.142343</td>\n",
       "      <td>0.327822</td>\n",
       "      <td>0.139700</td>\n",
       "      <td>-0.523917</td>\n",
       "    </tr>\n",
       "    <tr>\n",
       "      <th>hashottuborspa</th>\n",
       "      <td>0.192050</td>\n",
       "      <td>0.143099</td>\n",
       "      <td>0.240047</td>\n",
       "      <td>-0.000511</td>\n",
       "      <td>0.082733</td>\n",
       "      <td>0.134775</td>\n",
       "      <td>0.202308</td>\n",
       "      <td>1.000000</td>\n",
       "      <td>0.282066</td>\n",
       "      <td>0.042103</td>\n",
       "      <td>0.205153</td>\n",
       "      <td>0.153258</td>\n",
       "      <td>-0.192050</td>\n",
       "    </tr>\n",
       "    <tr>\n",
       "      <th>garagecarcnt</th>\n",
       "      <td>0.410467</td>\n",
       "      <td>0.103425</td>\n",
       "      <td>0.242823</td>\n",
       "      <td>-0.012034</td>\n",
       "      <td>0.736790</td>\n",
       "      <td>0.212387</td>\n",
       "      <td>0.232042</td>\n",
       "      <td>0.282066</td>\n",
       "      <td>1.000000</td>\n",
       "      <td>0.511846</td>\n",
       "      <td>0.071753</td>\n",
       "      <td>0.862480</td>\n",
       "      <td>-0.410467</td>\n",
       "    </tr>\n",
       "    <tr>\n",
       "      <th>fireplace</th>\n",
       "      <td>0.205695</td>\n",
       "      <td>0.058170</td>\n",
       "      <td>0.171450</td>\n",
       "      <td>0.007770</td>\n",
       "      <td>0.630079</td>\n",
       "      <td>0.145440</td>\n",
       "      <td>0.142343</td>\n",
       "      <td>0.042103</td>\n",
       "      <td>0.511846</td>\n",
       "      <td>1.000000</td>\n",
       "      <td>0.098871</td>\n",
       "      <td>0.607741</td>\n",
       "      <td>-0.205695</td>\n",
       "    </tr>\n",
       "    <tr>\n",
       "      <th>pool</th>\n",
       "      <td>0.123787</td>\n",
       "      <td>0.225609</td>\n",
       "      <td>0.365466</td>\n",
       "      <td>0.024526</td>\n",
       "      <td>0.012378</td>\n",
       "      <td>0.260456</td>\n",
       "      <td>0.327822</td>\n",
       "      <td>0.205153</td>\n",
       "      <td>0.071753</td>\n",
       "      <td>0.098871</td>\n",
       "      <td>1.000000</td>\n",
       "      <td>0.020722</td>\n",
       "      <td>-0.123787</td>\n",
       "    </tr>\n",
       "    <tr>\n",
       "      <th>fips_encoded</th>\n",
       "      <td>0.349744</td>\n",
       "      <td>0.040806</td>\n",
       "      <td>0.136208</td>\n",
       "      <td>-0.013634</td>\n",
       "      <td>0.963290</td>\n",
       "      <td>0.157412</td>\n",
       "      <td>0.139700</td>\n",
       "      <td>0.153258</td>\n",
       "      <td>0.862480</td>\n",
       "      <td>0.607741</td>\n",
       "      <td>0.020722</td>\n",
       "      <td>1.000000</td>\n",
       "      <td>-0.349744</td>\n",
       "    </tr>\n",
       "    <tr>\n",
       "      <th>home_age</th>\n",
       "      <td>-1.000000</td>\n",
       "      <td>-0.183667</td>\n",
       "      <td>-0.457174</td>\n",
       "      <td>-0.038428</td>\n",
       "      <td>-0.301506</td>\n",
       "      <td>-0.384845</td>\n",
       "      <td>-0.523917</td>\n",
       "      <td>-0.192050</td>\n",
       "      <td>-0.410467</td>\n",
       "      <td>-0.205695</td>\n",
       "      <td>-0.123787</td>\n",
       "      <td>-0.349744</td>\n",
       "      <td>1.000000</td>\n",
       "    </tr>\n",
       "  </tbody>\n",
       "</table>\n",
       "</div>"
      ],
      "text/plain": [
       "                    year  home_value  squarefeet  lot_size      fips  \\\n",
       "year            1.000000    0.183667    0.457174  0.038428  0.301506   \n",
       "home_value      0.183667    1.000000    0.607250  0.028473  0.025718   \n",
       "squarefeet      0.457174    0.607250    1.000000  0.051079  0.113900   \n",
       "lot_size        0.038428    0.028473    0.051079  1.000000 -0.006798   \n",
       "fips            0.301506    0.025718    0.113900 -0.006798  1.000000   \n",
       "bedrooms        0.384845    0.272367    0.629162  0.014511  0.140461   \n",
       "bathrooms       0.523917    0.523535    0.849803  0.037209  0.114951   \n",
       "hashottuborspa  0.192050    0.143099    0.240047 -0.000511  0.082733   \n",
       "garagecarcnt    0.410467    0.103425    0.242823 -0.012034  0.736790   \n",
       "fireplace       0.205695    0.058170    0.171450  0.007770  0.630079   \n",
       "pool            0.123787    0.225609    0.365466  0.024526  0.012378   \n",
       "fips_encoded    0.349744    0.040806    0.136208 -0.013634  0.963290   \n",
       "home_age       -1.000000   -0.183667   -0.457174 -0.038428 -0.301506   \n",
       "\n",
       "                bedrooms  bathrooms  hashottuborspa  garagecarcnt  fireplace  \\\n",
       "year            0.384845   0.523917        0.192050      0.410467   0.205695   \n",
       "home_value      0.272367   0.523535        0.143099      0.103425   0.058170   \n",
       "squarefeet      0.629162   0.849803        0.240047      0.242823   0.171450   \n",
       "lot_size        0.014511   0.037209       -0.000511     -0.012034   0.007770   \n",
       "fips            0.140461   0.114951        0.082733      0.736790   0.630079   \n",
       "bedrooms        1.000000   0.642822        0.134775      0.212387   0.145440   \n",
       "bathrooms       0.642822   1.000000        0.202308      0.232042   0.142343   \n",
       "hashottuborspa  0.134775   0.202308        1.000000      0.282066   0.042103   \n",
       "garagecarcnt    0.212387   0.232042        0.282066      1.000000   0.511846   \n",
       "fireplace       0.145440   0.142343        0.042103      0.511846   1.000000   \n",
       "pool            0.260456   0.327822        0.205153      0.071753   0.098871   \n",
       "fips_encoded    0.157412   0.139700        0.153258      0.862480   0.607741   \n",
       "home_age       -0.384845  -0.523917       -0.192050     -0.410467  -0.205695   \n",
       "\n",
       "                    pool  fips_encoded  home_age  \n",
       "year            0.123787      0.349744 -1.000000  \n",
       "home_value      0.225609      0.040806 -0.183667  \n",
       "squarefeet      0.365466      0.136208 -0.457174  \n",
       "lot_size        0.024526     -0.013634 -0.038428  \n",
       "fips            0.012378      0.963290 -0.301506  \n",
       "bedrooms        0.260456      0.157412 -0.384845  \n",
       "bathrooms       0.327822      0.139700 -0.523917  \n",
       "hashottuborspa  0.205153      0.153258 -0.192050  \n",
       "garagecarcnt    0.071753      0.862480 -0.410467  \n",
       "fireplace       0.098871      0.607741 -0.205695  \n",
       "pool            1.000000      0.020722 -0.123787  \n",
       "fips_encoded    0.020722      1.000000 -0.349744  \n",
       "home_age       -0.123787     -0.349744  1.000000  "
      ]
     },
     "execution_count": 46,
     "metadata": {},
     "output_type": "execute_result"
    }
   ],
   "source": [
    "# Create the correlation matrix for all exams.\n",
    "\n",
    "zill_corr = train.corr()\n",
    "zill_corr\n"
   ]
  },
  {
   "cell_type": "code",
   "execution_count": 47,
   "metadata": {},
   "outputs": [
    {
     "data": {
      "image/png": "[encoded data removed]",
      "text/plain": [
       "<Figure size 864x576 with 2 Axes>"
      ]
     },
     "metadata": {
      "needs_background": "light"
     },
     "output_type": "display_data"
    }
   ],
   "source": [
    "plt.figure(figsize=(12,8))\n",
    "sns.heatmap(zill_corr, cmap='Purples', annot=True, linewidth=0.5, mask= np.triu(zill_corr))\n",
    "plt.ylim(0, 13)\n",
    "\n",
    "plt.show()\n"
   ]
  },
  {
   "cell_type": "markdown",
   "metadata": {},
   "source": [
    "**Takeaways**"
   ]
  },
  {
   "cell_type": "markdown",
   "metadata": {},
   "source": [
    "## Scaling the data to normalize it"
   ]
  },
  {
   "cell_type": "code",
   "execution_count": 48,
   "metadata": {},
   "outputs": [],
   "source": [
    "rbs = sklearn.preprocessing.RobustScaler()\n",
    "# Note that we only call .fit with the training data,\n",
    "# but we use .transform to apply the scaling to all the data splits.\n"
   ]
  },
  {
   "cell_type": "code",
   "execution_count": 49,
   "metadata": {},
   "outputs": [],
   "source": [
    "def scale_data(train, validate, test):\n",
    "    \n",
    "    scale_columns = [ 'squarefeet', 'lot_size', 'bedrooms', 'bathrooms','garagecarcnt', 'fips_encoded', 'home_age' ]\n",
    "    \n",
    "    train_scaled = train.copy()\n",
    "    validate_scaled = validate.copy()\n",
    "    test_scaled = test.copy()\n",
    "    \n",
    "    rbs = RobustScaler()\n",
    "    \n",
    "    rbs.fit(train[scale_columns])\n",
    "    \n",
    "    train_scaled[scale_columns] = rbs.transform(train[scale_columns])\n",
    "    validate_scaled[scale_columns] = rbs.transform(validate[scale_columns])\n",
    "    test_scaled[scale_columns] = rbs.transform(test[scale_columns])\n",
    "    \n",
    "    return train_scaled, validate_scaled, test_scaled"
   ]
  },
  {
   "cell_type": "code",
   "execution_count": 50,
   "metadata": {},
   "outputs": [],
   "source": [
    "#Test my function\n",
    "train_s, valid_s, test_s = scale_data(train, validate, test)"
   ]
  },
  {
   "cell_type": "code",
   "execution_count": 51,
   "metadata": {},
   "outputs": [
    {
     "data": {
      "text/html": [
       "<div>\n",
       "<style scoped>\n",
       "    .dataframe tbody tr th:only-of-type {\n",
       "        vertical-align: middle;\n",
       "    }\n",
       "\n",
       "    .dataframe tbody tr th {\n",
       "        vertical-align: top;\n",
       "    }\n",
       "\n",
       "    .dataframe thead th {\n",
       "        text-align: right;\n",
       "    }\n",
       "</style>\n",
       "<table border=\"1\" class=\"dataframe\">\n",
       "  <thead>\n",
       "    <tr style=\"text-align: right;\">\n",
       "      <th></th>\n",
       "      <th>year</th>\n",
       "      <th>home_value</th>\n",
       "      <th>squarefeet</th>\n",
       "      <th>lot_size</th>\n",
       "      <th>fips</th>\n",
       "      <th>bedrooms</th>\n",
       "      <th>bathrooms</th>\n",
       "      <th>hashottuborspa</th>\n",
       "      <th>garagecarcnt</th>\n",
       "      <th>fireplace</th>\n",
       "      <th>pool</th>\n",
       "      <th>fips_encoded</th>\n",
       "      <th>home_age</th>\n",
       "    </tr>\n",
       "  </thead>\n",
       "  <tbody>\n",
       "    <tr>\n",
       "      <th>50541</th>\n",
       "      <td>1989</td>\n",
       "      <td>686554.0</td>\n",
       "      <td>0.359691</td>\n",
       "      <td>-1.648573</td>\n",
       "      <td>6059</td>\n",
       "      <td>-1.0</td>\n",
       "      <td>0.5</td>\n",
       "      <td>0</td>\n",
       "      <td>1.0</td>\n",
       "      <td>0</td>\n",
       "      <td>0</td>\n",
       "      <td>1.0</td>\n",
       "      <td>-1.000000</td>\n",
       "    </tr>\n",
       "    <tr>\n",
       "      <th>22959</th>\n",
       "      <td>1909</td>\n",
       "      <td>112711.0</td>\n",
       "      <td>-0.570878</td>\n",
       "      <td>-0.512407</td>\n",
       "      <td>6037</td>\n",
       "      <td>-1.0</td>\n",
       "      <td>-1.0</td>\n",
       "      <td>0</td>\n",
       "      <td>0.0</td>\n",
       "      <td>0</td>\n",
       "      <td>0</td>\n",
       "      <td>0.0</td>\n",
       "      <td>1.758621</td>\n",
       "    </tr>\n",
       "    <tr>\n",
       "      <th>32939</th>\n",
       "      <td>1977</td>\n",
       "      <td>227008.0</td>\n",
       "      <td>-0.055931</td>\n",
       "      <td>-0.637407</td>\n",
       "      <td>6037</td>\n",
       "      <td>1.0</td>\n",
       "      <td>1.0</td>\n",
       "      <td>0</td>\n",
       "      <td>0.0</td>\n",
       "      <td>0</td>\n",
       "      <td>0</td>\n",
       "      <td>0.0</td>\n",
       "      <td>-0.586207</td>\n",
       "    </tr>\n",
       "    <tr>\n",
       "      <th>26019</th>\n",
       "      <td>1948</td>\n",
       "      <td>2100339.0</td>\n",
       "      <td>1.191900</td>\n",
       "      <td>1.218362</td>\n",
       "      <td>6037</td>\n",
       "      <td>0.0</td>\n",
       "      <td>0.0</td>\n",
       "      <td>0</td>\n",
       "      <td>0.0</td>\n",
       "      <td>0</td>\n",
       "      <td>1</td>\n",
       "      <td>0.0</td>\n",
       "      <td>0.413793</td>\n",
       "    </tr>\n",
       "    <tr>\n",
       "      <th>35209</th>\n",
       "      <td>1975</td>\n",
       "      <td>347952.0</td>\n",
       "      <td>0.792671</td>\n",
       "      <td>-0.032878</td>\n",
       "      <td>6059</td>\n",
       "      <td>0.0</td>\n",
       "      <td>0.5</td>\n",
       "      <td>0</td>\n",
       "      <td>1.0</td>\n",
       "      <td>0</td>\n",
       "      <td>1</td>\n",
       "      <td>1.0</td>\n",
       "      <td>-0.517241</td>\n",
       "    </tr>\n",
       "  </tbody>\n",
       "</table>\n",
       "</div>"
      ],
      "text/plain": [
       "       year  home_value  squarefeet  lot_size  fips  bedrooms  bathrooms  \\\n",
       "50541  1989    686554.0    0.359691 -1.648573  6059      -1.0        0.5   \n",
       "22959  1909    112711.0   -0.570878 -0.512407  6037      -1.0       -1.0   \n",
       "32939  1977    227008.0   -0.055931 -0.637407  6037       1.0        1.0   \n",
       "26019  1948   2100339.0    1.191900  1.218362  6037       0.0        0.0   \n",
       "35209  1975    347952.0    0.792671 -0.032878  6059       0.0        0.5   \n",
       "\n",
       "       hashottuborspa  garagecarcnt  fireplace  pool  fips_encoded  home_age  \n",
       "50541               0           1.0          0     0           1.0 -1.000000  \n",
       "22959               0           0.0          0     0           0.0  1.758621  \n",
       "32939               0           0.0          0     0           0.0 -0.586207  \n",
       "26019               0           0.0          0     1           0.0  0.413793  \n",
       "35209               0           1.0          0     1           1.0 -0.517241  "
      ]
     },
     "execution_count": 51,
     "metadata": {},
     "output_type": "execute_result"
    }
   ],
   "source": [
    "train_s.head()"
   ]
  },
  {
   "cell_type": "code",
   "execution_count": 52,
   "metadata": {},
   "outputs": [
    {
     "data": {
      "text/html": [
       "<div>\n",
       "<style scoped>\n",
       "    .dataframe tbody tr th:only-of-type {\n",
       "        vertical-align: middle;\n",
       "    }\n",
       "\n",
       "    .dataframe tbody tr th {\n",
       "        vertical-align: top;\n",
       "    }\n",
       "\n",
       "    .dataframe thead th {\n",
       "        text-align: right;\n",
       "    }\n",
       "</style>\n",
       "<table border=\"1\" class=\"dataframe\">\n",
       "  <thead>\n",
       "    <tr style=\"text-align: right;\">\n",
       "      <th></th>\n",
       "      <th>squarefeet</th>\n",
       "      <th>lot_size</th>\n",
       "      <th>bedrooms</th>\n",
       "      <th>bathrooms</th>\n",
       "      <th>hashottuborspa</th>\n",
       "      <th>garagecarcnt</th>\n",
       "      <th>fireplace</th>\n",
       "      <th>pool</th>\n",
       "      <th>fips_encoded</th>\n",
       "      <th>home_age</th>\n",
       "    </tr>\n",
       "  </thead>\n",
       "  <tbody>\n",
       "    <tr>\n",
       "      <th>50541</th>\n",
       "      <td>0.359691</td>\n",
       "      <td>-1.648573</td>\n",
       "      <td>-1.0</td>\n",
       "      <td>0.5</td>\n",
       "      <td>0</td>\n",
       "      <td>1.0</td>\n",
       "      <td>0</td>\n",
       "      <td>0</td>\n",
       "      <td>1.0</td>\n",
       "      <td>-1.000000</td>\n",
       "    </tr>\n",
       "    <tr>\n",
       "      <th>22959</th>\n",
       "      <td>-0.570878</td>\n",
       "      <td>-0.512407</td>\n",
       "      <td>-1.0</td>\n",
       "      <td>-1.0</td>\n",
       "      <td>0</td>\n",
       "      <td>0.0</td>\n",
       "      <td>0</td>\n",
       "      <td>0</td>\n",
       "      <td>0.0</td>\n",
       "      <td>1.758621</td>\n",
       "    </tr>\n",
       "    <tr>\n",
       "      <th>32939</th>\n",
       "      <td>-0.055931</td>\n",
       "      <td>-0.637407</td>\n",
       "      <td>1.0</td>\n",
       "      <td>1.0</td>\n",
       "      <td>0</td>\n",
       "      <td>0.0</td>\n",
       "      <td>0</td>\n",
       "      <td>0</td>\n",
       "      <td>0.0</td>\n",
       "      <td>-0.586207</td>\n",
       "    </tr>\n",
       "    <tr>\n",
       "      <th>26019</th>\n",
       "      <td>1.191900</td>\n",
       "      <td>1.218362</td>\n",
       "      <td>0.0</td>\n",
       "      <td>0.0</td>\n",
       "      <td>0</td>\n",
       "      <td>0.0</td>\n",
       "      <td>0</td>\n",
       "      <td>1</td>\n",
       "      <td>0.0</td>\n",
       "      <td>0.413793</td>\n",
       "    </tr>\n",
       "    <tr>\n",
       "      <th>35209</th>\n",
       "      <td>0.792671</td>\n",
       "      <td>-0.032878</td>\n",
       "      <td>0.0</td>\n",
       "      <td>0.5</td>\n",
       "      <td>0</td>\n",
       "      <td>1.0</td>\n",
       "      <td>0</td>\n",
       "      <td>1</td>\n",
       "      <td>1.0</td>\n",
       "      <td>-0.517241</td>\n",
       "    </tr>\n",
       "  </tbody>\n",
       "</table>\n",
       "</div>"
      ],
      "text/plain": [
       "       squarefeet  lot_size  bedrooms  bathrooms  hashottuborspa  \\\n",
       "50541    0.359691 -1.648573      -1.0        0.5               0   \n",
       "22959   -0.570878 -0.512407      -1.0       -1.0               0   \n",
       "32939   -0.055931 -0.637407       1.0        1.0               0   \n",
       "26019    1.191900  1.218362       0.0        0.0               0   \n",
       "35209    0.792671 -0.032878       0.0        0.5               0   \n",
       "\n",
       "       garagecarcnt  fireplace  pool  fips_encoded  home_age  \n",
       "50541           1.0          0     0           1.0 -1.000000  \n",
       "22959           0.0          0     0           0.0  1.758621  \n",
       "32939           0.0          0     0           0.0 -0.586207  \n",
       "26019           0.0          0     1           0.0  0.413793  \n",
       "35209           1.0          0     1           1.0 -0.517241  "
      ]
     },
     "execution_count": 52,
     "metadata": {},
     "output_type": "execute_result"
    }
   ],
   "source": [
    "# drop target variable and encoded variable from train sample \n",
    "X_train = train_s.drop(columns=['home_value', 'fips', 'year'])\n",
    "X_train.head()\n"
   ]
  },
  {
   "cell_type": "code",
   "execution_count": 53,
   "metadata": {},
   "outputs": [
    {
     "data": {
      "text/plain": [
       "50541     686554.0\n",
       "22959     112711.0\n",
       "32939     227008.0\n",
       "26019    2100339.0\n",
       "35209     347952.0\n",
       "Name: home_value, dtype: float64"
      ]
     },
     "execution_count": 53,
     "metadata": {},
     "output_type": "execute_result"
    }
   ],
   "source": [
    "y_train = train.home_value\n",
    "y_train.head()"
   ]
  },
  {
   "cell_type": "code",
   "execution_count": 54,
   "metadata": {},
   "outputs": [],
   "source": [
    "def create_x_y_train():\n",
    "    # drop target variable and encoded variable from train sample \n",
    "    X_train = train_s.drop(columns=['home_value', 'fips', 'year'])\n",
    "    \n",
    "    # dataframe with the target variable only\n",
    "    y_train = train.home_value\n",
    "    return X_train, y_train"
   ]
  },
  {
   "cell_type": "markdown",
   "metadata": {},
   "source": [
    "## Modeling the data"
   ]
  },
  {
   "cell_type": "code",
   "execution_count": 55,
   "metadata": {},
   "outputs": [],
   "source": [
    "# Create dataframe with actual and baseline home value on train\n",
    "\n",
    "home_value_mean =  pd.DataFrame(train.home_value)\n",
    "\n",
    "home_value_mean[\"baseline\"]= train.home_value.mean()\n",
    "\n",
    "\n"
   ]
  },
  {
   "cell_type": "code",
   "execution_count": 56,
   "metadata": {},
   "outputs": [
    {
     "data": {
      "text/html": [
       "<div>\n",
       "<style scoped>\n",
       "    .dataframe tbody tr th:only-of-type {\n",
       "        vertical-align: middle;\n",
       "    }\n",
       "\n",
       "    .dataframe tbody tr th {\n",
       "        vertical-align: top;\n",
       "    }\n",
       "\n",
       "    .dataframe thead th {\n",
       "        text-align: right;\n",
       "    }\n",
       "</style>\n",
       "<table border=\"1\" class=\"dataframe\">\n",
       "  <thead>\n",
       "    <tr style=\"text-align: right;\">\n",
       "      <th></th>\n",
       "      <th>home_value</th>\n",
       "      <th>baseline</th>\n",
       "    </tr>\n",
       "  </thead>\n",
       "  <tbody>\n",
       "    <tr>\n",
       "      <th>50541</th>\n",
       "      <td>686554.0</td>\n",
       "      <td>524685.288317</td>\n",
       "    </tr>\n",
       "    <tr>\n",
       "      <th>22959</th>\n",
       "      <td>112711.0</td>\n",
       "      <td>524685.288317</td>\n",
       "    </tr>\n",
       "    <tr>\n",
       "      <th>32939</th>\n",
       "      <td>227008.0</td>\n",
       "      <td>524685.288317</td>\n",
       "    </tr>\n",
       "    <tr>\n",
       "      <th>26019</th>\n",
       "      <td>2100339.0</td>\n",
       "      <td>524685.288317</td>\n",
       "    </tr>\n",
       "    <tr>\n",
       "      <th>35209</th>\n",
       "      <td>347952.0</td>\n",
       "      <td>524685.288317</td>\n",
       "    </tr>\n",
       "  </tbody>\n",
       "</table>\n",
       "</div>"
      ],
      "text/plain": [
       "       home_value       baseline\n",
       "50541    686554.0  524685.288317\n",
       "22959    112711.0  524685.288317\n",
       "32939    227008.0  524685.288317\n",
       "26019   2100339.0  524685.288317\n",
       "35209    347952.0  524685.288317"
      ]
     },
     "execution_count": 56,
     "metadata": {},
     "output_type": "execute_result"
    }
   ],
   "source": [
    "home_value_mean.head()"
   ]
  },
  {
   "cell_type": "code",
   "execution_count": 57,
   "metadata": {},
   "outputs": [
    {
     "data": {
      "text/html": [
       "<div>\n",
       "<style scoped>\n",
       "    .dataframe tbody tr th:only-of-type {\n",
       "        vertical-align: middle;\n",
       "    }\n",
       "\n",
       "    .dataframe tbody tr th {\n",
       "        vertical-align: top;\n",
       "    }\n",
       "\n",
       "    .dataframe thead th {\n",
       "        text-align: right;\n",
       "    }\n",
       "</style>\n",
       "<table border=\"1\" class=\"dataframe\">\n",
       "  <thead>\n",
       "    <tr style=\"text-align: right;\">\n",
       "      <th></th>\n",
       "      <th>home_value</th>\n",
       "      <th>baseline</th>\n",
       "    </tr>\n",
       "  </thead>\n",
       "  <tbody>\n",
       "    <tr>\n",
       "      <th>17506</th>\n",
       "      <td>48185.0</td>\n",
       "      <td>524685.288317</td>\n",
       "    </tr>\n",
       "    <tr>\n",
       "      <th>27563</th>\n",
       "      <td>324937.0</td>\n",
       "      <td>524685.288317</td>\n",
       "    </tr>\n",
       "    <tr>\n",
       "      <th>28579</th>\n",
       "      <td>516710.0</td>\n",
       "      <td>524685.288317</td>\n",
       "    </tr>\n",
       "    <tr>\n",
       "      <th>51883</th>\n",
       "      <td>192070.0</td>\n",
       "      <td>524685.288317</td>\n",
       "    </tr>\n",
       "    <tr>\n",
       "      <th>13619</th>\n",
       "      <td>265257.0</td>\n",
       "      <td>524685.288317</td>\n",
       "    </tr>\n",
       "  </tbody>\n",
       "</table>\n",
       "</div>"
      ],
      "text/plain": [
       "       home_value       baseline\n",
       "17506     48185.0  524685.288317\n",
       "27563    324937.0  524685.288317\n",
       "28579    516710.0  524685.288317\n",
       "51883    192070.0  524685.288317\n",
       "13619    265257.0  524685.288317"
      ]
     },
     "execution_count": 57,
     "metadata": {},
     "output_type": "execute_result"
    }
   ],
   "source": [
    "# Create dataframe with actual and baseline home value on validate\n",
    "\n",
    "validate_home_value_mean =  pd.DataFrame(validate.home_value)\n",
    "\n",
    "validate_home_value_mean[\"baseline\"]= train.home_value.mean()\n",
    "\n",
    "validate_home_value_mean.head()"
   ]
  },
  {
   "cell_type": "markdown",
   "metadata": {},
   "source": [
    "### Simple Model of Regression"
   ]
  },
  {
   "cell_type": "code",
   "execution_count": 58,
   "metadata": {},
   "outputs": [],
   "source": [
    "from sklearn.linear_model import LinearRegression\n",
    "\n",
    "\n",
    "\n",
    "# 1. make the thing\n",
    "lm = LinearRegression()\n",
    "# 2. fit the thing\n",
    "lm.fit(X_train, y_train)\n",
    "# 3. use the thing (make predictions)\n",
    "lm_predict = train_s.drop(columns=['home_value', 'fips', 'year'])\n",
    "home_value_mean['simple_lm'] = lm.predict(lm_predict)\n",
    "\n",
    "valid_s_lm_predict = valid_s.drop(columns=['home_value', 'fips', 'year'])\n",
    "validate_home_value_mean['simple_lm'] = lm.predict(valid_s_lm_predict)"
   ]
  },
  {
   "cell_type": "code",
   "execution_count": 59,
   "metadata": {},
   "outputs": [
    {
     "data": {
      "text/html": [
       "<div>\n",
       "<style scoped>\n",
       "    .dataframe tbody tr th:only-of-type {\n",
       "        vertical-align: middle;\n",
       "    }\n",
       "\n",
       "    .dataframe tbody tr th {\n",
       "        vertical-align: top;\n",
       "    }\n",
       "\n",
       "    .dataframe thead th {\n",
       "        text-align: right;\n",
       "    }\n",
       "</style>\n",
       "<table border=\"1\" class=\"dataframe\">\n",
       "  <thead>\n",
       "    <tr style=\"text-align: right;\">\n",
       "      <th></th>\n",
       "      <th>home_value</th>\n",
       "      <th>baseline</th>\n",
       "      <th>simple_lm</th>\n",
       "    </tr>\n",
       "  </thead>\n",
       "  <tbody>\n",
       "    <tr>\n",
       "      <th>50541</th>\n",
       "      <td>686554.0</td>\n",
       "      <td>524685.288317</td>\n",
       "      <td>7.095288e+05</td>\n",
       "    </tr>\n",
       "    <tr>\n",
       "      <th>22959</th>\n",
       "      <td>112711.0</td>\n",
       "      <td>524685.288317</td>\n",
       "      <td>3.749401e+05</td>\n",
       "    </tr>\n",
       "    <tr>\n",
       "      <th>32939</th>\n",
       "      <td>227008.0</td>\n",
       "      <td>524685.288317</td>\n",
       "      <td>2.960199e+05</td>\n",
       "    </tr>\n",
       "    <tr>\n",
       "      <th>26019</th>\n",
       "      <td>2100339.0</td>\n",
       "      <td>524685.288317</td>\n",
       "      <td>1.057387e+06</td>\n",
       "    </tr>\n",
       "    <tr>\n",
       "      <th>35209</th>\n",
       "      <td>347952.0</td>\n",
       "      <td>524685.288317</td>\n",
       "      <td>8.360272e+05</td>\n",
       "    </tr>\n",
       "  </tbody>\n",
       "</table>\n",
       "</div>"
      ],
      "text/plain": [
       "       home_value       baseline     simple_lm\n",
       "50541    686554.0  524685.288317  7.095288e+05\n",
       "22959    112711.0  524685.288317  3.749401e+05\n",
       "32939    227008.0  524685.288317  2.960199e+05\n",
       "26019   2100339.0  524685.288317  1.057387e+06\n",
       "35209    347952.0  524685.288317  8.360272e+05"
      ]
     },
     "execution_count": 59,
     "metadata": {},
     "output_type": "execute_result"
    }
   ],
   "source": [
    "home_value_mean.head()"
   ]
  },
  {
   "cell_type": "code",
   "execution_count": 60,
   "metadata": {},
   "outputs": [
    {
     "data": {
      "text/html": [
       "<div>\n",
       "<style scoped>\n",
       "    .dataframe tbody tr th:only-of-type {\n",
       "        vertical-align: middle;\n",
       "    }\n",
       "\n",
       "    .dataframe tbody tr th {\n",
       "        vertical-align: top;\n",
       "    }\n",
       "\n",
       "    .dataframe thead th {\n",
       "        text-align: right;\n",
       "    }\n",
       "</style>\n",
       "<table border=\"1\" class=\"dataframe\">\n",
       "  <thead>\n",
       "    <tr style=\"text-align: right;\">\n",
       "      <th></th>\n",
       "      <th>home_value</th>\n",
       "      <th>baseline</th>\n",
       "      <th>simple_lm</th>\n",
       "    </tr>\n",
       "  </thead>\n",
       "  <tbody>\n",
       "    <tr>\n",
       "      <th>17506</th>\n",
       "      <td>48185.0</td>\n",
       "      <td>524685.288317</td>\n",
       "      <td>146668.594646</td>\n",
       "    </tr>\n",
       "    <tr>\n",
       "      <th>27563</th>\n",
       "      <td>324937.0</td>\n",
       "      <td>524685.288317</td>\n",
       "      <td>938741.817520</td>\n",
       "    </tr>\n",
       "    <tr>\n",
       "      <th>28579</th>\n",
       "      <td>516710.0</td>\n",
       "      <td>524685.288317</td>\n",
       "      <td>418141.910537</td>\n",
       "    </tr>\n",
       "    <tr>\n",
       "      <th>51883</th>\n",
       "      <td>192070.0</td>\n",
       "      <td>524685.288317</td>\n",
       "      <td>148610.386016</td>\n",
       "    </tr>\n",
       "    <tr>\n",
       "      <th>13619</th>\n",
       "      <td>265257.0</td>\n",
       "      <td>524685.288317</td>\n",
       "      <td>84877.694826</td>\n",
       "    </tr>\n",
       "  </tbody>\n",
       "</table>\n",
       "</div>"
      ],
      "text/plain": [
       "       home_value       baseline      simple_lm\n",
       "17506     48185.0  524685.288317  146668.594646\n",
       "27563    324937.0  524685.288317  938741.817520\n",
       "28579    516710.0  524685.288317  418141.910537\n",
       "51883    192070.0  524685.288317  148610.386016\n",
       "13619    265257.0  524685.288317   84877.694826"
      ]
     },
     "execution_count": 60,
     "metadata": {},
     "output_type": "execute_result"
    }
   ],
   "source": [
    "validate_home_value_mean.head()"
   ]
  },
  {
   "cell_type": "code",
   "execution_count": 61,
   "metadata": {},
   "outputs": [
    {
     "data": {
      "text/html": [
       "<div>\n",
       "<style scoped>\n",
       "    .dataframe tbody tr th:only-of-type {\n",
       "        vertical-align: middle;\n",
       "    }\n",
       "\n",
       "    .dataframe tbody tr th {\n",
       "        vertical-align: top;\n",
       "    }\n",
       "\n",
       "    .dataframe thead th {\n",
       "        text-align: right;\n",
       "    }\n",
       "</style>\n",
       "<table border=\"1\" class=\"dataframe\">\n",
       "  <thead>\n",
       "    <tr style=\"text-align: right;\">\n",
       "      <th></th>\n",
       "      <th>squarefeet</th>\n",
       "      <th>lot_size</th>\n",
       "      <th>bedrooms</th>\n",
       "      <th>bathrooms</th>\n",
       "      <th>hashottuborspa</th>\n",
       "      <th>garagecarcnt</th>\n",
       "      <th>fireplace</th>\n",
       "      <th>pool</th>\n",
       "      <th>fips_encoded</th>\n",
       "      <th>home_age</th>\n",
       "    </tr>\n",
       "  </thead>\n",
       "  <tbody>\n",
       "    <tr>\n",
       "      <th>50541</th>\n",
       "      <td>0.359691</td>\n",
       "      <td>-1.648573</td>\n",
       "      <td>-1.0</td>\n",
       "      <td>0.5</td>\n",
       "      <td>0</td>\n",
       "      <td>1.0</td>\n",
       "      <td>0</td>\n",
       "      <td>0</td>\n",
       "      <td>1.0</td>\n",
       "      <td>-1.000000</td>\n",
       "    </tr>\n",
       "    <tr>\n",
       "      <th>22959</th>\n",
       "      <td>-0.570878</td>\n",
       "      <td>-0.512407</td>\n",
       "      <td>-1.0</td>\n",
       "      <td>-1.0</td>\n",
       "      <td>0</td>\n",
       "      <td>0.0</td>\n",
       "      <td>0</td>\n",
       "      <td>0</td>\n",
       "      <td>0.0</td>\n",
       "      <td>1.758621</td>\n",
       "    </tr>\n",
       "    <tr>\n",
       "      <th>32939</th>\n",
       "      <td>-0.055931</td>\n",
       "      <td>-0.637407</td>\n",
       "      <td>1.0</td>\n",
       "      <td>1.0</td>\n",
       "      <td>0</td>\n",
       "      <td>0.0</td>\n",
       "      <td>0</td>\n",
       "      <td>0</td>\n",
       "      <td>0.0</td>\n",
       "      <td>-0.586207</td>\n",
       "    </tr>\n",
       "    <tr>\n",
       "      <th>26019</th>\n",
       "      <td>1.191900</td>\n",
       "      <td>1.218362</td>\n",
       "      <td>0.0</td>\n",
       "      <td>0.0</td>\n",
       "      <td>0</td>\n",
       "      <td>0.0</td>\n",
       "      <td>0</td>\n",
       "      <td>1</td>\n",
       "      <td>0.0</td>\n",
       "      <td>0.413793</td>\n",
       "    </tr>\n",
       "    <tr>\n",
       "      <th>35209</th>\n",
       "      <td>0.792671</td>\n",
       "      <td>-0.032878</td>\n",
       "      <td>0.0</td>\n",
       "      <td>0.5</td>\n",
       "      <td>0</td>\n",
       "      <td>1.0</td>\n",
       "      <td>0</td>\n",
       "      <td>1</td>\n",
       "      <td>1.0</td>\n",
       "      <td>-0.517241</td>\n",
       "    </tr>\n",
       "  </tbody>\n",
       "</table>\n",
       "</div>"
      ],
      "text/plain": [
       "       squarefeet  lot_size  bedrooms  bathrooms  hashottuborspa  \\\n",
       "50541    0.359691 -1.648573      -1.0        0.5               0   \n",
       "22959   -0.570878 -0.512407      -1.0       -1.0               0   \n",
       "32939   -0.055931 -0.637407       1.0        1.0               0   \n",
       "26019    1.191900  1.218362       0.0        0.0               0   \n",
       "35209    0.792671 -0.032878       0.0        0.5               0   \n",
       "\n",
       "       garagecarcnt  fireplace  pool  fips_encoded  home_age  \n",
       "50541           1.0          0     0           1.0 -1.000000  \n",
       "22959           0.0          0     0           0.0  1.758621  \n",
       "32939           0.0          0     0           0.0 -0.586207  \n",
       "26019           0.0          0     1           0.0  0.413793  \n",
       "35209           1.0          0     1           1.0 -0.517241  "
      ]
     },
     "execution_count": 61,
     "metadata": {},
     "output_type": "execute_result"
    }
   ],
   "source": [
    "X_train.head()"
   ]
  },
  {
   "cell_type": "code",
   "execution_count": 62,
   "metadata": {},
   "outputs": [
    {
     "data": {
      "text/plain": [
       "(array([ 4.88056710e+05, -6.80557633e+01, -1.45799118e+05,  1.12617924e+05,\n",
       "         1.36234888e+04, -2.42874586e+04, -6.20962221e+04,  6.75866714e+03,\n",
       "         4.61598413e+04,  1.12541145e+05]),\n",
       " 422427.44812306843)"
      ]
     },
     "execution_count": 62,
     "metadata": {},
     "output_type": "execute_result"
    }
   ],
   "source": [
    "lm.coef_, lm.intercept_"
   ]
  },
  {
   "cell_type": "code",
   "execution_count": 63,
   "metadata": {},
   "outputs": [
    {
     "name": "stdout",
     "output_type": "stream",
     "text": [
      "home value = 488056.710 * features + 422427.448\n"
     ]
    }
   ],
   "source": [
    "print('home value = {:.3f} * features + {:.3f}'.format(lm.coef_[0], lm.intercept_))"
   ]
  },
  {
   "cell_type": "code",
   "execution_count": 64,
   "metadata": {},
   "outputs": [
    {
     "name": "stdout",
     "output_type": "stream",
     "text": [
      "For every 1 point increase in Exam 1, we predict a 488056.71 point increase in Final Grade\n"
     ]
    }
   ],
   "source": [
    "print(f'For every 1 point increase in Exam 1, we predict a {lm.coef_[0]:.2f} point increase in Final Grade')"
   ]
  },
  {
   "cell_type": "markdown",
   "metadata": {},
   "source": [
    "x_pred = np.array([-25, 100]).reshape(-1, 1)\n",
    "y_pred = lm.predict(x_pred)\n",
    "\n",
    "plt.figure(figsize=(16, 9))\n",
    "plt.scatter(train_s.exam1, train_s.home_value, label='actual')\n",
    "plt.scatter(train.exam1, lm.predict(lm_predict), label='simple_lm')\n",
    "plt.plot(x_pred, y_pred, ls='--', c='black', label='linear model prediction line')\n",
    "plt.hlines(0, -25, 100, ls=':', color='grey')\n",
    "plt.vlines(0, -10, 100, ls=':', color='grey')\n",
    "\n",
    "plt.xlabel('Exam 1')\n",
    "plt.ylabel('Final Grade')\n",
    "plt.legend()"
   ]
  },
  {
   "cell_type": "markdown",
   "metadata": {},
   "source": [
    "### Lasso Lars"
   ]
  },
  {
   "cell_type": "code",
   "execution_count": 65,
   "metadata": {},
   "outputs": [],
   "source": [
    "from sklearn.linear_model import LassoLars"
   ]
  },
  {
   "cell_type": "code",
   "execution_count": 66,
   "metadata": {},
   "outputs": [
    {
     "name": "stderr",
     "output_type": "stream",
     "text": [
      "/usr/local/anaconda3/lib/python3.9/site-packages/sklearn/linear_model/_base.py:133: FutureWarning: The default of 'normalize' will be set to False in version 1.2 and deprecated in version 1.4.\n",
      "If you wish to scale the data, use Pipeline with a StandardScaler in a preprocessing stage. To reproduce the previous behavior:\n",
      "\n",
      "from sklearn.pipeline import make_pipeline\n",
      "\n",
      "model = make_pipeline(StandardScaler(with_mean=False), LassoLars())\n",
      "\n",
      "If you wish to pass a sample_weight parameter, you need to pass it as a fit parameter to each step of the pipeline as follows:\n",
      "\n",
      "kwargs = {s[0] + '__sample_weight': sample_weight for s in model.steps}\n",
      "model.fit(X, y, **kwargs)\n",
      "\n",
      "Set parameter alpha to: original_alpha * np.sqrt(n_samples). \n",
      "  warnings.warn(\n"
     ]
    },
    {
     "data": {
      "text/html": [
       "<div>\n",
       "<style scoped>\n",
       "    .dataframe tbody tr th:only-of-type {\n",
       "        vertical-align: middle;\n",
       "    }\n",
       "\n",
       "    .dataframe tbody tr th {\n",
       "        vertical-align: top;\n",
       "    }\n",
       "\n",
       "    .dataframe thead th {\n",
       "        text-align: right;\n",
       "    }\n",
       "</style>\n",
       "<table border=\"1\" class=\"dataframe\">\n",
       "  <thead>\n",
       "    <tr style=\"text-align: right;\">\n",
       "      <th></th>\n",
       "      <th>home_value</th>\n",
       "      <th>baseline</th>\n",
       "      <th>simple_lm</th>\n",
       "      <th>lasso_lars</th>\n",
       "    </tr>\n",
       "  </thead>\n",
       "  <tbody>\n",
       "    <tr>\n",
       "      <th>50541</th>\n",
       "      <td>686554.0</td>\n",
       "      <td>524685.288317</td>\n",
       "      <td>7.095288e+05</td>\n",
       "      <td>7.090265e+05</td>\n",
       "    </tr>\n",
       "    <tr>\n",
       "      <th>22959</th>\n",
       "      <td>112711.0</td>\n",
       "      <td>524685.288317</td>\n",
       "      <td>3.749401e+05</td>\n",
       "      <td>3.722275e+05</td>\n",
       "    </tr>\n",
       "    <tr>\n",
       "      <th>32939</th>\n",
       "      <td>227008.0</td>\n",
       "      <td>524685.288317</td>\n",
       "      <td>2.960199e+05</td>\n",
       "      <td>2.987517e+05</td>\n",
       "    </tr>\n",
       "    <tr>\n",
       "      <th>26019</th>\n",
       "      <td>2100339.0</td>\n",
       "      <td>524685.288317</td>\n",
       "      <td>1.057387e+06</td>\n",
       "      <td>1.053043e+06</td>\n",
       "    </tr>\n",
       "    <tr>\n",
       "      <th>35209</th>\n",
       "      <td>347952.0</td>\n",
       "      <td>524685.288317</td>\n",
       "      <td>8.360272e+05</td>\n",
       "      <td>8.347469e+05</td>\n",
       "    </tr>\n",
       "    <tr>\n",
       "      <th>...</th>\n",
       "      <td>...</td>\n",
       "      <td>...</td>\n",
       "      <td>...</td>\n",
       "      <td>...</td>\n",
       "    </tr>\n",
       "    <tr>\n",
       "      <th>38988</th>\n",
       "      <td>429746.0</td>\n",
       "      <td>524685.288317</td>\n",
       "      <td>2.668752e+05</td>\n",
       "      <td>2.698330e+05</td>\n",
       "    </tr>\n",
       "    <tr>\n",
       "      <th>26488</th>\n",
       "      <td>745000.0</td>\n",
       "      <td>524685.288317</td>\n",
       "      <td>3.777112e+05</td>\n",
       "      <td>3.778496e+05</td>\n",
       "    </tr>\n",
       "    <tr>\n",
       "      <th>16626</th>\n",
       "      <td>460000.0</td>\n",
       "      <td>524685.288317</td>\n",
       "      <td>1.364784e+05</td>\n",
       "      <td>1.405016e+05</td>\n",
       "    </tr>\n",
       "    <tr>\n",
       "      <th>13378</th>\n",
       "      <td>324210.0</td>\n",
       "      <td>524685.288317</td>\n",
       "      <td>9.663543e+04</td>\n",
       "      <td>1.006749e+05</td>\n",
       "    </tr>\n",
       "    <tr>\n",
       "      <th>19852</th>\n",
       "      <td>403192.0</td>\n",
       "      <td>524685.288317</td>\n",
       "      <td>3.167441e+05</td>\n",
       "      <td>3.151718e+05</td>\n",
       "    </tr>\n",
       "  </tbody>\n",
       "</table>\n",
       "<p>29093 rows × 4 columns</p>\n",
       "</div>"
      ],
      "text/plain": [
       "       home_value       baseline     simple_lm    lasso_lars\n",
       "50541    686554.0  524685.288317  7.095288e+05  7.090265e+05\n",
       "22959    112711.0  524685.288317  3.749401e+05  3.722275e+05\n",
       "32939    227008.0  524685.288317  2.960199e+05  2.987517e+05\n",
       "26019   2100339.0  524685.288317  1.057387e+06  1.053043e+06\n",
       "35209    347952.0  524685.288317  8.360272e+05  8.347469e+05\n",
       "...           ...            ...           ...           ...\n",
       "38988    429746.0  524685.288317  2.668752e+05  2.698330e+05\n",
       "26488    745000.0  524685.288317  3.777112e+05  3.778496e+05\n",
       "16626    460000.0  524685.288317  1.364784e+05  1.405016e+05\n",
       "13378    324210.0  524685.288317  9.663543e+04  1.006749e+05\n",
       "19852    403192.0  524685.288317  3.167441e+05  3.151718e+05\n",
       "\n",
       "[29093 rows x 4 columns]"
      ]
     },
     "execution_count": 66,
     "metadata": {},
     "output_type": "execute_result"
    }
   ],
   "source": [
    "# create the model object\n",
    "lars = LassoLars(alpha=5)\n",
    "\n",
    "# fit the model to our training data= \n",
    "lars.fit(X_train, y_train)\n",
    "\n",
    "# predict train\n",
    "X_train_pred_lars = lars.predict(train_s.drop(columns=['home_value', 'fips', 'year']))\n",
    "\n",
    "# Add lassolars predictions to our predictions DataFrame\n",
    "home_value_mean['lasso_lars'] = X_train_pred_lars\n",
    "\n",
    "home_value_mean"
   ]
  },
  {
   "cell_type": "code",
   "execution_count": 67,
   "metadata": {},
   "outputs": [
    {
     "data": {
      "text/plain": [
       "bedrooms         -142996.710064\n",
       "fireplace         -56497.168226\n",
       "garagecarcnt       -8619.725337\n",
       "lot_size             -35.448505\n",
       "pool                5097.873074\n",
       "hashottuborspa      5678.941644\n",
       "fips_encoded       31771.667515\n",
       "home_age          110322.745779\n",
       "bathrooms         110474.857126\n",
       "squarefeet        485974.893531\n",
       "dtype: float64"
      ]
     },
     "execution_count": 67,
     "metadata": {},
     "output_type": "execute_result"
    }
   ],
   "source": [
    "pd.Series(lars.coef_, index=X_train.columns).sort_values()"
   ]
  },
  {
   "cell_type": "code",
   "execution_count": 68,
   "metadata": {},
   "outputs": [
    {
     "name": "stderr",
     "output_type": "stream",
     "text": [
      "/usr/local/anaconda3/lib/python3.9/site-packages/sklearn/linear_model/_base.py:133: FutureWarning: The default of 'normalize' will be set to False in version 1.2 and deprecated in version 1.4.\n",
      "If you wish to scale the data, use Pipeline with a StandardScaler in a preprocessing stage. To reproduce the previous behavior:\n",
      "\n",
      "from sklearn.pipeline import make_pipeline\n",
      "\n",
      "model = make_pipeline(StandardScaler(with_mean=False), LassoLars())\n",
      "\n",
      "If you wish to pass a sample_weight parameter, you need to pass it as a fit parameter to each step of the pipeline as follows:\n",
      "\n",
      "kwargs = {s[0] + '__sample_weight': sample_weight for s in model.steps}\n",
      "model.fit(X, y, **kwargs)\n",
      "\n",
      "Set parameter alpha to: original_alpha * np.sqrt(n_samples). \n",
      "  warnings.warn(\n"
     ]
    },
    {
     "data": {
      "text/html": [
       "<div>\n",
       "<style scoped>\n",
       "    .dataframe tbody tr th:only-of-type {\n",
       "        vertical-align: middle;\n",
       "    }\n",
       "\n",
       "    .dataframe tbody tr th {\n",
       "        vertical-align: top;\n",
       "    }\n",
       "\n",
       "    .dataframe thead th {\n",
       "        text-align: right;\n",
       "    }\n",
       "</style>\n",
       "<table border=\"1\" class=\"dataframe\">\n",
       "  <thead>\n",
       "    <tr style=\"text-align: right;\">\n",
       "      <th></th>\n",
       "      <th>home_value</th>\n",
       "      <th>baseline</th>\n",
       "      <th>simple_lm</th>\n",
       "      <th>lasso_lars</th>\n",
       "    </tr>\n",
       "  </thead>\n",
       "  <tbody>\n",
       "    <tr>\n",
       "      <th>17506</th>\n",
       "      <td>48185.0</td>\n",
       "      <td>524685.288317</td>\n",
       "      <td>1.466686e+05</td>\n",
       "      <td>1.432570e+05</td>\n",
       "    </tr>\n",
       "    <tr>\n",
       "      <th>27563</th>\n",
       "      <td>324937.0</td>\n",
       "      <td>524685.288317</td>\n",
       "      <td>9.387418e+05</td>\n",
       "      <td>9.393757e+05</td>\n",
       "    </tr>\n",
       "    <tr>\n",
       "      <th>28579</th>\n",
       "      <td>516710.0</td>\n",
       "      <td>524685.288317</td>\n",
       "      <td>4.181419e+05</td>\n",
       "      <td>4.137264e+05</td>\n",
       "    </tr>\n",
       "    <tr>\n",
       "      <th>51883</th>\n",
       "      <td>192070.0</td>\n",
       "      <td>524685.288317</td>\n",
       "      <td>1.486104e+05</td>\n",
       "      <td>1.507788e+05</td>\n",
       "    </tr>\n",
       "    <tr>\n",
       "      <th>13619</th>\n",
       "      <td>265257.0</td>\n",
       "      <td>524685.288317</td>\n",
       "      <td>8.487769e+04</td>\n",
       "      <td>8.668489e+04</td>\n",
       "    </tr>\n",
       "    <tr>\n",
       "      <th>...</th>\n",
       "      <td>...</td>\n",
       "      <td>...</td>\n",
       "      <td>...</td>\n",
       "      <td>...</td>\n",
       "    </tr>\n",
       "    <tr>\n",
       "      <th>36100</th>\n",
       "      <td>367689.0</td>\n",
       "      <td>524685.288317</td>\n",
       "      <td>7.450093e+05</td>\n",
       "      <td>7.440821e+05</td>\n",
       "    </tr>\n",
       "    <tr>\n",
       "      <th>4102</th>\n",
       "      <td>190866.0</td>\n",
       "      <td>524685.288317</td>\n",
       "      <td>1.674385e+05</td>\n",
       "      <td>1.706175e+05</td>\n",
       "    </tr>\n",
       "    <tr>\n",
       "      <th>17728</th>\n",
       "      <td>126078.0</td>\n",
       "      <td>524685.288317</td>\n",
       "      <td>1.275601e+06</td>\n",
       "      <td>1.269727e+06</td>\n",
       "    </tr>\n",
       "    <tr>\n",
       "      <th>45766</th>\n",
       "      <td>1256551.0</td>\n",
       "      <td>524685.288317</td>\n",
       "      <td>2.003453e+06</td>\n",
       "      <td>1.995110e+06</td>\n",
       "    </tr>\n",
       "    <tr>\n",
       "      <th>23865</th>\n",
       "      <td>837622.0</td>\n",
       "      <td>524685.288317</td>\n",
       "      <td>7.376077e+05</td>\n",
       "      <td>7.449844e+05</td>\n",
       "    </tr>\n",
       "  </tbody>\n",
       "</table>\n",
       "<p>12469 rows × 4 columns</p>\n",
       "</div>"
      ],
      "text/plain": [
       "       home_value       baseline     simple_lm    lasso_lars\n",
       "17506     48185.0  524685.288317  1.466686e+05  1.432570e+05\n",
       "27563    324937.0  524685.288317  9.387418e+05  9.393757e+05\n",
       "28579    516710.0  524685.288317  4.181419e+05  4.137264e+05\n",
       "51883    192070.0  524685.288317  1.486104e+05  1.507788e+05\n",
       "13619    265257.0  524685.288317  8.487769e+04  8.668489e+04\n",
       "...           ...            ...           ...           ...\n",
       "36100    367689.0  524685.288317  7.450093e+05  7.440821e+05\n",
       "4102     190866.0  524685.288317  1.674385e+05  1.706175e+05\n",
       "17728    126078.0  524685.288317  1.275601e+06  1.269727e+06\n",
       "45766   1256551.0  524685.288317  2.003453e+06  1.995110e+06\n",
       "23865    837622.0  524685.288317  7.376077e+05  7.449844e+05\n",
       "\n",
       "[12469 rows x 4 columns]"
      ]
     },
     "execution_count": 68,
     "metadata": {},
     "output_type": "execute_result"
    }
   ],
   "source": [
    "# create the model object\n",
    "lars = LassoLars(alpha=5)\n",
    "\n",
    "# fit the model to our training data= \n",
    "lars.fit(X_train, y_train)\n",
    "\n",
    "# predict validate\n",
    "X_validate_pred_lars = lars.predict(valid_s.drop(columns=['home_value', 'fips', 'year']))\n",
    "\n",
    "# Add lassolars predictions to our predictions DataFrame\n",
    "validate_home_value_mean['lasso_lars'] = X_validate_pred_lars\n",
    "\n",
    "validate_home_value_mean"
   ]
  },
  {
   "cell_type": "code",
   "execution_count": 69,
   "metadata": {},
   "outputs": [],
   "source": [
    "valid_s_lm_predict = valid_s.drop(columns=['home_value', 'fips', 'year'])\n",
    "validate_home_value_mean['simple_lm'] = lm.predict(valid_s_lm_predict)"
   ]
  },
  {
   "cell_type": "markdown",
   "metadata": {},
   "source": [
    "###  Generalized Linear Model\n",
    "\n",
    "The most flexible regression algorithm, the GLM allows for different distributions, beyond just the Normal Distribution for OLS (and other models based on OLS, like LASSO). We will use the `TweedieRegressor` method to create a GLM using sklearn.\n",
    "\n",
    "> `sklearn.linear_model.TweedieRegressor(power=0, alpha=1.0)`\n",
    "\n",
    "        power = 0: Normal Distribution\n",
    "        power = 1: Poisson Distribution\n",
    "        power = (1,2): Compound Distribution\n",
    "        power = 2: Gamma Distribution\n",
    "        power = 3: Inverse Gaussian Distribution"
   ]
  },
  {
   "cell_type": "code",
   "execution_count": 70,
   "metadata": {},
   "outputs": [
    {
     "name": "stderr",
     "output_type": "stream",
     "text": [
      "/usr/local/anaconda3/lib/python3.9/site-packages/sklearn/linear_model/_glm/glm.py:323: ConvergenceWarning: lbfgs failed to converge (status=1):\n",
      "STOP: TOTAL NO. of ITERATIONS REACHED LIMIT.\n",
      "\n",
      "Increase the number of iterations (max_iter) or scale the data as shown in:\n",
      "    https://scikit-learn.org/stable/modules/preprocessing.html\n",
      "  self.n_iter_ = _check_optimize_result(\"lbfgs\", opt_res)\n"
     ]
    },
    {
     "data": {
      "text/html": [
       "<div>\n",
       "<style scoped>\n",
       "    .dataframe tbody tr th:only-of-type {\n",
       "        vertical-align: middle;\n",
       "    }\n",
       "\n",
       "    .dataframe tbody tr th {\n",
       "        vertical-align: top;\n",
       "    }\n",
       "\n",
       "    .dataframe thead th {\n",
       "        text-align: right;\n",
       "    }\n",
       "</style>\n",
       "<table border=\"1\" class=\"dataframe\">\n",
       "  <thead>\n",
       "    <tr style=\"text-align: right;\">\n",
       "      <th></th>\n",
       "      <th>home_value</th>\n",
       "      <th>baseline</th>\n",
       "      <th>simple_lm</th>\n",
       "      <th>lasso_lars</th>\n",
       "      <th>glm</th>\n",
       "    </tr>\n",
       "  </thead>\n",
       "  <tbody>\n",
       "    <tr>\n",
       "      <th>50541</th>\n",
       "      <td>686554.0</td>\n",
       "      <td>524685.288317</td>\n",
       "      <td>7.095288e+05</td>\n",
       "      <td>7.090265e+05</td>\n",
       "      <td>7.095519e+05</td>\n",
       "    </tr>\n",
       "    <tr>\n",
       "      <th>22959</th>\n",
       "      <td>112711.0</td>\n",
       "      <td>524685.288317</td>\n",
       "      <td>3.749401e+05</td>\n",
       "      <td>3.722275e+05</td>\n",
       "      <td>3.748366e+05</td>\n",
       "    </tr>\n",
       "    <tr>\n",
       "      <th>32939</th>\n",
       "      <td>227008.0</td>\n",
       "      <td>524685.288317</td>\n",
       "      <td>2.960199e+05</td>\n",
       "      <td>2.987517e+05</td>\n",
       "      <td>2.958214e+05</td>\n",
       "    </tr>\n",
       "    <tr>\n",
       "      <th>26019</th>\n",
       "      <td>2100339.0</td>\n",
       "      <td>524685.288317</td>\n",
       "      <td>1.057387e+06</td>\n",
       "      <td>1.053043e+06</td>\n",
       "      <td>1.057219e+06</td>\n",
       "    </tr>\n",
       "    <tr>\n",
       "      <th>35209</th>\n",
       "      <td>347952.0</td>\n",
       "      <td>524685.288317</td>\n",
       "      <td>8.360272e+05</td>\n",
       "      <td>8.347469e+05</td>\n",
       "      <td>8.358427e+05</td>\n",
       "    </tr>\n",
       "    <tr>\n",
       "      <th>...</th>\n",
       "      <td>...</td>\n",
       "      <td>...</td>\n",
       "      <td>...</td>\n",
       "      <td>...</td>\n",
       "      <td>...</td>\n",
       "    </tr>\n",
       "    <tr>\n",
       "      <th>38988</th>\n",
       "      <td>429746.0</td>\n",
       "      <td>524685.288317</td>\n",
       "      <td>2.668752e+05</td>\n",
       "      <td>2.698330e+05</td>\n",
       "      <td>2.667846e+05</td>\n",
       "    </tr>\n",
       "    <tr>\n",
       "      <th>26488</th>\n",
       "      <td>745000.0</td>\n",
       "      <td>524685.288317</td>\n",
       "      <td>3.777112e+05</td>\n",
       "      <td>3.778496e+05</td>\n",
       "      <td>3.775812e+05</td>\n",
       "    </tr>\n",
       "    <tr>\n",
       "      <th>16626</th>\n",
       "      <td>460000.0</td>\n",
       "      <td>524685.288317</td>\n",
       "      <td>1.364784e+05</td>\n",
       "      <td>1.405016e+05</td>\n",
       "      <td>1.363067e+05</td>\n",
       "    </tr>\n",
       "    <tr>\n",
       "      <th>13378</th>\n",
       "      <td>324210.0</td>\n",
       "      <td>524685.288317</td>\n",
       "      <td>9.663543e+04</td>\n",
       "      <td>1.006749e+05</td>\n",
       "      <td>9.653697e+04</td>\n",
       "    </tr>\n",
       "    <tr>\n",
       "      <th>19852</th>\n",
       "      <td>403192.0</td>\n",
       "      <td>524685.288317</td>\n",
       "      <td>3.167441e+05</td>\n",
       "      <td>3.151718e+05</td>\n",
       "      <td>3.166589e+05</td>\n",
       "    </tr>\n",
       "  </tbody>\n",
       "</table>\n",
       "<p>29093 rows × 5 columns</p>\n",
       "</div>"
      ],
      "text/plain": [
       "       home_value       baseline     simple_lm    lasso_lars           glm\n",
       "50541    686554.0  524685.288317  7.095288e+05  7.090265e+05  7.095519e+05\n",
       "22959    112711.0  524685.288317  3.749401e+05  3.722275e+05  3.748366e+05\n",
       "32939    227008.0  524685.288317  2.960199e+05  2.987517e+05  2.958214e+05\n",
       "26019   2100339.0  524685.288317  1.057387e+06  1.053043e+06  1.057219e+06\n",
       "35209    347952.0  524685.288317  8.360272e+05  8.347469e+05  8.358427e+05\n",
       "...           ...            ...           ...           ...           ...\n",
       "38988    429746.0  524685.288317  2.668752e+05  2.698330e+05  2.667846e+05\n",
       "26488    745000.0  524685.288317  3.777112e+05  3.778496e+05  3.775812e+05\n",
       "16626    460000.0  524685.288317  1.364784e+05  1.405016e+05  1.363067e+05\n",
       "13378    324210.0  524685.288317  9.663543e+04  1.006749e+05  9.653697e+04\n",
       "19852    403192.0  524685.288317  3.167441e+05  3.151718e+05  3.166589e+05\n",
       "\n",
       "[29093 rows x 5 columns]"
      ]
     },
     "execution_count": 70,
     "metadata": {},
     "output_type": "execute_result"
    }
   ],
   "source": [
    "from sklearn.linear_model import TweedieRegressor\n",
    "\n",
    "# create the model object\n",
    "glm = TweedieRegressor(power=0, alpha=0)\n",
    "\n",
    "# fit the model to our training data\n",
    "glm.fit(X_train, y_train)\n",
    "\n",
    "# predict train\n",
    "X_train_predict_glm = glm.predict(train_s.drop(columns=['home_value', 'fips', 'year']))\n",
    "\n",
    "# Add lassolars predictions to our predictions DataFrame\n",
    "home_value_mean['glm'] = X_train_predict_glm\n",
    "\n",
    "home_value_mean"
   ]
  },
  {
   "cell_type": "code",
   "execution_count": 71,
   "metadata": {},
   "outputs": [
    {
     "name": "stderr",
     "output_type": "stream",
     "text": [
      "/usr/local/anaconda3/lib/python3.9/site-packages/sklearn/linear_model/_glm/glm.py:323: ConvergenceWarning: lbfgs failed to converge (status=1):\n",
      "STOP: TOTAL NO. of ITERATIONS REACHED LIMIT.\n",
      "\n",
      "Increase the number of iterations (max_iter) or scale the data as shown in:\n",
      "    https://scikit-learn.org/stable/modules/preprocessing.html\n",
      "  self.n_iter_ = _check_optimize_result(\"lbfgs\", opt_res)\n"
     ]
    },
    {
     "data": {
      "text/html": [
       "<div>\n",
       "<style scoped>\n",
       "    .dataframe tbody tr th:only-of-type {\n",
       "        vertical-align: middle;\n",
       "    }\n",
       "\n",
       "    .dataframe tbody tr th {\n",
       "        vertical-align: top;\n",
       "    }\n",
       "\n",
       "    .dataframe thead th {\n",
       "        text-align: right;\n",
       "    }\n",
       "</style>\n",
       "<table border=\"1\" class=\"dataframe\">\n",
       "  <thead>\n",
       "    <tr style=\"text-align: right;\">\n",
       "      <th></th>\n",
       "      <th>home_value</th>\n",
       "      <th>baseline</th>\n",
       "      <th>simple_lm</th>\n",
       "      <th>lasso_lars</th>\n",
       "      <th>glm</th>\n",
       "    </tr>\n",
       "  </thead>\n",
       "  <tbody>\n",
       "    <tr>\n",
       "      <th>17506</th>\n",
       "      <td>48185.0</td>\n",
       "      <td>524685.288317</td>\n",
       "      <td>1.466686e+05</td>\n",
       "      <td>1.432570e+05</td>\n",
       "      <td>1.466445e+05</td>\n",
       "    </tr>\n",
       "    <tr>\n",
       "      <th>27563</th>\n",
       "      <td>324937.0</td>\n",
       "      <td>524685.288317</td>\n",
       "      <td>9.387418e+05</td>\n",
       "      <td>9.393757e+05</td>\n",
       "      <td>9.387635e+05</td>\n",
       "    </tr>\n",
       "    <tr>\n",
       "      <th>28579</th>\n",
       "      <td>516710.0</td>\n",
       "      <td>524685.288317</td>\n",
       "      <td>4.181419e+05</td>\n",
       "      <td>4.137264e+05</td>\n",
       "      <td>4.184509e+05</td>\n",
       "    </tr>\n",
       "    <tr>\n",
       "      <th>51883</th>\n",
       "      <td>192070.0</td>\n",
       "      <td>524685.288317</td>\n",
       "      <td>1.486104e+05</td>\n",
       "      <td>1.507788e+05</td>\n",
       "      <td>1.485074e+05</td>\n",
       "    </tr>\n",
       "    <tr>\n",
       "      <th>13619</th>\n",
       "      <td>265257.0</td>\n",
       "      <td>524685.288317</td>\n",
       "      <td>8.487769e+04</td>\n",
       "      <td>8.668489e+04</td>\n",
       "      <td>8.473595e+04</td>\n",
       "    </tr>\n",
       "    <tr>\n",
       "      <th>...</th>\n",
       "      <td>...</td>\n",
       "      <td>...</td>\n",
       "      <td>...</td>\n",
       "      <td>...</td>\n",
       "      <td>...</td>\n",
       "    </tr>\n",
       "    <tr>\n",
       "      <th>36100</th>\n",
       "      <td>367689.0</td>\n",
       "      <td>524685.288317</td>\n",
       "      <td>7.450093e+05</td>\n",
       "      <td>7.440821e+05</td>\n",
       "      <td>7.449414e+05</td>\n",
       "    </tr>\n",
       "    <tr>\n",
       "      <th>4102</th>\n",
       "      <td>190866.0</td>\n",
       "      <td>524685.288317</td>\n",
       "      <td>1.674385e+05</td>\n",
       "      <td>1.706175e+05</td>\n",
       "      <td>1.673355e+05</td>\n",
       "    </tr>\n",
       "    <tr>\n",
       "      <th>17728</th>\n",
       "      <td>126078.0</td>\n",
       "      <td>524685.288317</td>\n",
       "      <td>1.275601e+06</td>\n",
       "      <td>1.269727e+06</td>\n",
       "      <td>1.275694e+06</td>\n",
       "    </tr>\n",
       "    <tr>\n",
       "      <th>45766</th>\n",
       "      <td>1256551.0</td>\n",
       "      <td>524685.288317</td>\n",
       "      <td>2.003453e+06</td>\n",
       "      <td>1.995110e+06</td>\n",
       "      <td>2.003278e+06</td>\n",
       "    </tr>\n",
       "    <tr>\n",
       "      <th>23865</th>\n",
       "      <td>837622.0</td>\n",
       "      <td>524685.288317</td>\n",
       "      <td>7.376077e+05</td>\n",
       "      <td>7.449844e+05</td>\n",
       "      <td>7.377508e+05</td>\n",
       "    </tr>\n",
       "  </tbody>\n",
       "</table>\n",
       "<p>12469 rows × 5 columns</p>\n",
       "</div>"
      ],
      "text/plain": [
       "       home_value       baseline     simple_lm    lasso_lars           glm\n",
       "17506     48185.0  524685.288317  1.466686e+05  1.432570e+05  1.466445e+05\n",
       "27563    324937.0  524685.288317  9.387418e+05  9.393757e+05  9.387635e+05\n",
       "28579    516710.0  524685.288317  4.181419e+05  4.137264e+05  4.184509e+05\n",
       "51883    192070.0  524685.288317  1.486104e+05  1.507788e+05  1.485074e+05\n",
       "13619    265257.0  524685.288317  8.487769e+04  8.668489e+04  8.473595e+04\n",
       "...           ...            ...           ...           ...           ...\n",
       "36100    367689.0  524685.288317  7.450093e+05  7.440821e+05  7.449414e+05\n",
       "4102     190866.0  524685.288317  1.674385e+05  1.706175e+05  1.673355e+05\n",
       "17728    126078.0  524685.288317  1.275601e+06  1.269727e+06  1.275694e+06\n",
       "45766   1256551.0  524685.288317  2.003453e+06  1.995110e+06  2.003278e+06\n",
       "23865    837622.0  524685.288317  7.376077e+05  7.449844e+05  7.377508e+05\n",
       "\n",
       "[12469 rows x 5 columns]"
      ]
     },
     "execution_count": 71,
     "metadata": {},
     "output_type": "execute_result"
    }
   ],
   "source": [
    "# create the model object\n",
    "glm = TweedieRegressor(power=0, alpha=0)\n",
    "\n",
    "# fit the model to our training data\n",
    "glm.fit(X_train, y_train)\n",
    "\n",
    "# predict validate\n",
    "X_validate_predict_glm = glm.predict(valid_s.drop(columns=['home_value', 'fips', 'year']))\n",
    "\n",
    "# Add lassolars predictions to our predictions DataFrame\n",
    "validate_home_value_mean['glm'] = X_validate_predict_glm\n",
    "\n",
    "validate_home_value_mean"
   ]
  },
  {
   "cell_type": "markdown",
   "metadata": {},
   "source": [
    "### Comparison of models by evaluating with RMSE"
   ]
  },
  {
   "cell_type": "code",
   "execution_count": 72,
   "metadata": {},
   "outputs": [
    {
     "data": {
      "text/html": [
       "<div>\n",
       "<style scoped>\n",
       "    .dataframe tbody tr th:only-of-type {\n",
       "        vertical-align: middle;\n",
       "    }\n",
       "\n",
       "    .dataframe tbody tr th {\n",
       "        vertical-align: top;\n",
       "    }\n",
       "\n",
       "    .dataframe thead th {\n",
       "        text-align: right;\n",
       "    }\n",
       "</style>\n",
       "<table border=\"1\" class=\"dataframe\">\n",
       "  <thead>\n",
       "    <tr style=\"text-align: right;\">\n",
       "      <th></th>\n",
       "      <th>home_value</th>\n",
       "      <th>baseline</th>\n",
       "      <th>simple_lm</th>\n",
       "      <th>lasso_lars</th>\n",
       "      <th>glm</th>\n",
       "    </tr>\n",
       "  </thead>\n",
       "  <tbody>\n",
       "    <tr>\n",
       "      <th>50541</th>\n",
       "      <td>686554.0</td>\n",
       "      <td>524685.288317</td>\n",
       "      <td>7.095288e+05</td>\n",
       "      <td>7.090265e+05</td>\n",
       "      <td>7.095519e+05</td>\n",
       "    </tr>\n",
       "    <tr>\n",
       "      <th>22959</th>\n",
       "      <td>112711.0</td>\n",
       "      <td>524685.288317</td>\n",
       "      <td>3.749401e+05</td>\n",
       "      <td>3.722275e+05</td>\n",
       "      <td>3.748366e+05</td>\n",
       "    </tr>\n",
       "    <tr>\n",
       "      <th>32939</th>\n",
       "      <td>227008.0</td>\n",
       "      <td>524685.288317</td>\n",
       "      <td>2.960199e+05</td>\n",
       "      <td>2.987517e+05</td>\n",
       "      <td>2.958214e+05</td>\n",
       "    </tr>\n",
       "    <tr>\n",
       "      <th>26019</th>\n",
       "      <td>2100339.0</td>\n",
       "      <td>524685.288317</td>\n",
       "      <td>1.057387e+06</td>\n",
       "      <td>1.053043e+06</td>\n",
       "      <td>1.057219e+06</td>\n",
       "    </tr>\n",
       "    <tr>\n",
       "      <th>35209</th>\n",
       "      <td>347952.0</td>\n",
       "      <td>524685.288317</td>\n",
       "      <td>8.360272e+05</td>\n",
       "      <td>8.347469e+05</td>\n",
       "      <td>8.358427e+05</td>\n",
       "    </tr>\n",
       "    <tr>\n",
       "      <th>...</th>\n",
       "      <td>...</td>\n",
       "      <td>...</td>\n",
       "      <td>...</td>\n",
       "      <td>...</td>\n",
       "      <td>...</td>\n",
       "    </tr>\n",
       "    <tr>\n",
       "      <th>38988</th>\n",
       "      <td>429746.0</td>\n",
       "      <td>524685.288317</td>\n",
       "      <td>2.668752e+05</td>\n",
       "      <td>2.698330e+05</td>\n",
       "      <td>2.667846e+05</td>\n",
       "    </tr>\n",
       "    <tr>\n",
       "      <th>26488</th>\n",
       "      <td>745000.0</td>\n",
       "      <td>524685.288317</td>\n",
       "      <td>3.777112e+05</td>\n",
       "      <td>3.778496e+05</td>\n",
       "      <td>3.775812e+05</td>\n",
       "    </tr>\n",
       "    <tr>\n",
       "      <th>16626</th>\n",
       "      <td>460000.0</td>\n",
       "      <td>524685.288317</td>\n",
       "      <td>1.364784e+05</td>\n",
       "      <td>1.405016e+05</td>\n",
       "      <td>1.363067e+05</td>\n",
       "    </tr>\n",
       "    <tr>\n",
       "      <th>13378</th>\n",
       "      <td>324210.0</td>\n",
       "      <td>524685.288317</td>\n",
       "      <td>9.663543e+04</td>\n",
       "      <td>1.006749e+05</td>\n",
       "      <td>9.653697e+04</td>\n",
       "    </tr>\n",
       "    <tr>\n",
       "      <th>19852</th>\n",
       "      <td>403192.0</td>\n",
       "      <td>524685.288317</td>\n",
       "      <td>3.167441e+05</td>\n",
       "      <td>3.151718e+05</td>\n",
       "      <td>3.166589e+05</td>\n",
       "    </tr>\n",
       "  </tbody>\n",
       "</table>\n",
       "<p>29093 rows × 5 columns</p>\n",
       "</div>"
      ],
      "text/plain": [
       "       home_value       baseline     simple_lm    lasso_lars           glm\n",
       "50541    686554.0  524685.288317  7.095288e+05  7.090265e+05  7.095519e+05\n",
       "22959    112711.0  524685.288317  3.749401e+05  3.722275e+05  3.748366e+05\n",
       "32939    227008.0  524685.288317  2.960199e+05  2.987517e+05  2.958214e+05\n",
       "26019   2100339.0  524685.288317  1.057387e+06  1.053043e+06  1.057219e+06\n",
       "35209    347952.0  524685.288317  8.360272e+05  8.347469e+05  8.358427e+05\n",
       "...           ...            ...           ...           ...           ...\n",
       "38988    429746.0  524685.288317  2.668752e+05  2.698330e+05  2.667846e+05\n",
       "26488    745000.0  524685.288317  3.777112e+05  3.778496e+05  3.775812e+05\n",
       "16626    460000.0  524685.288317  1.364784e+05  1.405016e+05  1.363067e+05\n",
       "13378    324210.0  524685.288317  9.663543e+04  1.006749e+05  9.653697e+04\n",
       "19852    403192.0  524685.288317  3.167441e+05  3.151718e+05  3.166589e+05\n",
       "\n",
       "[29093 rows x 5 columns]"
      ]
     },
     "execution_count": 72,
     "metadata": {},
     "output_type": "execute_result"
    }
   ],
   "source": [
    "# Model results on train sample\n",
    "\n",
    "home_value_mean"
   ]
  },
  {
   "cell_type": "code",
   "execution_count": 73,
   "metadata": {},
   "outputs": [
    {
     "name": "stdout",
     "output_type": "stream",
     "text": [
      "Train baseline RMSE: 710935.713834567.\n"
     ]
    },
    {
     "data": {
      "text/plain": [
       "home_value         0.000000\n",
       "simple_lm     549085.650440\n",
       "glm           549085.694982\n",
       "lasso_lars    549109.595394\n",
       "baseline      710935.713835\n",
       "dtype: float64"
      ]
     },
     "execution_count": 73,
     "metadata": {},
     "output_type": "execute_result"
    }
   ],
   "source": [
    "# Calculate root mean squared error (RMSE) for every column in the train_predictions df\n",
    "from scipy import stats\n",
    "from math import sqrt\n",
    "from sklearn.metrics import mean_squared_error, r2_score, explained_variance_score\n",
    "\n",
    "train_s_rmse = sqrt(mean_squared_error(home_value_mean['home_value'], home_value_mean.baseline))\n",
    "\n",
    "def calculate_rmse(t):\n",
    "    return sqrt(mean_squared_error(home_value_mean['home_value'], t))\n",
    "\n",
    "print('Train baseline RMSE: {}.'.format(train_s_rmse))\n",
    "home_value_mean.apply(calculate_rmse).sort_values()"
   ]
  },
  {
   "cell_type": "code",
   "execution_count": 74,
   "metadata": {},
   "outputs": [
    {
     "data": {
      "text/plain": [
       "710935.713834567"
      ]
     },
     "execution_count": 74,
     "metadata": {},
     "output_type": "execute_result"
    }
   ],
   "source": [
    "train_s_rmse"
   ]
  },
  {
   "cell_type": "code",
   "execution_count": 75,
   "metadata": {},
   "outputs": [
    {
     "data": {
      "text/html": [
       "<div>\n",
       "<style scoped>\n",
       "    .dataframe tbody tr th:only-of-type {\n",
       "        vertical-align: middle;\n",
       "    }\n",
       "\n",
       "    .dataframe tbody tr th {\n",
       "        vertical-align: top;\n",
       "    }\n",
       "\n",
       "    .dataframe thead th {\n",
       "        text-align: right;\n",
       "    }\n",
       "</style>\n",
       "<table border=\"1\" class=\"dataframe\">\n",
       "  <thead>\n",
       "    <tr style=\"text-align: right;\">\n",
       "      <th></th>\n",
       "      <th>home_value</th>\n",
       "      <th>baseline</th>\n",
       "      <th>simple_lm</th>\n",
       "      <th>lasso_lars</th>\n",
       "      <th>glm</th>\n",
       "    </tr>\n",
       "  </thead>\n",
       "  <tbody>\n",
       "    <tr>\n",
       "      <th>17506</th>\n",
       "      <td>48185.0</td>\n",
       "      <td>524685.288317</td>\n",
       "      <td>1.466686e+05</td>\n",
       "      <td>1.432570e+05</td>\n",
       "      <td>1.466445e+05</td>\n",
       "    </tr>\n",
       "    <tr>\n",
       "      <th>27563</th>\n",
       "      <td>324937.0</td>\n",
       "      <td>524685.288317</td>\n",
       "      <td>9.387418e+05</td>\n",
       "      <td>9.393757e+05</td>\n",
       "      <td>9.387635e+05</td>\n",
       "    </tr>\n",
       "    <tr>\n",
       "      <th>28579</th>\n",
       "      <td>516710.0</td>\n",
       "      <td>524685.288317</td>\n",
       "      <td>4.181419e+05</td>\n",
       "      <td>4.137264e+05</td>\n",
       "      <td>4.184509e+05</td>\n",
       "    </tr>\n",
       "    <tr>\n",
       "      <th>51883</th>\n",
       "      <td>192070.0</td>\n",
       "      <td>524685.288317</td>\n",
       "      <td>1.486104e+05</td>\n",
       "      <td>1.507788e+05</td>\n",
       "      <td>1.485074e+05</td>\n",
       "    </tr>\n",
       "    <tr>\n",
       "      <th>13619</th>\n",
       "      <td>265257.0</td>\n",
       "      <td>524685.288317</td>\n",
       "      <td>8.487769e+04</td>\n",
       "      <td>8.668489e+04</td>\n",
       "      <td>8.473595e+04</td>\n",
       "    </tr>\n",
       "    <tr>\n",
       "      <th>...</th>\n",
       "      <td>...</td>\n",
       "      <td>...</td>\n",
       "      <td>...</td>\n",
       "      <td>...</td>\n",
       "      <td>...</td>\n",
       "    </tr>\n",
       "    <tr>\n",
       "      <th>36100</th>\n",
       "      <td>367689.0</td>\n",
       "      <td>524685.288317</td>\n",
       "      <td>7.450093e+05</td>\n",
       "      <td>7.440821e+05</td>\n",
       "      <td>7.449414e+05</td>\n",
       "    </tr>\n",
       "    <tr>\n",
       "      <th>4102</th>\n",
       "      <td>190866.0</td>\n",
       "      <td>524685.288317</td>\n",
       "      <td>1.674385e+05</td>\n",
       "      <td>1.706175e+05</td>\n",
       "      <td>1.673355e+05</td>\n",
       "    </tr>\n",
       "    <tr>\n",
       "      <th>17728</th>\n",
       "      <td>126078.0</td>\n",
       "      <td>524685.288317</td>\n",
       "      <td>1.275601e+06</td>\n",
       "      <td>1.269727e+06</td>\n",
       "      <td>1.275694e+06</td>\n",
       "    </tr>\n",
       "    <tr>\n",
       "      <th>45766</th>\n",
       "      <td>1256551.0</td>\n",
       "      <td>524685.288317</td>\n",
       "      <td>2.003453e+06</td>\n",
       "      <td>1.995110e+06</td>\n",
       "      <td>2.003278e+06</td>\n",
       "    </tr>\n",
       "    <tr>\n",
       "      <th>23865</th>\n",
       "      <td>837622.0</td>\n",
       "      <td>524685.288317</td>\n",
       "      <td>7.376077e+05</td>\n",
       "      <td>7.449844e+05</td>\n",
       "      <td>7.377508e+05</td>\n",
       "    </tr>\n",
       "  </tbody>\n",
       "</table>\n",
       "<p>12469 rows × 5 columns</p>\n",
       "</div>"
      ],
      "text/plain": [
       "       home_value       baseline     simple_lm    lasso_lars           glm\n",
       "17506     48185.0  524685.288317  1.466686e+05  1.432570e+05  1.466445e+05\n",
       "27563    324937.0  524685.288317  9.387418e+05  9.393757e+05  9.387635e+05\n",
       "28579    516710.0  524685.288317  4.181419e+05  4.137264e+05  4.184509e+05\n",
       "51883    192070.0  524685.288317  1.486104e+05  1.507788e+05  1.485074e+05\n",
       "13619    265257.0  524685.288317  8.487769e+04  8.668489e+04  8.473595e+04\n",
       "...           ...            ...           ...           ...           ...\n",
       "36100    367689.0  524685.288317  7.450093e+05  7.440821e+05  7.449414e+05\n",
       "4102     190866.0  524685.288317  1.674385e+05  1.706175e+05  1.673355e+05\n",
       "17728    126078.0  524685.288317  1.275601e+06  1.269727e+06  1.275694e+06\n",
       "45766   1256551.0  524685.288317  2.003453e+06  1.995110e+06  2.003278e+06\n",
       "23865    837622.0  524685.288317  7.376077e+05  7.449844e+05  7.377508e+05\n",
       "\n",
       "[12469 rows x 5 columns]"
      ]
     },
     "execution_count": 75,
     "metadata": {},
     "output_type": "execute_result"
    }
   ],
   "source": [
    "# Model results on Validate sample\n",
    "\n",
    "validate_home_value_mean"
   ]
  },
  {
   "cell_type": "code",
   "execution_count": 76,
   "metadata": {},
   "outputs": [
    {
     "name": "stdout",
     "output_type": "stream",
     "text": [
      "Validation baseline RMSE: 759011.2013213345.\n"
     ]
    },
    {
     "data": {
      "text/plain": [
       "home_value         0.000000\n",
       "simple_lm     586836.395196\n",
       "glm           586841.289606\n",
       "lasso_lars    586936.794620\n",
       "baseline      759011.201321\n",
       "dtype: float64"
      ]
     },
     "execution_count": 76,
     "metadata": {},
     "output_type": "execute_result"
    }
   ],
   "source": [
    "# Calculate root mean squared error (RMSE) for every column in the predictions df\n",
    "\n",
    "validate_rmse = sqrt(mean_squared_error(validate_home_value_mean['home_value'], validate_home_value_mean.baseline))\n",
    "\n",
    "def calculate_rmse(v):\n",
    "    return sqrt(mean_squared_error(validate_home_value_mean['home_value'], v))\n",
    "\n",
    "print('Validation baseline RMSE: {}.'.format(validate_rmse))\n",
    "validate_home_value_mean.apply(calculate_rmse).sort_values()"
   ]
  },
  {
   "cell_type": "markdown",
   "metadata": {},
   "source": [
    "**TAKEAWAYS**\n",
    "\n",
    "- Simple LinearRegression model performed the best out of all models after evaluating the RMSE."
   ]
  },
  {
   "cell_type": "markdown",
   "metadata": {},
   "source": [
    "## Running the best model on the test sample set"
   ]
  },
  {
   "cell_type": "code",
   "execution_count": 77,
   "metadata": {},
   "outputs": [
    {
     "data": {
      "text/html": [
       "<div>\n",
       "<style scoped>\n",
       "    .dataframe tbody tr th:only-of-type {\n",
       "        vertical-align: middle;\n",
       "    }\n",
       "\n",
       "    .dataframe tbody tr th {\n",
       "        vertical-align: top;\n",
       "    }\n",
       "\n",
       "    .dataframe thead th {\n",
       "        text-align: right;\n",
       "    }\n",
       "</style>\n",
       "<table border=\"1\" class=\"dataframe\">\n",
       "  <thead>\n",
       "    <tr style=\"text-align: right;\">\n",
       "      <th></th>\n",
       "      <th>home_value</th>\n",
       "      <th>baseline_mean</th>\n",
       "    </tr>\n",
       "  </thead>\n",
       "  <tbody>\n",
       "    <tr>\n",
       "      <th>30243</th>\n",
       "      <td>1049000.0</td>\n",
       "      <td>524685.288317</td>\n",
       "    </tr>\n",
       "    <tr>\n",
       "      <th>20850</th>\n",
       "      <td>725192.0</td>\n",
       "      <td>524685.288317</td>\n",
       "    </tr>\n",
       "    <tr>\n",
       "      <th>45191</th>\n",
       "      <td>611354.0</td>\n",
       "      <td>524685.288317</td>\n",
       "    </tr>\n",
       "    <tr>\n",
       "      <th>20284</th>\n",
       "      <td>246468.0</td>\n",
       "      <td>524685.288317</td>\n",
       "    </tr>\n",
       "    <tr>\n",
       "      <th>38964</th>\n",
       "      <td>364079.0</td>\n",
       "      <td>524685.288317</td>\n",
       "    </tr>\n",
       "  </tbody>\n",
       "</table>\n",
       "</div>"
      ],
      "text/plain": [
       "       home_value  baseline_mean\n",
       "30243   1049000.0  524685.288317\n",
       "20850    725192.0  524685.288317\n",
       "45191    611354.0  524685.288317\n",
       "20284    246468.0  524685.288317\n",
       "38964    364079.0  524685.288317"
      ]
     },
     "execution_count": 77,
     "metadata": {},
     "output_type": "execute_result"
    }
   ],
   "source": [
    "#Create dataframe of predictions on test sample with baseline mean and actual price\n",
    "\n",
    "home_value_prediction =  pd.DataFrame(test.home_value)\n",
    "\n",
    "home_value_prediction[\"baseline_mean\"]= train.home_value.mean()\n",
    "\n",
    "home_value_prediction.head()\n",
    "\n"
   ]
  },
  {
   "cell_type": "code",
   "execution_count": 78,
   "metadata": {},
   "outputs": [
    {
     "data": {
      "text/html": [
       "<div>\n",
       "<style scoped>\n",
       "    .dataframe tbody tr th:only-of-type {\n",
       "        vertical-align: middle;\n",
       "    }\n",
       "\n",
       "    .dataframe tbody tr th {\n",
       "        vertical-align: top;\n",
       "    }\n",
       "\n",
       "    .dataframe thead th {\n",
       "        text-align: right;\n",
       "    }\n",
       "</style>\n",
       "<table border=\"1\" class=\"dataframe\">\n",
       "  <thead>\n",
       "    <tr style=\"text-align: right;\">\n",
       "      <th></th>\n",
       "      <th>home_value</th>\n",
       "      <th>baseline_mean</th>\n",
       "      <th>simple_lm</th>\n",
       "    </tr>\n",
       "  </thead>\n",
       "  <tbody>\n",
       "    <tr>\n",
       "      <th>30243</th>\n",
       "      <td>1049000.0</td>\n",
       "      <td>524685.288317</td>\n",
       "      <td>627281.512044</td>\n",
       "    </tr>\n",
       "    <tr>\n",
       "      <th>20850</th>\n",
       "      <td>725192.0</td>\n",
       "      <td>524685.288317</td>\n",
       "      <td>561127.122885</td>\n",
       "    </tr>\n",
       "    <tr>\n",
       "      <th>45191</th>\n",
       "      <td>611354.0</td>\n",
       "      <td>524685.288317</td>\n",
       "      <td>170827.162628</td>\n",
       "    </tr>\n",
       "    <tr>\n",
       "      <th>20284</th>\n",
       "      <td>246468.0</td>\n",
       "      <td>524685.288317</td>\n",
       "      <td>255475.933075</td>\n",
       "    </tr>\n",
       "    <tr>\n",
       "      <th>38964</th>\n",
       "      <td>364079.0</td>\n",
       "      <td>524685.288317</td>\n",
       "      <td>122921.255810</td>\n",
       "    </tr>\n",
       "    <tr>\n",
       "      <th>...</th>\n",
       "      <td>...</td>\n",
       "      <td>...</td>\n",
       "      <td>...</td>\n",
       "    </tr>\n",
       "    <tr>\n",
       "      <th>44803</th>\n",
       "      <td>322330.0</td>\n",
       "      <td>524685.288317</td>\n",
       "      <td>494485.369544</td>\n",
       "    </tr>\n",
       "    <tr>\n",
       "      <th>17028</th>\n",
       "      <td>396283.0</td>\n",
       "      <td>524685.288317</td>\n",
       "      <td>215365.121322</td>\n",
       "    </tr>\n",
       "    <tr>\n",
       "      <th>14070</th>\n",
       "      <td>198372.0</td>\n",
       "      <td>524685.288317</td>\n",
       "      <td>931077.528708</td>\n",
       "    </tr>\n",
       "    <tr>\n",
       "      <th>5186</th>\n",
       "      <td>201721.0</td>\n",
       "      <td>524685.288317</td>\n",
       "      <td>158144.883279</td>\n",
       "    </tr>\n",
       "    <tr>\n",
       "      <th>2267</th>\n",
       "      <td>748968.0</td>\n",
       "      <td>524685.288317</td>\n",
       "      <td>993279.806154</td>\n",
       "    </tr>\n",
       "  </tbody>\n",
       "</table>\n",
       "<p>10391 rows × 3 columns</p>\n",
       "</div>"
      ],
      "text/plain": [
       "       home_value  baseline_mean      simple_lm\n",
       "30243   1049000.0  524685.288317  627281.512044\n",
       "20850    725192.0  524685.288317  561127.122885\n",
       "45191    611354.0  524685.288317  170827.162628\n",
       "20284    246468.0  524685.288317  255475.933075\n",
       "38964    364079.0  524685.288317  122921.255810\n",
       "...           ...            ...            ...\n",
       "44803    322330.0  524685.288317  494485.369544\n",
       "17028    396283.0  524685.288317  215365.121322\n",
       "14070    198372.0  524685.288317  931077.528708\n",
       "5186     201721.0  524685.288317  158144.883279\n",
       "2267     748968.0  524685.288317  993279.806154\n",
       "\n",
       "[10391 rows x 3 columns]"
      ]
     },
     "execution_count": 78,
     "metadata": {},
     "output_type": "execute_result"
    }
   ],
   "source": [
    "\n",
    "\n",
    "\n",
    "# 1. make the thing\n",
    "lm = LinearRegression()\n",
    "# 2. fit the thing\n",
    "lm.fit(X_train, y_train)\n",
    "# 3. use the thing (make predictions)\n",
    "test_lm_predict = test_s.drop(columns=['home_value', 'fips', 'year'])\n",
    "home_value_prediction['simple_lm'] = lm.predict(test_lm_predict)\n",
    "\n",
    "home_value_prediction"
   ]
  },
  {
   "cell_type": "code",
   "execution_count": 79,
   "metadata": {},
   "outputs": [
    {
     "name": "stdout",
     "output_type": "stream",
     "text": [
      "Test baseline RMSE: 678243.6628106139.\n"
     ]
    },
    {
     "data": {
      "text/plain": [
       "home_value            0.000000\n",
       "simple_lm        507729.222845\n",
       "baseline_mean    678243.662811\n",
       "dtype: float64"
      ]
     },
     "execution_count": 79,
     "metadata": {},
     "output_type": "execute_result"
    }
   ],
   "source": [
    "test_rmse = sqrt(mean_squared_error(home_value_prediction['home_value'], home_value_prediction.baseline_mean))\n",
    "\n",
    "def calculate_rmse(z):\n",
    "    return sqrt(mean_squared_error(home_value_prediction['home_value'], z))\n",
    "\n",
    "print('Test baseline RMSE: {}.'.format(test_rmse))\n",
    "home_value_prediction.apply(calculate_rmse).sort_values()"
   ]
  },
  {
   "cell_type": "code",
   "execution_count": null,
   "metadata": {},
   "outputs": [],
   "source": []
  }
 ],
 "metadata": {
  "kernelspec": {
   "display_name": "Python 3.9.12 ('base')",
   "language": "python",
   "name": "python3"
  },
  "language_info": {
   "codemirror_mode": {
    "name": "ipython",
    "version": 3
   },
   "file_extension": ".py",
   "mimetype": "text/x-python",
   "name": "python",
   "nbconvert_exporter": "python",
   "pygments_lexer": "ipython3",
   "version": "3.9.12"
  },
  "orig_nbformat": 4,
  "vscode": {
   "interpreter": {
    "hash": "3067ead486e059ec00ffe7555bdb889e6e264a24dc711bf108106cc7baee8d5d"
   }
  }
 },
 "nbformat": 4,
 "nbformat_minor": 2
}
